{
  "nbformat": 4,
  "nbformat_minor": 0,
  "metadata": {
    "colab": {
      "name": "03 Multiclass Logistic Regression.ipynb",
      "provenance": [],
      "toc_visible": true
    },
    "kernelspec": {
      "name": "python3",
      "display_name": "Python 3"
    },
    "language_info": {
      "name": "python"
    }
  },
  "cells": [
    {
      "cell_type": "code",
      "metadata": {
        "id": "imcNmFXhPdCh"
      },
      "source": [
        "# Import our standard libraries.\n",
        "import numpy as np\n",
        "from matplotlib import pyplot as plt\n",
        "import seaborn as sns  # for nicer plots\n",
        "sns.set(style='darkgrid')  # default style\n",
        "import tensorflow as tf\n",
        "np.set_printoptions(precision=3, suppress=True)  # improve float readability\n",
        "from sklearn import datasets"
      ],
      "execution_count": 1,
      "outputs": []
    },
    {
      "cell_type": "markdown",
      "metadata": {
        "id": "P4mROCY5wAX4"
      },
      "source": [
        "## Iris Classification\n",
        "\n",
        "We will train a classifier to predict 3 iris varieties from 4 features of each flower. Note: we are not doing image classification here!\n",
        "\n",
        "![An image](https://drive.google.com/uc?id=12gf4Q0K45gvw-tUDt_sWsbAl-f0klhib)\n"
      ]
    },
    {
      "cell_type": "code",
      "metadata": {
        "id": "37XEUjK4ulzp",
        "outputId": "a505c21f-371c-45f0-c5b1-aa1ef96f3d42",
        "colab": {
          "base_uri": "https://localhost:8080/"
        }
      },
      "source": [
        "# Load the data\n",
        "iris = datasets.load_iris()\n",
        "X = iris.data\n",
        "Y = iris.target\n",
        "feature_names = iris.feature_names\n",
        "class_names = iris.target_names\n",
        "\n",
        "print('X shape:', X.shape)\n",
        "print('Y shape:', Y.shape)\n",
        "print('feature names:', feature_names)\n",
        "print('class names:', class_names)\n",
        "print('First example:', X[0], Y[0])"
      ],
      "execution_count": 2,
      "outputs": [
        {
          "output_type": "stream",
          "name": "stdout",
          "text": [
            "X shape: (150, 4)\n",
            "Y shape: (150,)\n",
            "feature names: ['sepal length (cm)', 'sepal width (cm)', 'petal length (cm)', 'petal width (cm)']\n",
            "class names: ['setosa' 'versicolor' 'virginica']\n",
            "First example: [5.1 3.5 1.4 0.2] 0\n"
          ]
        }
      ]
    },
    {
      "cell_type": "markdown",
      "metadata": {
        "id": "O3GC13Sf219q"
      },
      "source": [
        "## Data Processing\n",
        "\n",
        "* Shuffle\n",
        "* Split into train/test\n",
        "* Apply mean and variance normalization"
      ]
    },
    {
      "cell_type": "code",
      "metadata": {
        "id": "-sa_lrwU1oiT"
      },
      "source": [
        "np.random.seed(0)\n",
        "shuffled_indices = np.random.permutation(range(len(Y)))\n",
        "X = X[shuffled_indices]\n",
        "Y = Y[shuffled_indices]\n",
        "\n",
        "X_train = X[0:100]\n",
        "Y_train = Y[0:100]\n",
        "X_test = X[100:150]\n",
        "Y_test = Y[100:150]\n",
        "\n",
        "X_train_means = np.mean(X_train, axis=0)\n",
        "X_train_stds = np.std(X_train, axis=0)\n",
        "X_train = (X_train - X_train_means) / X_train_stds\n",
        "X_test = (X_test - X_train_means)/ X_train_stds"
      ],
      "execution_count": 3,
      "outputs": []
    },
    {
      "cell_type": "markdown",
      "metadata": {
        "id": "4jIgCYbiVAz3"
      },
      "source": [
        "## Sparse vs Dense Representation"
      ]
    },
    {
      "cell_type": "code",
      "metadata": {
        "id": "8bcduWsAbCRl",
        "outputId": "a776f9b9-453c-42c5-95cc-94b7793e438b",
        "colab": {
          "base_uri": "https://localhost:8080/"
        }
      },
      "source": [
        "# Convert Y from sparse to dense if needed\n",
        "# one-hot [0, 0, 1] -> 2\n",
        "# one-hot [0, 1, 0] -> 1\n",
        "# one-hot [1, 0, 0] -> 0\n",
        "Y_train_dense = tf.keras.utils.to_categorical(Y_train)\n",
        "print(Y_train_dense.shape)\n",
        "print(Y_train_dense[:6])"
      ],
      "execution_count": 4,
      "outputs": [
        {
          "output_type": "stream",
          "name": "stdout",
          "text": [
            "(100, 3)\n",
            "[[0. 0. 1.]\n",
            " [0. 1. 0.]\n",
            " [1. 0. 0.]\n",
            " [0. 0. 1.]\n",
            " [1. 0. 0.]\n",
            " [0. 0. 1.]]\n"
          ]
        }
      ]
    },
    {
      "cell_type": "markdown",
      "metadata": {
        "id": "FS7LIrIlVd2E"
      },
      "source": [
        "## Softmax Regression Functional Form"
      ]
    },
    {
      "cell_type": "markdown",
      "metadata": {
        "id": "_tdGfEoDovBm"
      },
      "source": [
        "We will use *softmax regression*, which extends *logistic regression* to the multiclass setting. Our model will make predictions for input examples $X$ by:\n",
        "\n",
        "\\begin{align}\n",
        "\\hat{Y} = h_W(X) = \\phi(XW^T) =\n",
        "\\phi\\begin{pmatrix}\n",
        "x_{0,0} & x_{0,1} & x_{0,2} & x_{0,3} \\\\\n",
        "x_{1,0} & x_{1,1} & x_{1,2} & x_{1,3} \\\\\n",
        "\\vdots & \\vdots & \\vdots & \\vdots \\\\\n",
        "x_{m-1,0} & x_{m-1,1} & x_{m-1,2} & x_{m-1,3} \\\\\n",
        "\\end{pmatrix}\n",
        "\\begin{pmatrix}\n",
        "w_{0,0} & w_{1,0} & w_{2,0} \\\\\n",
        "w_{0,1} & w_{1,1} & w_{2,1} \\\\\n",
        "w_{0,2} & w_{1,2} & w_{2,2} \\\\\n",
        "w_{0,3} & w_{1,3} & w_{2,3} \\\\\n",
        "\\end{pmatrix}\n",
        "\\end{align}\n",
        "\n",
        "A few notes about this computation:\n",
        "\n",
        "* Our X has shape (100 x 4): 100 examples and 4 features\n",
        "* Our W has shape (3 x 4): 3 classes and 4 features. The indices above are reversed because we've taken the transpose of W: the first column of $W^T$ contains the weights for the first class.\n",
        "* The result will have shape (100 x 3): 3 probabilities corresponding to the 3 classes for each of the 100 examples.\n",
        "* $\\phi$ is the softmax function: $\\frac{e^{z_i}}{\\sum_j e^{z_j}}$. It is applied to the rows of $XW^T$.\n",
        "\n",
        "More detailed background [here](http://deeplearning.stanford.edu/tutorial/supervised/SoftmaxRegression/)."
      ]
    },
    {
      "cell_type": "markdown",
      "metadata": {
        "id": "nAoIx-nkXhD-"
      },
      "source": [
        "## Softmax Normalization"
      ]
    },
    {
      "cell_type": "code",
      "metadata": {
        "id": "Hpah13BcCVXo",
        "outputId": "bbd26804-79e6-40b5-8b98-4e4022c81070",
        "colab": {
          "base_uri": "https://localhost:8080/"
        }
      },
      "source": [
        "# Remember the sigmoid function.\n",
        "def sigmoid(z):\n",
        "  return 1 / (1 + np.exp(-z))\n",
        "\n",
        "# Our softmax function will normalize over the rows of the input matrix.\n",
        "def softmax(z):\n",
        "  \"\"\"z has shape (m, n): examples, classes\"\"\"\n",
        "  (m, n) = z.shape\n",
        "\n",
        "  # First exponentiate each value\n",
        "  exps = np.exp(z)\n",
        "\n",
        "  # Get the sum of each row and normalize\n",
        "  row_sums = np.sum(exps, axis=1)\n",
        "  for i in range(m):\n",
        "    exps[i,:] /= row_sums[i]\n",
        "\n",
        "  # Fancy/tricky way to do row-wise sums in numpy:\n",
        "  # return np.divide(exps.T, np.sum(exps, axis=1)).T\n",
        "\n",
        "  return exps\n",
        "\n",
        "# Try an example.\n",
        "v = np.array([[1,2,3],\n",
        "              [0,2,4]])\n",
        "print(softmax(v))"
      ],
      "execution_count": 5,
      "outputs": [
        {
          "output_type": "stream",
          "name": "stdout",
          "text": [
            "[[0.09  0.245 0.665]\n",
            " [0.016 0.117 0.867]]\n"
          ]
        }
      ]
    },
    {
      "cell_type": "markdown",
      "metadata": {
        "id": "KLh6VWUfGm7_"
      },
      "source": [
        "## Making Predictions\n",
        "\n",
        "Now, given some initial parameter values (below), compute the model's initial predictions."
      ]
    },
    {
      "cell_type": "code",
      "metadata": {
        "id": "pGg1Ll4I4jR6",
        "outputId": "4760d3b2-c8cd-48bd-a891-3ae0e32eab83",
        "colab": {
          "base_uri": "https://localhost:8080/"
        }
      },
      "source": [
        "# Initial parameter values.\n",
        "# W = np.random.uniform(size=(3,4))\n",
        "W = np.ones((3,4))\n",
        "\n",
        "# Compute predictions.\n",
        "preds = softmax(np.dot(X_train, W.T))\n",
        "print('predictions:\\n', preds[:6])\n",
        "print('label predictions:\\n', np.argmax(preds, axis=1)[:6])\n",
        "print('true labels:\\n', Y_train[:6])"
      ],
      "execution_count": 6,
      "outputs": [
        {
          "output_type": "stream",
          "name": "stdout",
          "text": [
            "predictions:\n",
            " [[0.333 0.333 0.333]\n",
            " [0.333 0.333 0.333]\n",
            " [0.333 0.333 0.333]\n",
            " [0.333 0.333 0.333]\n",
            " [0.333 0.333 0.333]\n",
            " [0.333 0.333 0.333]]\n",
            "label predictions:\n",
            " [0 0 0 0 0 0]\n",
            "true labels:\n",
            " [2 1 0 2 0 2]\n"
          ]
        }
      ]
    },
    {
      "cell_type": "markdown",
      "metadata": {
        "id": "ZIbpXB4ZHPvO"
      },
      "source": [
        "## Cross-Entropy Loss\n",
        "\n",
        "We'll use the general form of *cross-entropy* loss:\n",
        "\n",
        "\\begin{align}\n",
        "CrossEntropyLoss = \\frac{1}{m} \\sum_i \\sum_j -y_j\\log(\\hat{y_j})\n",
        "\\end{align}\n",
        "\n",
        "In this formula:\n",
        "\n",
        "* $j$ indexes the classes (in our case [0,1,2]) and each $y$ has a dense representation like [0,0,1] which indicates class 2.\n",
        "* *i* indexes over training examples, so we're computing an average loss (as usual)."
      ]
    },
    {
      "cell_type": "code",
      "metadata": {
        "id": "lWxpr2OogN70",
        "outputId": "070aeddf-9d9a-4af9-b7dd-fe6bfd06d880",
        "colab": {
          "base_uri": "https://localhost:8080/"
        }
      },
      "source": [
        "def ce_loss(preds, Y):\n",
        "  \"\"\"\n",
        "    preds are (m,n) m = number of examples, n = number of classes\n",
        "    Y is (m,) -- array of sparse labels\n",
        "    preds[0] = [.1, .1, .8] Y[0] = 2 Y_dense[0] = [0, 0, 1]\n",
        "  \"\"\"\n",
        "  # Get the number of examples\n",
        "  m = Y.shape[0]\n",
        "\n",
        "  # Compute the first sum, the cross-entropy for each example, using\n",
        "  # the rows of the predictions and corresponding labels.\n",
        "  # Note that we need the dense (one-hot) labels.\n",
        "  Y_dense = tf.keras.utils.to_categorical(Y)\n",
        "  # [.1, .1, .8] [0, 0, 1] -> [0, 0, -1*log(.8)] -> -1*log(.8)\n",
        "  cross_entropy_values = - np.sum(Y_dense * np.log(preds), axis=1)\n",
        "\n",
        "  # Here's a more efficient but tricky way to do this:\n",
        "  # cross_entropy_values = -np.log(preds[range(m), Y])\n",
        "\n",
        "  # Sum the per-example cross-entropy values.\n",
        "  loss = np.sum(cross_entropy_values) / m\n",
        "\n",
        "  return loss\n",
        "\n",
        "#print(ce_loss(np.array([.1, .1, .8]), np.array([2])))\n",
        "print(ce_loss(preds, Y_train))"
      ],
      "execution_count": 7,
      "outputs": [
        {
          "output_type": "stream",
          "name": "stdout",
          "text": [
            "1.0986122886681093\n"
          ]
        }
      ]
    },
    {
      "cell_type": "markdown",
      "metadata": {
        "id": "BaRg8b1F93w9"
      },
      "source": [
        "## Computing the Gradient\n",
        "\n",
        "Again, it will turn out that the gradient computation is the same as it was for MSE with linear regression. A happy coincidence.\n",
        "\n",
        "\\begin{align}\n",
        "\\nabla J(W) &= \\frac{1}{m}(h_W(X) - Y)^TX\n",
        "\\end{align}\n",
        "\n",
        "Remember that our parameters $W$ are represented by a matrix of shape (3 x 4): 3 classes and 4 features. The gradient will include a partial derivative for every parameter, and is an average over gradients computed on each training example.\n",
        "\n",
        "Let's review the matrix shapes:\n",
        "\n",
        "* $h_W(X)$ is (100 x 3): 3 probabilities for each example.\n",
        "* $Y$ is (100 x 3): this is the dense (one-hot) version of the labels, matching the shape of the predictions.\n",
        "* $X$ is (100 x 4): 4 features for each example.\n",
        "* The resulting product is (3 x 100)(100 x 4), giving a (3 x 4) output, which matches the shape of our parameters $W$.\n"
      ]
    },
    {
      "cell_type": "code",
      "metadata": {
        "id": "0-j0soKK2qfc",
        "outputId": "c22b3b7c-7eb0-42db-af06-cc5a9d2eb688",
        "colab": {
          "base_uri": "https://localhost:8080/"
        }
      },
      "source": [
        "# y' = [.1, .2, .7]  y = [0, 0, 1]  diff = y' - y = [.1, .2, -.3]\n",
        "# d1 = [.1, .2, -.3]  x1 = [1, 2, 3, 4]\n",
        "# (3 x 100) (100 x 4) -> (3 x 4)\n",
        "# [ [ .1*1,  .1*2,  .1*3,  .1*4 ]\n",
        "#   [ .2*1,  .2*2,  .2*3,  .2*4 ]\n",
        "#   [-.3*1, -.3*2, -.3*3, -.3*4 ]\n",
        "# ]\n",
        "#\n",
        "# We need the dense version of Y here\n",
        "m = Y_train.shape[0]\n",
        "Y_train_dense = tf.keras.utils.to_categorical(Y_train)\n",
        "diff = preds - Y_train_dense\n",
        "gradient = np.dot(diff.T, X_train) / m\n",
        "print('gradient:\\n', gradient)"
      ],
      "execution_count": 8,
      "outputs": [
        {
          "output_type": "stream",
          "name": "stdout",
          "text": [
            "gradient:\n",
            " [[ 0.337 -0.28   0.431  0.411]\n",
            " [-0.042  0.191 -0.089 -0.046]\n",
            " [-0.295  0.09  -0.342 -0.365]]\n"
          ]
        }
      ]
    },
    {
      "cell_type": "code",
      "metadata": {
        "id": "ExL4G-pMAXvV",
        "outputId": "7ccdc1a3-9415-4351-de82-ed1b57ef1e70",
        "colab": {
          "base_uri": "https://localhost:8080/"
        }
      },
      "source": [
        "# Simplify and just compute the gradient for the first training example.\n",
        "print(diff[0:1].T)\n",
        "print(X_train[0:1])\n",
        "print('gradient:\\n', np.dot(diff[0:1].T, X_train[0:1]))"
      ],
      "execution_count": 9,
      "outputs": [
        {
          "output_type": "stream",
          "name": "stdout",
          "text": [
            "[[ 0.333]\n",
            " [ 0.333]\n",
            " [-0.667]]\n",
            "[[-0.017 -0.543  0.76   1.567]]\n",
            "gradient:\n",
            " [[-0.006 -0.181  0.253  0.522]\n",
            " [-0.006 -0.181  0.253  0.522]\n",
            " [ 0.011  0.362 -0.507 -1.045]]\n"
          ]
        }
      ]
    },
    {
      "cell_type": "markdown",
      "metadata": {
        "id": "VZDyrbc42rcF"
      },
      "source": [
        "## Running Gradient Descent\n",
        "\n",
        "Let's put together the code for a single gradient descent step:"
      ]
    },
    {
      "cell_type": "code",
      "metadata": {
        "id": "Zl_Nu_wB8ar4",
        "outputId": "9710ad6c-15a9-42e4-9341-9b9990793035",
        "colab": {
          "base_uri": "https://localhost:8080/"
        }
      },
      "source": [
        "# Run gradient descent\n",
        "m, n = X.shape  # m = number of examples; n = number of features (including bias)\n",
        "learning_rate = 0.01\n",
        "\n",
        "for _ in range(1000):\n",
        "  preds = softmax(np.dot(X_train, W.T))\n",
        "  loss = ce_loss(preds, Y_train)\n",
        "  gradient = np.dot((preds - tf.keras.utils.to_categorical(Y_train)).T, X_train) / m\n",
        "  W = W - learning_rate * gradient\n",
        "\n",
        "print('labels:\\n', Y_train[:6])\n",
        "print('predictions:\\n', preds[:6])\n",
        "print('loss:', loss)\n",
        "print('gradient:\\n', gradient)\n",
        "print('weights:\\n', W)"
      ],
      "execution_count": 10,
      "outputs": [
        {
          "output_type": "stream",
          "name": "stdout",
          "text": [
            "labels:\n",
            " [2 1 0 2 0 2]\n",
            "predictions:\n",
            " [[0.025 0.201 0.774]\n",
            " [0.084 0.673 0.243]\n",
            " [0.99  0.006 0.003]\n",
            " [0.007 0.154 0.838]\n",
            " [0.962 0.032 0.006]\n",
            " [0.014 0.081 0.905]]\n",
            "loss: 0.43657251861677077\n",
            "gradient:\n",
            " [[ 0.012 -0.026  0.026  0.023]\n",
            " [-0.01   0.026 -0.007  0.01 ]\n",
            " [-0.001 -0.    -0.018 -0.033]]\n",
            "weights:\n",
            " [[0.539 1.556 0.295 0.347]\n",
            " [1.08  0.492 1.132 0.922]\n",
            " [1.381 0.951 1.573 1.731]]\n"
          ]
        }
      ]
    },
    {
      "cell_type": "markdown",
      "metadata": {
        "id": "8q72Tu_n_LlO"
      },
      "source": [
        "## Evaluation"
      ]
    },
    {
      "cell_type": "code",
      "metadata": {
        "id": "tj3z7t6-_PZ4",
        "outputId": "59ca136d-0328-4494-9768-39a30a8d8311",
        "colab": {
          "base_uri": "https://localhost:8080/"
        }
      },
      "source": [
        "# Make predictions on the test data\n",
        "test_preds = softmax(np.dot(X_test, W.T))\n",
        "test_pred_labels = np.argmax(test_preds, axis=1)\n",
        "print('Accuracy:', np.mean(test_pred_labels == Y_test))"
      ],
      "execution_count": 11,
      "outputs": [
        {
          "output_type": "stream",
          "name": "stdout",
          "text": [
            "Accuracy: 0.84\n"
          ]
        }
      ]
    },
    {
      "cell_type": "code",
      "metadata": {
        "id": "xcq8zqKDALmC",
        "outputId": "de78d70c-8b23-41d6-d94e-fa0744a36872",
        "colab": {
          "base_uri": "https://localhost:8080/",
          "height": 458
        }
      },
      "source": [
        "cf = tf.math.confusion_matrix(Y_test, test_pred_labels)\n",
        "ax = sns.heatmap(cf, annot=True, fmt='.3g', cmap='Blues',\n",
        "                 xticklabels=class_names, yticklabels=class_names, cbar=False)\n",
        "ax.set(xlabel='Predicted Label', ylabel='True Label')\n",
        "plt.show()"
      ],
      "execution_count": 12,
      "outputs": [
        {
          "output_type": "display_data",
          "data": {
            "text/plain": [
              "<Figure size 640x480 with 1 Axes>"
            ],
            "image/png": "[encoded data removed]"
          },
          "metadata": {}
        }
      ]
    },
    {
      "cell_type": "markdown",
      "metadata": {
        "id": "BMsSJ-ZD_12e"
      },
      "source": [
        "## Now with TensorFlow/Keras"
      ]
    },
    {
      "cell_type": "code",
      "metadata": {
        "id": "jisaFtGY__KL",
        "outputId": "d934f1b7-2e2c-4f77-ac33-e7e73eab9c86",
        "colab": {
          "base_uri": "https://localhost:8080/"
        }
      },
      "source": [
        "tf.keras.backend.clear_session()\n",
        "model = tf.keras.Sequential()\n",
        "model.add(tf.keras.layers.Dense(\n",
        "    units=3,                     # output dim\n",
        "    input_shape=[4],             # input dim\n",
        "    use_bias=False,              # we included the bias in X\n",
        "    activation='softmax',        # apply a sigmoid to the output\n",
        "    kernel_initializer=tf.ones_initializer,  # initialize params to 1\n",
        "))\n",
        "optimizer = tf.keras.optimizers.Adam(learning_rate=0.01)\n",
        "model.compile(loss='sparse_categorical_crossentropy', optimizer=optimizer)"
      ],
      "execution_count": 13,
      "outputs": [
        {
          "output_type": "stream",
          "name": "stderr",
          "text": [
            "/usr/local/lib/python3.11/dist-packages/keras/src/layers/core/dense.py:87: UserWarning: Do not pass an `input_shape`/`input_dim` argument to a layer. When using Sequential models, prefer using an `Input(shape)` object as the first layer in the model instead.\n",
            "  super().__init__(activity_regularizer=activity_regularizer, **kwargs)\n"
          ]
        }
      ]
    },
    {
      "cell_type": "code",
      "metadata": {
        "id": "3PQ-RDwXCKVt",
        "outputId": "937f4c88-a85c-4003-cb24-13f7c06201b0",
        "colab": {
          "base_uri": "https://localhost:8080/"
        }
      },
      "source": [
        "# As above, get predictions for the current model first.\n",
        "preds = model.predict(X)\n",
        "\n",
        "# Do a single gradient update.\n",
        "history = model.fit(\n",
        "  x = X_train,\n",
        "  y = Y_train,\n",
        "  epochs=100,\n",
        "  batch_size=10,\n",
        "  verbose=0)\n",
        "\n",
        "# Show the loss (before the update) and the new weights.\n",
        "loss = history.history['loss'][0]\n",
        "weights = model.layers[0].get_weights()[0].T\n",
        "print('predictions:\\n', preds[:6])\n",
        "print('loss:', loss)\n",
        "print('W:\\n', weights)"
      ],
      "execution_count": 14,
      "outputs": [
        {
          "output_type": "stream",
          "name": "stdout",
          "text": [
            "\u001b[1m5/5\u001b[0m \u001b[32m━━━━━━━━━━━━━━━━━━━━\u001b[0m\u001b[37m\u001b[0m \u001b[1m0s\u001b[0m 7ms/step  \n",
            "predictions:\n",
            " [[0.333 0.333 0.333]\n",
            " [0.333 0.333 0.333]\n",
            " [0.333 0.333 0.333]\n",
            " [0.333 0.333 0.333]\n",
            " [0.333 0.333 0.333]\n",
            " [0.333 0.333 0.333]]\n",
            "loss: 0.992297887802124\n",
            "W:\n",
            " [[ 0.272  2.881 -0.77  -0.696]\n",
            " [ 1.618 -0.275  2.141  0.16 ]\n",
            " [ 1.204  0.639  2.048  2.972]]\n"
          ]
        }
      ]
    },
    {
      "cell_type": "code",
      "metadata": {
        "id": "QAmb6PMCTVET",
        "outputId": "d4f7885e-bb89-4868-8b08-c54d076f5ad0",
        "colab": {
          "base_uri": "https://localhost:8080/"
        }
      },
      "source": [
        "print(history.history['loss'])"
      ],
      "execution_count": 15,
      "outputs": [
        {
          "output_type": "stream",
          "name": "stdout",
          "text": [
            "[0.992297887802124, 0.8025609850883484, 0.6757325530052185, 0.6012971997261047, 0.5520737767219543, 0.5170604586601257, 0.49477916955947876, 0.47644829750061035, 0.4634079337120056, 0.452418714761734, 0.44413918256759644, 0.43610242009162903, 0.42947307229042053, 0.4228138029575348, 0.41787415742874146, 0.41321805119514465, 0.408703088760376, 0.4049006700515747, 0.40111109614372253, 0.39859044551849365, 0.39470741152763367, 0.39194750785827637, 0.38938385248184204, 0.38765501976013184, 0.38423338532447815, 0.38197246193885803, 0.38002708554267883, 0.3781062960624695, 0.3759465515613556, 0.3749600350856781, 0.3729705810546875, 0.37111321091651917, 0.369655042886734, 0.36837098002433777, 0.3671342432498932, 0.365773469209671, 0.36499157547950745, 0.36381736397743225, 0.36219605803489685, 0.3613615334033966, 0.3605702221393585, 0.3599521219730377, 0.358480840921402, 0.3578120172023773, 0.3566480576992035, 0.3561931550502777, 0.3551245629787445, 0.3549802005290985, 0.35369908809661865, 0.35304802656173706, 0.3528248071670532, 0.35244929790496826, 0.35166871547698975, 0.3508780002593994, 0.3508646488189697, 0.3496341407299042, 0.3489960730075836, 0.34875965118408203, 0.34814539551734924, 0.34744328260421753, 0.3471892178058624, 0.3466259241104126, 0.3460841476917267, 0.3459753096103668, 0.3455750644207001, 0.3451107144355774, 0.34461671113967896, 0.34424346685409546, 0.3438419997692108, 0.34367144107818604, 0.3436254858970642, 0.34324273467063904, 0.34275832772254944, 0.3425706624984741, 0.34249061346054077, 0.3416541814804077, 0.3414561450481415, 0.3418003022670746, 0.3409843444824219, 0.34075677394866943, 0.34058719873428345, 0.34013092517852783, 0.3400883376598358, 0.3394579291343689, 0.339986652135849, 0.33923956751823425, 0.3395659327507019, 0.33924442529678345, 0.338237464427948, 0.3383134603500366, 0.33816537261009216, 0.3375607430934906, 0.3383040726184845, 0.33717405796051025, 0.33704879879951477, 0.33673447370529175, 0.33695122599601746, 0.3365840017795563, 0.3367391526699066, 0.3368614614009857]\n"
          ]
        }
      ]
    },
    {
      "cell_type": "code",
      "metadata": {
        "id": "DuKK7l4fTktl",
        "outputId": "03bf2e34-811c-4401-df23-faeb8a3429ba",
        "colab": {
          "base_uri": "https://localhost:8080/"
        }
      },
      "source": [
        "test_preds = model.predict(X_test)\n",
        "test_preds_labels = np.argmax(test_preds, axis=1)\n",
        "accuracy = np.mean(test_preds_labels == Y_test)\n",
        "print(accuracy)\n",
        "model.evaluate(x=X_test, y=Y_test)"
      ],
      "execution_count": 16,
      "outputs": [
        {
          "output_type": "stream",
          "name": "stdout",
          "text": [
            "\u001b[1m2/2\u001b[0m \u001b[32m━━━━━━━━━━━━━━━━━━━━\u001b[0m\u001b[37m\u001b[0m \u001b[1m0s\u001b[0m 6ms/step \n",
            "0.9\n",
            "\u001b[1m2/2\u001b[0m \u001b[32m━━━━━━━━━━━━━━━━━━━━\u001b[0m\u001b[37m\u001b[0m \u001b[1m0s\u001b[0m 11ms/step - loss: 0.2304 \n"
          ]
        },
        {
          "output_type": "execute_result",
          "data": {
            "text/plain": [
              "0.25506189465522766"
            ]
          },
          "metadata": {},
          "execution_count": 16
        }
      ]
    },
    {
      "cell_type": "code",
      "source": [],
      "metadata": {
        "id": "BBlC_lUmZz9D"
      },
      "execution_count": null,
      "outputs": []
    }
  ]
}