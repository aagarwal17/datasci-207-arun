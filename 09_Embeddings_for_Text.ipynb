{
  "cells": [
    {
      "cell_type": "markdown",
      "metadata": {
        "id": "view-in-github",
        "colab_type": "text"
      },
      "source": [
        "<a href=\"https://colab.research.google.com/github/aagarwal17/datasci-207-arun/blob/main/09_Embeddings_for_Text.ipynb\" target=\"_parent\"><img src=\"https://colab.research.google.com/assets/colab-badge.svg\" alt=\"Open In Colab\"/></a>"
      ]
    },
    {
      "cell_type": "markdown",
      "metadata": {
        "id": "MKsRDH5ZUdfasdv"
      },
      "source": [
        "# Assignment 9"
      ]
    },
    {
      "cell_type": "markdown",
      "metadata": {
        "id": "div5p1NOLBsO"
      },
      "source": [
        "### <span style=\"color:chocolate\"> Submission requirements </span>\n",
        "\n",
        "Your work will not be graded if your notebook doesn't include output. In other words, <span style=\"color:red\"> make sure to rerun your notebook before submitting to Gradescope </span> (Note: if you are using Google Colab: go to Edit > Notebook Settings  and uncheck Omit code cell output when saving this notebook, otherwise the output is not printed).\n",
        "\n",
        "Additional points may be deducted if these requirements are not met:\n",
        "\n",
        "    \n",
        "* Comment your code;\n",
        "* Each graph should have a title, labels for each axis, and (if needed) a legend. Each graph should be understandable on its own;\n",
        "* Try and minimize the use of the global namespace (meaning, keep things inside functions).\n",
        "---"
      ]
    },
    {
      "cell_type": "markdown",
      "metadata": {
        "id": "5B7i4yLKLBsP"
      },
      "source": [
        "### Import libraries"
      ]
    },
    {
      "cell_type": "code",
      "execution_count": 40,
      "metadata": {
        "id": "7X58hOMTUH-w"
      },
      "outputs": [],
      "source": [
        "import numpy as np\n",
        "from matplotlib import pyplot as plt\n",
        "import pandas as pd\n",
        "import seaborn as sns  # for nicer plots\n",
        "sns.set(style=\"darkgrid\")  # default style\n",
        "import plotly.graph_objs as plotly  # for interactive plots\n",
        "\n",
        "import tensorflow as tf\n",
        "from tensorflow.keras.datasets import imdb"
      ]
    },
    {
      "cell_type": "markdown",
      "metadata": {
        "id": "Bd5IR1KWLBsS"
      },
      "source": [
        "---\n",
        "### Step 1: Data ingestion"
      ]
    },
    {
      "cell_type": "markdown",
      "metadata": {
        "id": "eqppUDpmdptk"
      },
      "source": [
        "In this lab, you'll train a <span style=\"color:chocolate\">sentiment</span> classifier for movie reviews.\n",
        "\n",
        "* The input is the text of a movie review;\n",
        "* The output is the probability the input is a positive review.\n",
        "* The target labels are binary, 0 for negative and 1 for positive.\n",
        "\n",
        "The data includes 50,000 movie reviews on IMDB. The data comes pre-segmented into train and test splits. The [data loading function](https://www.tensorflow.org/api_docs/python/tf/keras/datasets/imdb/load_data) below also splits each input text into tokens (words), and maps the words to integer values. Each input is a sequence of integers corresponding to the words."
      ]
    },
    {
      "cell_type": "code",
      "execution_count": 3,
      "metadata": {
        "id": "s6M-asvhQWV_",
        "colab": {
          "base_uri": "https://localhost:8080/"
        },
        "outputId": "349196ec-09e4-413e-ee46-1f2d33afe633"
      },
      "outputs": [
        {
          "output_type": "stream",
          "name": "stdout",
          "text": [
            "Downloading data from https://storage.googleapis.com/tensorflow/tf-keras-datasets/imdb.npz\n",
            "\u001b[1m17464789/17464789\u001b[0m \u001b[32m━━━━━━━━━━━━━━━━━━━━\u001b[0m\u001b[37m\u001b[0m \u001b[1m0s\u001b[0m 0us/step\n",
            "X_train.shape: (25000,)\n",
            "Y_train.shape: (25000,)\n",
            "X_test.shape: (25000,)\n",
            "Y_test.shape: (25000,)\n"
          ]
        }
      ],
      "source": [
        "# read data\n",
        "(X_train, Y_train), (X_test, Y_test) = imdb.load_data(path=\"imdb.npz\",\n",
        "                                                      num_words=None,\n",
        "                                                      skip_top=0,\n",
        "                                                      maxlen=None,\n",
        "                                                      seed=113,\n",
        "                                                      start_char=1,\n",
        "                                                      oov_char=2,\n",
        "                                                      index_from=3)\n",
        "\n",
        "print(\"X_train.shape:\", X_train.shape)\n",
        "print(\"Y_train.shape:\", Y_train.shape)\n",
        "print(\"X_test.shape:\", X_test.shape)\n",
        "print(\"Y_test.shape:\", Y_test.shape)"
      ]
    },
    {
      "cell_type": "markdown",
      "metadata": {
        "id": "wtHB1AcQLBsT"
      },
      "source": [
        "---\n",
        "### Step 2: Data preprocessing"
      ]
    },
    {
      "cell_type": "markdown",
      "metadata": {
        "id": "BKOEomFzLBsU"
      },
      "source": [
        "Let's have a look at the first training example:"
      ]
    },
    {
      "cell_type": "code",
      "execution_count": 4,
      "metadata": {
        "id": "zKJ9gv-4LBsU",
        "colab": {
          "base_uri": "https://localhost:8080/"
        },
        "outputId": "2e0a7e32-324b-41d6-be6a-943e73dc8041"
      },
      "outputs": [
        {
          "output_type": "stream",
          "name": "stdout",
          "text": [
            "First training example data: [1, 14, 22, 16, 43, 530, 973, 1622, 1385, 65, 458, 4468, 66, 3941, 4, 173, 36, 256, 5, 25, 100, 43, 838, 112, 50, 670, 22665, 9, 35, 480, 284, 5, 150, 4, 172, 112, 167, 21631, 336, 385, 39, 4, 172, 4536, 1111, 17, 546, 38, 13, 447, 4, 192, 50, 16, 6, 147, 2025, 19, 14, 22, 4, 1920, 4613, 469, 4, 22, 71, 87, 12, 16, 43, 530, 38, 76, 15, 13, 1247, 4, 22, 17, 515, 17, 12, 16, 626, 18, 19193, 5, 62, 386, 12, 8, 316, 8, 106, 5, 4, 2223, 5244, 16, 480, 66, 3785, 33, 4, 130, 12, 16, 38, 619, 5, 25, 124, 51, 36, 135, 48, 25, 1415, 33, 6, 22, 12, 215, 28, 77, 52, 5, 14, 407, 16, 82, 10311, 8, 4, 107, 117, 5952, 15, 256, 4, 31050, 7, 3766, 5, 723, 36, 71, 43, 530, 476, 26, 400, 317, 46, 7, 4, 12118, 1029, 13, 104, 88, 4, 381, 15, 297, 98, 32, 2071, 56, 26, 141, 6, 194, 7486, 18, 4, 226, 22, 21, 134, 476, 26, 480, 5, 144, 30, 5535, 18, 51, 36, 28, 224, 92, 25, 104, 4, 226, 65, 16, 38, 1334, 88, 12, 16, 283, 5, 16, 4472, 113, 103, 32, 15, 16, 5345, 19, 178, 32]\n",
            "First training example label: 1\n"
          ]
        }
      ],
      "source": [
        "print('First training example data:', X_train[0])\n",
        "print('First training example label:', Y_train[0])"
      ]
    },
    {
      "cell_type": "markdown",
      "metadata": {
        "id": "MyIWiy-4gQK-"
      },
      "source": [
        "As you can see, the first training example is a positive review. However, that sequence of integer IDs is hard to read.\n",
        "\n",
        "The data loader provides a dictionary mapping words to IDs. Let's create a reverse index.\n"
      ]
    },
    {
      "cell_type": "code",
      "execution_count": 5,
      "metadata": {
        "id": "HQ-qATkhUj7c",
        "colab": {
          "base_uri": "https://localhost:8080/"
        },
        "outputId": "c1874016-5e37-455b-ef81-c831d655c710"
      },
      "outputs": [
        {
          "output_type": "stream",
          "name": "stdout",
          "text": [
            "Downloading data from https://storage.googleapis.com/tensorflow/tf-keras-datasets/imdb_word_index.json\n",
            "\u001b[1m1641221/1641221\u001b[0m \u001b[32m━━━━━━━━━━━━━━━━━━━━\u001b[0m\u001b[37m\u001b[0m \u001b[1m0s\u001b[0m 0us/step\n",
            "Largest ID: 88587\n"
          ]
        }
      ],
      "source": [
        "# The imdb dataset comes with an index mapping words to integers.\n",
        "# In the index the words are ordered by frequency they occur.\n",
        "index = imdb.get_word_index()\n",
        "\n",
        "# Because we used index_from=3 (above), setting aside ids below 3 for special\n",
        "# symbols, we need to add 3 to the index values.\n",
        "index = dict([(key, value+3) for (key, value) in index.items()])\n",
        "\n",
        "# Create a reverse index so we can lookup tokens assigned to each id.\n",
        "reverse_index = dict([(value, key) for (key, value) in index.items()])\n",
        "reverse_index[1] = '<START>'  # start of input\n",
        "reverse_index[2] = '#'        # out-of-vocabulary (OOV)\n",
        "reverse_index[3] = '<UNUSED>'\n",
        "\n",
        "max_id = max(reverse_index.keys())\n",
        "print('Largest ID:', max_id)"
      ]
    },
    {
      "cell_type": "markdown",
      "metadata": {
        "id": "h76-b07ehWNQ"
      },
      "source": [
        "Note that our index (and reverse index) have <span style=\"color:chocolate\">88,587</span> tokens. That's quite <span style=\"color:chocolate\">a large vocabulary</span>!\n",
        "\n",
        "Next, let's write a decoding function for our data."
      ]
    },
    {
      "cell_type": "code",
      "execution_count": 6,
      "metadata": {
        "id": "UjobmouHS5Dm",
        "colab": {
          "base_uri": "https://localhost:8080/"
        },
        "outputId": "dcaf8a58-6d0a-4941-a6cd-f12d8e1b3023"
      },
      "outputs": [
        {
          "output_type": "stream",
          "name": "stdout",
          "text": [
            "[1, 14, 22, 16, 43, 530, 973, 1622, 1385, 65, 458, 4468, 66, 3941, 4, 173, 36, 256, 5, 25, 100, 43, 838, 112, 50, 670, 22665, 9, 35, 480, 284, 5, 150, 4, 172, 112, 167, 21631, 336, 385, 39, 4, 172, 4536, 1111, 17, 546, 38, 13, 447, 4, 192, 50, 16, 6, 147, 2025, 19, 14, 22, 4, 1920, 4613, 469, 4, 22, 71, 87, 12, 16, 43, 530, 38, 76, 15, 13, 1247, 4, 22, 17, 515, 17, 12, 16, 626, 18, 19193, 5, 62, 386, 12, 8, 316, 8, 106, 5, 4, 2223, 5244, 16, 480, 66, 3785, 33, 4, 130, 12, 16, 38, 619, 5, 25, 124, 51, 36, 135, 48, 25, 1415, 33, 6, 22, 12, 215, 28, 77, 52, 5, 14, 407, 16, 82, 10311, 8, 4, 107, 117, 5952, 15, 256, 4, 31050, 7, 3766, 5, 723, 36, 71, 43, 530, 476, 26, 400, 317, 46, 7, 4, 12118, 1029, 13, 104, 88, 4, 381, 15, 297, 98, 32, 2071, 56, 26, 141, 6, 194, 7486, 18, 4, 226, 22, 21, 134, 476, 26, 480, 5, 144, 30, 5535, 18, 51, 36, 28, 224, 92, 25, 104, 4, 226, 65, 16, 38, 1334, 88, 12, 16, 283, 5, 16, 4472, 113, 103, 32, 15, 16, 5345, 19, 178, 32]\n",
            "<START> this film was just brilliant casting location scenery story direction everyone's really suited the part they played and you could just imagine being there robert redford's is an amazing actor and now the same being director norman's father came from the same scottish island as myself so i loved the fact there was a real connection with this film the witty remarks throughout the film were great it was just brilliant so much that i bought the film as soon as it was released for retail and would recommend it to everyone to watch and the fly fishing was amazing really cried at the end it was so sad and you know what they say if you cry at a film it must have been good and this definitely was also congratulations to the two little boy's that played the part's of norman and paul they were just brilliant children are often left out of the praising list i think because the stars that play them all grown up are such a big profile for the whole film but these children are amazing and should be praised for what they have done don't you think the whole story was so lovely because it was true and was someone's life after all that was shared with us all\n"
          ]
        }
      ],
      "source": [
        "def decode(token_ids):\n",
        "  \"\"\"Return a string with the decoded text given a list of token ids.\"\"\"\n",
        "  # Try looking up each id in the index, but return '#' (for OOV) if not found.\n",
        "  tokens = [reverse_index.get(i, \"#\") for i in token_ids]\n",
        "\n",
        "  # Connect the string tokens with a space.\n",
        "  return ' '.join(tokens)\n",
        "\n",
        "# Show the ids corresponding tokens in the first example.\n",
        "print(X_train[0])\n",
        "print(decode(X_train[0]))"
      ]
    },
    {
      "cell_type": "markdown",
      "metadata": {
        "id": "vc_sosN-LBsW"
      },
      "source": [
        "---\n",
        "### Step 3: Exploratory Data Analysis (EDA)"
      ]
    },
    {
      "cell_type": "markdown",
      "metadata": {
        "id": "vVYB_H4_LBsW"
      },
      "source": [
        "### <span style=\"color:chocolate\">Exercise 1:</span> Text lengths (10 points)"
      ]
    },
    {
      "cell_type": "markdown",
      "metadata": {
        "id": "g47w5CackGBA"
      },
      "source": [
        "Using the training reviews data, answer the following questions:\n",
        "\n",
        "1. What are the minimum, maximum, and mean lengths of positive and negative reviews?\n",
        "2. Create a histogram to visualize the distribution of positive and negative review lengths. Make sure to provide a descriptive title and axis labels."
      ]
    },
    {
      "cell_type": "code",
      "execution_count": 7,
      "metadata": {
        "id": "OQXkKp7-LBsW",
        "colab": {
          "base_uri": "https://localhost:8080/",
          "height": 712
        },
        "outputId": "42aac1d4-c800-4beb-bf52-3fa4124113e0"
      },
      "outputs": [
        {
          "output_type": "stream",
          "name": "stdout",
          "text": [
            "Positive Reviews:\n",
            "Min Length: 13\n",
            "Max Length: 2494\n",
            "Mean Length: 241.56296\n",
            "Negative Reviews:\n",
            "Min Length: 11\n",
            "Max Length: 1571\n",
            "Mean Length: 235.86432\n"
          ]
        },
        {
          "output_type": "display_data",
          "data": {
            "text/plain": [
              "<Figure size 1000x600 with 1 Axes>"
            ],
            "image/png": "[encoded data removed]"
          },
          "metadata": {}
        }
      ],
      "source": [
        "# YOUR CODE HERE\n",
        "review_lengths = [len(review) for review in X_train]\n",
        "# Separate lengths based on labels\n",
        "pos_lengths = [len(X_train[i]) for i in range(len(X_train)) if Y_train[i] == 1]\n",
        "neg_lengths = [len(X_train[i]) for i in range(len(X_train)) if Y_train[i] == 0]\n",
        "# 1:\n",
        "min_pos, max_pos, mean_pos = np.min(pos_lengths), np.max(pos_lengths), np.mean(pos_lengths)\n",
        "min_neg, max_neg, mean_neg = np.min(neg_lengths), np.max(neg_lengths), np.mean(neg_lengths)\n",
        "print(\"Positive Reviews:\")\n",
        "print(\"Min Length:\", min_pos)\n",
        "print(\"Max Length:\", max_pos)\n",
        "print(\"Mean Length:\", mean_pos)\n",
        "print(\"Negative Reviews:\")\n",
        "print(\"Min Length:\", min_neg)\n",
        "print(\"Max Length:\", max_neg)\n",
        "print(\"Mean Length:\", mean_neg)\n",
        "\n",
        "plt.figure(figsize=(10, 6))\n",
        "sns.histplot(pos_lengths, bins=50, color='blue', label='Positive Reviews', kde=True, alpha=0.6)\n",
        "sns.histplot(neg_lengths, bins=50, color='red', label='Negative Reviews', kde=True, alpha=0.6)\n",
        "plt.xlabel(\"Review Length\")\n",
        "plt.ylabel(\"Frequency\")\n",
        "plt.title(\"Distribution of Review Lengths in IMDB Dataset\")\n",
        "plt.legend()\n",
        "plt.show()"
      ]
    },
    {
      "cell_type": "markdown",
      "metadata": {
        "id": "vfyazgXOLBsX"
      },
      "source": [
        "### <span style=\"color:chocolate\">Exercise 2:</span> Token counts (10 points)"
      ]
    },
    {
      "cell_type": "markdown",
      "metadata": {
        "id": "c3ZE9gpkml3a"
      },
      "source": [
        "Using the training data, create a table listing the counts of positive and negative examples that contain each token provided below."
      ]
    },
    {
      "cell_type": "code",
      "source": [
        "tokens = ['good', 'bad', 'amazing', 'boring', 'laugh', 'cry']\n",
        "token_ids = [index[token] for token in tokens]\n",
        "token_counts = {token: {'Positive': 0, 'Negative': 0} for token in tokens}\n",
        "\n",
        "# Count token occurrences in positive and negative reviews\n",
        "for i in range(len(X_train)):\n",
        "    words = X_train[i]\n",
        "    for token in token_ids:\n",
        "        if token in words:\n",
        "            if Y_train[i] == 1:\n",
        "                token_counts[reverse_index[token]]['Positive'] += 1\n",
        "            else:\n",
        "                token_counts[reverse_index[token]]['Negative'] += 1\n",
        "\n",
        "# Convert to DataFrame:\n",
        "df = pd.DataFrame.from_dict(token_counts, orient='index')\n",
        "df.index.name = 'Token'\n",
        "df.columns = ['Positive Count', 'Negative Count']\n",
        "df"
      ],
      "metadata": {
        "colab": {
          "base_uri": "https://localhost:8080/",
          "height": 269
        },
        "id": "2k0YOe6rBNKK",
        "outputId": "0f169ea0-ee1d-47e0-de6c-0147871f5c8f"
      },
      "execution_count": 17,
      "outputs": [
        {
          "output_type": "execute_result",
          "data": {
            "text/plain": [
              "         Positive Count  Negative Count\n",
              "Token                                  \n",
              "good               4767            4849\n",
              "bad                1491            4396\n",
              "amazing             868             240\n",
              "boring              301            1205\n",
              "laugh               525             685\n",
              "cry                 231             114"
            ],
            "text/html": [
              "\n",
              "  <div id=\"df-b44d5879-f71c-4153-bc43-a8071a069db5\" class=\"colab-df-container\">\n",
              "    <div>\n",
              "<style scoped>\n",
              "    .dataframe tbody tr th:only-of-type {\n",
              "        vertical-align: middle;\n",
              "    }\n",
              "\n",
              "    .dataframe tbody tr th {\n",
              "        vertical-align: top;\n",
              "    }\n",
              "\n",
              "    .dataframe thead th {\n",
              "        text-align: right;\n",
              "    }\n",
              "</style>\n",
              "<table border=\"1\" class=\"dataframe\">\n",
              "  <thead>\n",
              "    <tr style=\"text-align: right;\">\n",
              "      <th></th>\n",
              "      <th>Positive Count</th>\n",
              "      <th>Negative Count</th>\n",
              "    </tr>\n",
              "    <tr>\n",
              "      <th>Token</th>\n",
              "      <th></th>\n",
              "      <th></th>\n",
              "    </tr>\n",
              "  </thead>\n",
              "  <tbody>\n",
              "    <tr>\n",
              "      <th>good</th>\n",
              "      <td>4767</td>\n",
              "      <td>4849</td>\n",
              "    </tr>\n",
              "    <tr>\n",
              "      <th>bad</th>\n",
              "      <td>1491</td>\n",
              "      <td>4396</td>\n",
              "    </tr>\n",
              "    <tr>\n",
              "      <th>amazing</th>\n",
              "      <td>868</td>\n",
              "      <td>240</td>\n",
              "    </tr>\n",
              "    <tr>\n",
              "      <th>boring</th>\n",
              "      <td>301</td>\n",
              "      <td>1205</td>\n",
              "    </tr>\n",
              "    <tr>\n",
              "      <th>laugh</th>\n",
              "      <td>525</td>\n",
              "      <td>685</td>\n",
              "    </tr>\n",
              "    <tr>\n",
              "      <th>cry</th>\n",
              "      <td>231</td>\n",
              "      <td>114</td>\n",
              "    </tr>\n",
              "  </tbody>\n",
              "</table>\n",
              "</div>\n",
              "    <div class=\"colab-df-buttons\">\n",
              "\n",
              "  <div class=\"colab-df-container\">\n",
              "    <button class=\"colab-df-convert\" onclick=\"convertToInteractive('df-b44d5879-f71c-4153-bc43-a8071a069db5')\"\n",
              "            title=\"Convert this dataframe to an interactive table.\"\n",
              "            style=\"display:none;\">\n",
              "\n",
              "  <svg xmlns=\"http://www.w3.org/2000/svg\" height=\"24px\" viewBox=\"0 -960 960 960\">\n",
              "    <path d=\"M120-120v-720h720v720H120Zm60-500h600v-160H180v160Zm220 220h160v-160H400v160Zm0 220h160v-160H400v160ZM180-400h160v-160H180v160Zm440 0h160v-160H620v160ZM180-180h160v-160H180v160Zm440 0h160v-160H620v160Z\"/>\n",
              "  </svg>\n",
              "    </button>\n",
              "\n",
              "  <style>\n",
              "    .colab-df-container {\n",
              "      display:flex;\n",
              "      gap: 12px;\n",
              "    }\n",
              "\n",
              "    .colab-df-convert {\n",
              "      background-color: #E8F0FE;\n",
              "      border: none;\n",
              "      border-radius: 50%;\n",
              "      cursor: pointer;\n",
              "      display: none;\n",
              "      fill: #1967D2;\n",
              "      height: 32px;\n",
              "      padding: 0 0 0 0;\n",
              "      width: 32px;\n",
              "    }\n",
              "\n",
              "    .colab-df-convert:hover {\n",
              "      background-color: #E2EBFA;\n",
              "      box-shadow: 0px 1px 2px rgba(60, 64, 67, 0.3), 0px 1px 3px 1px rgba(60, 64, 67, 0.15);\n",
              "      fill: #174EA6;\n",
              "    }\n",
              "\n",
              "    .colab-df-buttons div {\n",
              "      margin-bottom: 4px;\n",
              "    }\n",
              "\n",
              "    [theme=dark] .colab-df-convert {\n",
              "      background-color: #3B4455;\n",
              "      fill: #D2E3FC;\n",
              "    }\n",
              "\n",
              "    [theme=dark] .colab-df-convert:hover {\n",
              "      background-color: #434B5C;\n",
              "      box-shadow: 0px 1px 3px 1px rgba(0, 0, 0, 0.15);\n",
              "      filter: drop-shadow(0px 1px 2px rgba(0, 0, 0, 0.3));\n",
              "      fill: #FFFFFF;\n",
              "    }\n",
              "  </style>\n",
              "\n",
              "    <script>\n",
              "      const buttonEl =\n",
              "        document.querySelector('#df-b44d5879-f71c-4153-bc43-a8071a069db5 button.colab-df-convert');\n",
              "      buttonEl.style.display =\n",
              "        google.colab.kernel.accessAllowed ? 'block' : 'none';\n",
              "\n",
              "      async function convertToInteractive(key) {\n",
              "        const element = document.querySelector('#df-b44d5879-f71c-4153-bc43-a8071a069db5');\n",
              "        const dataTable =\n",
              "          await google.colab.kernel.invokeFunction('convertToInteractive',\n",
              "                                                    [key], {});\n",
              "        if (!dataTable) return;\n",
              "\n",
              "        const docLinkHtml = 'Like what you see? Visit the ' +\n",
              "          '<a target=\"_blank\" href=https://colab.research.google.com/notebooks/data_table.ipynb>data table notebook</a>'\n",
              "          + ' to learn more about interactive tables.';\n",
              "        element.innerHTML = '';\n",
              "        dataTable['output_type'] = 'display_data';\n",
              "        await google.colab.output.renderOutput(dataTable, element);\n",
              "        const docLink = document.createElement('div');\n",
              "        docLink.innerHTML = docLinkHtml;\n",
              "        element.appendChild(docLink);\n",
              "      }\n",
              "    </script>\n",
              "  </div>\n",
              "\n",
              "\n",
              "<div id=\"df-7b61489c-369a-403a-b20d-012ff46a52dd\">\n",
              "  <button class=\"colab-df-quickchart\" onclick=\"quickchart('df-7b61489c-369a-403a-b20d-012ff46a52dd')\"\n",
              "            title=\"Suggest charts\"\n",
              "            style=\"display:none;\">\n",
              "\n",
              "<svg xmlns=\"http://www.w3.org/2000/svg\" height=\"24px\"viewBox=\"0 0 24 24\"\n",
              "     width=\"24px\">\n",
              "    <g>\n",
              "        <path d=\"M19 3H5c-1.1 0-2 .9-2 2v14c0 1.1.9 2 2 2h14c1.1 0 2-.9 2-2V5c0-1.1-.9-2-2-2zM9 17H7v-7h2v7zm4 0h-2V7h2v10zm4 0h-2v-4h2v4z\"/>\n",
              "    </g>\n",
              "</svg>\n",
              "  </button>\n",
              "\n",
              "<style>\n",
              "  .colab-df-quickchart {\n",
              "      --bg-color: #E8F0FE;\n",
              "      --fill-color: #1967D2;\n",
              "      --hover-bg-color: #E2EBFA;\n",
              "      --hover-fill-color: #174EA6;\n",
              "      --disabled-fill-color: #AAA;\n",
              "      --disabled-bg-color: #DDD;\n",
              "  }\n",
              "\n",
              "  [theme=dark] .colab-df-quickchart {\n",
              "      --bg-color: #3B4455;\n",
              "      --fill-color: #D2E3FC;\n",
              "      --hover-bg-color: #434B5C;\n",
              "      --hover-fill-color: #FFFFFF;\n",
              "      --disabled-bg-color: #3B4455;\n",
              "      --disabled-fill-color: #666;\n",
              "  }\n",
              "\n",
              "  .colab-df-quickchart {\n",
              "    background-color: var(--bg-color);\n",
              "    border: none;\n",
              "    border-radius: 50%;\n",
              "    cursor: pointer;\n",
              "    display: none;\n",
              "    fill: var(--fill-color);\n",
              "    height: 32px;\n",
              "    padding: 0;\n",
              "    width: 32px;\n",
              "  }\n",
              "\n",
              "  .colab-df-quickchart:hover {\n",
              "    background-color: var(--hover-bg-color);\n",
              "    box-shadow: 0 1px 2px rgba(60, 64, 67, 0.3), 0 1px 3px 1px rgba(60, 64, 67, 0.15);\n",
              "    fill: var(--button-hover-fill-color);\n",
              "  }\n",
              "\n",
              "  .colab-df-quickchart-complete:disabled,\n",
              "  .colab-df-quickchart-complete:disabled:hover {\n",
              "    background-color: var(--disabled-bg-color);\n",
              "    fill: var(--disabled-fill-color);\n",
              "    box-shadow: none;\n",
              "  }\n",
              "\n",
              "  .colab-df-spinner {\n",
              "    border: 2px solid var(--fill-color);\n",
              "    border-color: transparent;\n",
              "    border-bottom-color: var(--fill-color);\n",
              "    animation:\n",
              "      spin 1s steps(1) infinite;\n",
              "  }\n",
              "\n",
              "  @keyframes spin {\n",
              "    0% {\n",
              "      border-color: transparent;\n",
              "      border-bottom-color: var(--fill-color);\n",
              "      border-left-color: var(--fill-color);\n",
              "    }\n",
              "    20% {\n",
              "      border-color: transparent;\n",
              "      border-left-color: var(--fill-color);\n",
              "      border-top-color: var(--fill-color);\n",
              "    }\n",
              "    30% {\n",
              "      border-color: transparent;\n",
              "      border-left-color: var(--fill-color);\n",
              "      border-top-color: var(--fill-color);\n",
              "      border-right-color: var(--fill-color);\n",
              "    }\n",
              "    40% {\n",
              "      border-color: transparent;\n",
              "      border-right-color: var(--fill-color);\n",
              "      border-top-color: var(--fill-color);\n",
              "    }\n",
              "    60% {\n",
              "      border-color: transparent;\n",
              "      border-right-color: var(--fill-color);\n",
              "    }\n",
              "    80% {\n",
              "      border-color: transparent;\n",
              "      border-right-color: var(--fill-color);\n",
              "      border-bottom-color: var(--fill-color);\n",
              "    }\n",
              "    90% {\n",
              "      border-color: transparent;\n",
              "      border-bottom-color: var(--fill-color);\n",
              "    }\n",
              "  }\n",
              "</style>\n",
              "\n",
              "  <script>\n",
              "    async function quickchart(key) {\n",
              "      const quickchartButtonEl =\n",
              "        document.querySelector('#' + key + ' button');\n",
              "      quickchartButtonEl.disabled = true;  // To prevent multiple clicks.\n",
              "      quickchartButtonEl.classList.add('colab-df-spinner');\n",
              "      try {\n",
              "        const charts = await google.colab.kernel.invokeFunction(\n",
              "            'suggestCharts', [key], {});\n",
              "      } catch (error) {\n",
              "        console.error('Error during call to suggestCharts:', error);\n",
              "      }\n",
              "      quickchartButtonEl.classList.remove('colab-df-spinner');\n",
              "      quickchartButtonEl.classList.add('colab-df-quickchart-complete');\n",
              "    }\n",
              "    (() => {\n",
              "      let quickchartButtonEl =\n",
              "        document.querySelector('#df-7b61489c-369a-403a-b20d-012ff46a52dd button');\n",
              "      quickchartButtonEl.style.display =\n",
              "        google.colab.kernel.accessAllowed ? 'block' : 'none';\n",
              "    })();\n",
              "  </script>\n",
              "</div>\n",
              "\n",
              "  <div id=\"id_613f5072-d49d-42ab-bbed-392a4aabc0a5\">\n",
              "    <style>\n",
              "      .colab-df-generate {\n",
              "        background-color: #E8F0FE;\n",
              "        border: none;\n",
              "        border-radius: 50%;\n",
              "        cursor: pointer;\n",
              "        display: none;\n",
              "        fill: #1967D2;\n",
              "        height: 32px;\n",
              "        padding: 0 0 0 0;\n",
              "        width: 32px;\n",
              "      }\n",
              "\n",
              "      .colab-df-generate:hover {\n",
              "        background-color: #E2EBFA;\n",
              "        box-shadow: 0px 1px 2px rgba(60, 64, 67, 0.3), 0px 1px 3px 1px rgba(60, 64, 67, 0.15);\n",
              "        fill: #174EA6;\n",
              "      }\n",
              "\n",
              "      [theme=dark] .colab-df-generate {\n",
              "        background-color: #3B4455;\n",
              "        fill: #D2E3FC;\n",
              "      }\n",
              "\n",
              "      [theme=dark] .colab-df-generate:hover {\n",
              "        background-color: #434B5C;\n",
              "        box-shadow: 0px 1px 3px 1px rgba(0, 0, 0, 0.15);\n",
              "        filter: drop-shadow(0px 1px 2px rgba(0, 0, 0, 0.3));\n",
              "        fill: #FFFFFF;\n",
              "      }\n",
              "    </style>\n",
              "    <button class=\"colab-df-generate\" onclick=\"generateWithVariable('df')\"\n",
              "            title=\"Generate code using this dataframe.\"\n",
              "            style=\"display:none;\">\n",
              "\n",
              "  <svg xmlns=\"http://www.w3.org/2000/svg\" height=\"24px\"viewBox=\"0 0 24 24\"\n",
              "       width=\"24px\">\n",
              "    <path d=\"M7,19H8.4L18.45,9,17,7.55,7,17.6ZM5,21V16.75L18.45,3.32a2,2,0,0,1,2.83,0l1.4,1.43a1.91,1.91,0,0,1,.58,1.4,1.91,1.91,0,0,1-.58,1.4L9.25,21ZM18.45,9,17,7.55Zm-12,3A5.31,5.31,0,0,0,4.9,8.1,5.31,5.31,0,0,0,1,6.5,5.31,5.31,0,0,0,4.9,4.9,5.31,5.31,0,0,0,6.5,1,5.31,5.31,0,0,0,8.1,4.9,5.31,5.31,0,0,0,12,6.5,5.46,5.46,0,0,0,6.5,12Z\"/>\n",
              "  </svg>\n",
              "    </button>\n",
              "    <script>\n",
              "      (() => {\n",
              "      const buttonEl =\n",
              "        document.querySelector('#id_613f5072-d49d-42ab-bbed-392a4aabc0a5 button.colab-df-generate');\n",
              "      buttonEl.style.display =\n",
              "        google.colab.kernel.accessAllowed ? 'block' : 'none';\n",
              "\n",
              "      buttonEl.onclick = () => {\n",
              "        google.colab.notebook.generateWithVariable('df');\n",
              "      }\n",
              "      })();\n",
              "    </script>\n",
              "  </div>\n",
              "\n",
              "    </div>\n",
              "  </div>\n"
            ],
            "application/vnd.google.colaboratory.intrinsic+json": {
              "type": "dataframe",
              "variable_name": "df",
              "summary": "{\n  \"name\": \"df\",\n  \"rows\": 6,\n  \"fields\": [\n    {\n      \"column\": \"Token\",\n      \"properties\": {\n        \"dtype\": \"string\",\n        \"num_unique_values\": 6,\n        \"samples\": [\n          \"good\",\n          \"bad\",\n          \"cry\"\n        ],\n        \"semantic_type\": \"\",\n        \"description\": \"\"\n      }\n    },\n    {\n      \"column\": \"Positive Count\",\n      \"properties\": {\n        \"dtype\": \"number\",\n        \"std\": 1729,\n        \"min\": 231,\n        \"max\": 4767,\n        \"num_unique_values\": 6,\n        \"samples\": [\n          4767,\n          1491,\n          231\n        ],\n        \"semantic_type\": \"\",\n        \"description\": \"\"\n      }\n    },\n    {\n      \"column\": \"Negative Count\",\n      \"properties\": {\n        \"dtype\": \"number\",\n        \"std\": 2136,\n        \"min\": 114,\n        \"max\": 4849,\n        \"num_unique_values\": 6,\n        \"samples\": [\n          4849,\n          4396,\n          114\n        ],\n        \"semantic_type\": \"\",\n        \"description\": \"\"\n      }\n    }\n  ]\n}"
            }
          },
          "metadata": {},
          "execution_count": 17
        }
      ]
    },
    {
      "cell_type": "markdown",
      "metadata": {
        "id": "6YmU-vwfLBsX"
      },
      "source": [
        "---\n",
        "### Step 4: Data preprocessing (cont'd)"
      ]
    },
    {
      "cell_type": "markdown",
      "metadata": {
        "id": "wYO4N5qKLBsX"
      },
      "source": [
        "As is clear from the review length histogram, the current representation of the review text is a variable-length array. Since fixed-length arrays are easier to work with in Tensorflow, you will add special padding tokens at the end of each review until they are all the same length. You will also truncate all training inputs to a specified length."
      ]
    },
    {
      "cell_type": "markdown",
      "metadata": {
        "id": "_bE4iZHzLBsY"
      },
      "source": [
        "### <span style=\"color:chocolate\">Exercise 3:</span> Reduced length and padding (10 points)"
      ]
    },
    {
      "cell_type": "markdown",
      "metadata": {
        "id": "RXP-92h4LBsY"
      },
      "source": [
        "Fill in the <span style=\"color:green\">NotImplemented</span> parts of the <span style=\"color:chocolate\">truncate_pad_data()</span> function below by following these instructions:\n",
        "\n",
        "1. Restrict the maximum number of tokens by truncating all reviews to a length of 300;\n",
        "2. Append special padding tokens (value = 0) to the end of each review until all reviews are of the same length."
      ]
    },
    {
      "cell_type": "code",
      "execution_count": 18,
      "metadata": {
        "id": "iFqGI5B-LBsY",
        "colab": {
          "base_uri": "https://localhost:8080/"
        },
        "outputId": "7c18e808-3e49-422b-867a-eccd1d5f8132"
      },
      "outputs": [
        {
          "output_type": "stream",
          "name": "stdout",
          "text": [
            "Length of X_train[0]: 218\n",
            "Length of X_train_padded[0]: 300\n",
            "[    1    14    22    16    43   530   973  1622  1385    65   458  4468\n",
            "    66  3941     4   173    36   256     5    25   100    43   838   112\n",
            "    50   670 22665     9    35   480   284     5   150     4   172   112\n",
            "   167 21631   336   385    39     4   172  4536  1111    17   546    38\n",
            "    13   447     4   192    50    16     6   147  2025    19    14    22\n",
            "     4  1920  4613   469     4    22    71    87    12    16    43   530\n",
            "    38    76    15    13  1247     4    22    17   515    17    12    16\n",
            "   626    18 19193     5    62   386    12     8   316     8   106     5\n",
            "     4  2223  5244    16   480    66  3785    33     4   130    12    16\n",
            "    38   619     5    25   124    51    36   135    48    25  1415    33\n",
            "     6    22    12   215    28    77    52     5    14   407    16    82\n",
            " 10311     8     4   107   117  5952    15   256     4 31050     7  3766\n",
            "     5   723    36    71    43   530   476    26   400   317    46     7\n",
            "     4 12118  1029    13   104    88     4   381    15   297    98    32\n",
            "  2071    56    26   141     6   194  7486    18     4   226    22    21\n",
            "   134   476    26   480     5   144    30  5535    18    51    36    28\n",
            "   224    92    25   104     4   226    65    16    38  1334    88    12\n",
            "    16   283     5    16  4472   113   103    32    15    16  5345    19\n",
            "   178    32     0     0     0     0     0     0     0     0     0     0\n",
            "     0     0     0     0     0     0     0     0     0     0     0     0\n",
            "     0     0     0     0     0     0     0     0     0     0     0     0\n",
            "     0     0     0     0     0     0     0     0     0     0     0     0\n",
            "     0     0     0     0     0     0     0     0     0     0     0     0\n",
            "     0     0     0     0     0     0     0     0     0     0     0     0\n",
            "     0     0     0     0     0     0     0     0     0     0     0     0]\n"
          ]
        }
      ],
      "source": [
        "def truncate_pad_data(sequences, max_length):\n",
        "    # Keras has a convenient utility for padding a sequence:\n",
        "    # tf.keras.preprocessing.sequence.pad_sequences()\n",
        "    # Also make sure you get a numpy array rather than an array of lists.\n",
        "    padded_data = tf.keras.preprocessing.sequence.pad_sequences(sequences, maxlen=max_length, padding='post', truncating='post', value=0)\n",
        "    return np.array(padded_data)\n",
        "\n",
        "# 1+ 2: Truncate and pad the training data\n",
        "X_train_padded = truncate_pad_data(X_train, max_length=300)\n",
        "\n",
        "# Check the padded output\n",
        "print('Length of X_train[0]:', len(X_train[0]))\n",
        "print('Length of X_train_padded[0]:', len(X_train_padded[0]))\n",
        "print(X_train_padded[0])"
      ]
    },
    {
      "cell_type": "markdown",
      "metadata": {
        "id": "YAc9MJ_ZLBsY"
      },
      "source": [
        "Next, you want to be able to limit the vocabulary size. Since the <span style=\"color:chocolate\">truncate_pad_data()</span> function produces fixed-length sequences in a numpy matrix, one can use clever numpy indexing to efficiently replace all token ids larger than some value with the designated out-of-vocabulary (OOV) id."
      ]
    },
    {
      "cell_type": "markdown",
      "metadata": {
        "id": "4j_q_igALBsY"
      },
      "source": [
        "### <span style=\"color:chocolate\">Exercise 4:</span> Reduced vocabulary (10 points)"
      ]
    },
    {
      "cell_type": "markdown",
      "metadata": {
        "id": "VAmZmkyULBsZ"
      },
      "source": [
        "Fill in the <span style=\"color:green\">NotImplemented</span> parts of the <span style=\"color:chocolate\">limit_vocab()</span> function below by following these instructions:\n",
        "\n",
        "1. Keep just token ids less than 1000, replacing all others with OOV."
      ]
    },
    {
      "cell_type": "code",
      "execution_count": 19,
      "metadata": {
        "id": "VLw1b4y3LBsZ",
        "colab": {
          "base_uri": "https://localhost:8080/"
        },
        "outputId": "622371fa-769a-4372-ea0e-d4490393dc7a"
      },
      "outputs": [
        {
          "output_type": "stream",
          "name": "stdout",
          "text": [
            "[  1  14  22  16  43 530 973   2   2  65 458   2  66   2   4 173  36 256\n",
            "   5  25 100  43 838 112  50 670   2   9  35 480 284   5 150   4 172 112\n",
            " 167   2 336 385  39   4 172   2   2  17 546  38  13 447   4 192  50  16\n",
            "   6 147   2  19  14  22   4   2   2 469   4  22  71  87  12  16  43 530\n",
            "  38  76  15  13   2   4  22  17 515  17  12  16 626  18   2   5  62 386\n",
            "  12   8 316   8 106   5   4   2   2  16 480  66   2  33   4 130  12  16\n",
            "  38 619   5  25 124  51  36 135  48  25   2  33   6  22  12 215  28  77\n",
            "  52   5  14 407  16  82   2   8   4 107 117   2  15 256   4   2   7   2\n",
            "   5 723  36  71  43 530 476  26 400 317  46   7   4   2   2  13 104  88\n",
            "   4 381  15 297  98  32   2  56  26 141   6 194   2  18   4 226  22  21\n",
            " 134 476  26 480   5 144  30   2  18  51  36  28 224  92  25 104   4 226\n",
            "  65  16  38   2  88  12  16 283   5  16   2 113 103  32  15  16   2  19\n",
            " 178  32   0   0   0   0   0   0   0   0   0   0   0   0   0   0   0   0\n",
            "   0   0   0   0   0   0   0   0   0   0   0   0   0   0   0   0   0   0\n",
            "   0   0   0   0   0   0   0   0   0   0   0   0   0   0   0   0   0   0\n",
            "   0   0   0   0   0   0   0   0   0   0   0   0   0   0   0   0   0   0\n",
            "   0   0   0   0   0   0   0   0   0   0   0   0]\n",
            "<START> this film was just brilliant casting # # story direction # really # the part they played and you could just imagine being there robert # is an amazing actor and now the same being director # father came from the same # # as myself so i loved the fact there was a real # with this film the # # throughout the film were great it was just brilliant so much that i # the film as soon as it was released for # and would recommend it to everyone to watch and the # # was amazing really # at the end it was so sad and you know what they say if you # at a film it must have been good and this definitely was also # to the two little # that played the # of # and paul they were just brilliant children are often left out of the # # i think because the stars that play them all # up are such a big # for the whole film but these children are amazing and should be # for what they have done don't you think the whole story was so # because it was true and was # life after all that was # with us all # # # # # # # # # # # # # # # # # # # # # # # # # # # # # # # # # # # # # # # # # # # # # # # # # # # # # # # # # # # # # # # # # # # # # # # # # # # # # # # # # #\n"
          ]
        }
      ],
      "source": [
        "def limit_vocab(sequences, max_token_id, oov_id=2):\n",
        "  \"\"\"Replace token ids greater than or equal to max_token_id with the oov_id.\"\"\"\n",
        "  # YOUR CODE HERE\n",
        "  reduced_sequences = np.where(sequences >= max_token_id, oov_id, sequences)\n",
        "  return reduced_sequences\n",
        "\n",
        "# Reduce vocabulary to 1000 tokens.\n",
        "X_train_reduced = limit_vocab(X_train_padded, max_token_id=1000)\n",
        "print(X_train_reduced[0])\n",
        "\n",
        "# Decode to see what this looks like in tokens. Note the '#' for OOVs.\n",
        "print(decode(X_train_reduced[0]))"
      ]
    },
    {
      "cell_type": "markdown",
      "metadata": {
        "id": "o9lxFpqTLBsZ"
      },
      "source": [
        "### <span style=\"color:chocolate\">Exercise 5:</span> One-hot encoding (0 points)"
      ]
    },
    {
      "cell_type": "markdown",
      "metadata": {
        "id": "At5u7jNcLBsZ"
      },
      "source": [
        "The current feature representations are **sparse**. That is, one only keeps track of the token ids that are present in the input. A **one-hot** encoding replaces a value like 22 (corresponding to 'film') with an array with a single 1 at position 22 and zeros everywhere else. This will be very memory-inefficient, but we'll do it anyway for clarity.\n",
        "\n",
        "To avoid any memory limitations, let's dramatically reduce both the number of token positions (review length) and the number of token ids (vocabulary).\n",
        "\n",
        "The code below clips each review after 20 tokens and keeps only the first 1000 tokens."
      ]
    },
    {
      "cell_type": "code",
      "execution_count": 20,
      "metadata": {
        "id": "2QHVDNkzLBsa",
        "colab": {
          "base_uri": "https://localhost:8080/"
        },
        "outputId": "9bbe9448-bbec-4de8-b22a-6fd7d7d8d31c"
      },
      "outputs": [
        {
          "output_type": "stream",
          "name": "stdout",
          "text": [
            "X_train_one_hot shape: (25000, 20, 1000)\n"
          ]
        }
      ],
      "source": [
        "# Keras has a util to create one-hot encodings.\n",
        "X_train_padded = truncate_pad_data(X_train, max_length=20)\n",
        "X_train_reduced = limit_vocab(X_train_padded, max_token_id=1000)\n",
        "X_train_one_hot = tf.keras.utils.to_categorical(X_train_reduced)\n",
        "print('X_train_one_hot shape:', X_train_one_hot.shape)"
      ]
    },
    {
      "cell_type": "markdown",
      "metadata": {
        "id": "r0lxx7gNLBsb"
      },
      "source": [
        "Note the shape of the one-hot encoded features. For each of the 25000 training examples, you have a 20 x 1000 matrix. That is, for each of 20 token positions, you have a vector of 1000 elements containing a single 1 and 999 zeros.\n",
        "\n",
        "You can think of these 1000-dimensional one-hot arrays as **embeddings**. Each token in the input has a 1000-dimensional representation. But because of the one-hot setup, the distance between each pair of tokens is the same ([1,0,0,...], [0,1,0,...], etc.). By contrast, learned embeddings result in meaningful distances between pairs of tokens. You'll get to that soon."
      ]
    },
    {
      "cell_type": "markdown",
      "metadata": {
        "id": "8KwmHRCgLBsb"
      },
      "source": [
        "---\n",
        "### Step 5: Modeling"
      ]
    },
    {
      "cell_type": "markdown",
      "metadata": {
        "id": "vyAbgTjsLBsb"
      },
      "source": [
        "### <span style=\"color:chocolate\">Baseline model:</span> Logistic regression with one-hot encodings"
      ]
    },
    {
      "cell_type": "markdown",
      "metadata": {
        "id": "296Cnt647b5c"
      },
      "source": [
        "You will start with something familiar -- logistic regression. Since your feature representation is in 2 dimensions (20 x 1000), you need to flatten it to pass it to Keras (remember you did this with the pixel data too). Try two strategies for flattening.\n",
        "\n",
        "1. Flatten by *concatenating* (as you did with pixels), turning (20 x 1000) data into (20000,) data. The result is a separate feature for each token at each position;\n",
        "2. Flatten by *averaging* over token positions, turning (20 x 1000) data into (1000,) data. The result is an array with average token counts, ignoring position."
      ]
    },
    {
      "cell_type": "code",
      "execution_count": 21,
      "metadata": {
        "id": "6m6eebM-0dUW"
      },
      "outputs": [],
      "source": [
        "def build_onehot_model(average_over_positions=False):\n",
        "  \"\"\"Build a tf.keras model for one-hot data.\"\"\"\n",
        "  # Clear session and remove randomness.\n",
        "  tf.keras.backend.clear_session()\n",
        "  tf.random.set_seed(0)\n",
        "\n",
        "  model = tf.keras.Sequential()\n",
        "\n",
        "  if average_over_positions:\n",
        "    # This layer averages over the first dimension of the input by default.\n",
        "    model.add(tf.keras.layers.GlobalAveragePooling1D())\n",
        "  else:\n",
        "    # Concatenate.\n",
        "    model.add(tf.keras.layers.Flatten())\n",
        "\n",
        "  model.add(tf.keras.layers.Dense(\n",
        "      units=1,                     # output dim (for binary classification)\n",
        "      activation=\"sigmoid\"         # sigmoid activation for binary classification\n",
        "  ))\n",
        "\n",
        "  model.compile(loss='binary_crossentropy',   # this is a classification task\n",
        "                optimizer='adam',             # fancy optimizer\n",
        "                metrics=['accuracy'])\n",
        "\n",
        "  return model"
      ]
    },
    {
      "cell_type": "markdown",
      "metadata": {
        "id": "NY3W_1-OSZ2X"
      },
      "source": [
        "Now let's try fitting the model to your training data and check performance metrics on the validation data. But first, here's a function for plotting the learning curves given the training history object we get from Keras."
      ]
    },
    {
      "cell_type": "code",
      "execution_count": 22,
      "metadata": {
        "id": "cOVmajSuMjN6"
      },
      "outputs": [],
      "source": [
        "def plot_history(history):\n",
        "  plt.ylabel('Loss')\n",
        "  plt.xlabel('Epoch')\n",
        "  plt.xticks(range(0, len(history['loss'] + 1)))\n",
        "  plt.plot(history['loss'], label=\"training\", marker='o')\n",
        "  plt.plot(history['val_loss'], label=\"validation\", marker='o')\n",
        "  plt.ylim(0,1)\n",
        "  plt.legend()\n",
        "  plt.show()"
      ]
    },
    {
      "cell_type": "code",
      "execution_count": 23,
      "metadata": {
        "id": "MyE4PgX70_op",
        "colab": {
          "base_uri": "https://localhost:8080/",
          "height": 838
        },
        "outputId": "fda3b887-4026-4032-904d-c2669547fba5"
      },
      "outputs": [
        {
          "output_type": "stream",
          "name": "stdout",
          "text": [
            "Epoch 1/5\n",
            "\u001b[1m352/352\u001b[0m \u001b[32m━━━━━━━━━━━━━━━━━━━━\u001b[0m\u001b[37m\u001b[0m \u001b[1m5s\u001b[0m 10ms/step - accuracy: 0.5591 - loss: 0.6877 - val_accuracy: 0.6096 - val_loss: 0.6745\n",
            "Epoch 2/5\n",
            "\u001b[1m352/352\u001b[0m \u001b[32m━━━━━━━━━━━━━━━━━━━━\u001b[0m\u001b[37m\u001b[0m \u001b[1m3s\u001b[0m 8ms/step - accuracy: 0.6952 - loss: 0.6515 - val_accuracy: 0.6200 - val_loss: 0.6623\n",
            "Epoch 3/5\n",
            "\u001b[1m352/352\u001b[0m \u001b[32m━━━━━━━━━━━━━━━━━━━━\u001b[0m\u001b[37m\u001b[0m \u001b[1m5s\u001b[0m 6ms/step - accuracy: 0.7281 - loss: 0.6227 - val_accuracy: 0.6248 - val_loss: 0.6536\n",
            "Epoch 4/5\n",
            "\u001b[1m352/352\u001b[0m \u001b[32m━━━━━━━━━━━━━━━━━━━━\u001b[0m\u001b[37m\u001b[0m \u001b[1m2s\u001b[0m 6ms/step - accuracy: 0.7484 - loss: 0.5986 - val_accuracy: 0.6244 - val_loss: 0.6471\n",
            "Epoch 5/5\n",
            "\u001b[1m352/352\u001b[0m \u001b[32m━━━━━━━━━━━━━━━━━━━━\u001b[0m\u001b[37m\u001b[0m \u001b[1m2s\u001b[0m 6ms/step - accuracy: 0.7630 - loss: 0.5778 - val_accuracy: 0.6308 - val_loss: 0.6421\n"
          ]
        },
        {
          "output_type": "display_data",
          "data": {
            "text/plain": [
              "\u001b[1mModel: \"sequential\"\u001b[0m\n"
            ],
            "text/html": [
              "<pre style=\"white-space:pre;overflow-x:auto;line-height:normal;font-family:Menlo,'DejaVu Sans Mono',consolas,'Courier New',monospace\"><span style=\"font-weight: bold\">Model: \"sequential\"</span>\n",
              "</pre>\n"
            ]
          },
          "metadata": {}
        },
        {
          "output_type": "display_data",
          "data": {
            "text/plain": [
              "┏━━━━━━━━━━━━━━━━━━━━━━━━━━━━━━━━━━━━━━┳━━━━━━━━━━━━━━━━━━━━━━━━━━━━━┳━━━━━━━━━━━━━━━━━┓\n",
              "┃\u001b[1m \u001b[0m\u001b[1mLayer (type)                        \u001b[0m\u001b[1m \u001b[0m┃\u001b[1m \u001b[0m\u001b[1mOutput Shape               \u001b[0m\u001b[1m \u001b[0m┃\u001b[1m \u001b[0m\u001b[1m        Param #\u001b[0m\u001b[1m \u001b[0m┃\n",
              "┡━━━━━━━━━━━━━━━━━━━━━━━━━━━━━━━━━━━━━━╇━━━━━━━━━━━━━━━━━━━━━━━━━━━━━╇━━━━━━━━━━━━━━━━━┩\n",
              "│ flatten (\u001b[38;5;33mFlatten\u001b[0m)                    │ (\u001b[38;5;45mNone\u001b[0m, \u001b[38;5;34m20000\u001b[0m)               │               \u001b[38;5;34m0\u001b[0m │\n",
              "├──────────────────────────────────────┼─────────────────────────────┼─────────────────┤\n",
              "│ dense (\u001b[38;5;33mDense\u001b[0m)                        │ (\u001b[38;5;45mNone\u001b[0m, \u001b[38;5;34m1\u001b[0m)                   │          \u001b[38;5;34m20,001\u001b[0m │\n",
              "└──────────────────────────────────────┴─────────────────────────────┴─────────────────┘\n"
            ],
            "text/html": [
              "<pre style=\"white-space:pre;overflow-x:auto;line-height:normal;font-family:Menlo,'DejaVu Sans Mono',consolas,'Courier New',monospace\">┏━━━━━━━━━━━━━━━━━━━━━━━━━━━━━━━━━━━━━━┳━━━━━━━━━━━━━━━━━━━━━━━━━━━━━┳━━━━━━━━━━━━━━━━━┓\n",
              "┃<span style=\"font-weight: bold\"> Layer (type)                         </span>┃<span style=\"font-weight: bold\"> Output Shape                </span>┃<span style=\"font-weight: bold\">         Param # </span>┃\n",
              "┡━━━━━━━━━━━━━━━━━━━━━━━━━━━━━━━━━━━━━━╇━━━━━━━━━━━━━━━━━━━━━━━━━━━━━╇━━━━━━━━━━━━━━━━━┩\n",
              "│ flatten (<span style=\"color: #0087ff; text-decoration-color: #0087ff\">Flatten</span>)                    │ (<span style=\"color: #00d7ff; text-decoration-color: #00d7ff\">None</span>, <span style=\"color: #00af00; text-decoration-color: #00af00\">20000</span>)               │               <span style=\"color: #00af00; text-decoration-color: #00af00\">0</span> │\n",
              "├──────────────────────────────────────┼─────────────────────────────┼─────────────────┤\n",
              "│ dense (<span style=\"color: #0087ff; text-decoration-color: #0087ff\">Dense</span>)                        │ (<span style=\"color: #00d7ff; text-decoration-color: #00d7ff\">None</span>, <span style=\"color: #00af00; text-decoration-color: #00af00\">1</span>)                   │          <span style=\"color: #00af00; text-decoration-color: #00af00\">20,001</span> │\n",
              "└──────────────────────────────────────┴─────────────────────────────┴─────────────────┘\n",
              "</pre>\n"
            ]
          },
          "metadata": {}
        },
        {
          "output_type": "display_data",
          "data": {
            "text/plain": [
              "\u001b[1m Total params: \u001b[0m\u001b[38;5;34m60,005\u001b[0m (234.40 KB)\n"
            ],
            "text/html": [
              "<pre style=\"white-space:pre;overflow-x:auto;line-height:normal;font-family:Menlo,'DejaVu Sans Mono',consolas,'Courier New',monospace\"><span style=\"font-weight: bold\"> Total params: </span><span style=\"color: #00af00; text-decoration-color: #00af00\">60,005</span> (234.40 KB)\n",
              "</pre>\n"
            ]
          },
          "metadata": {}
        },
        {
          "output_type": "display_data",
          "data": {
            "text/plain": [
              "\u001b[1m Trainable params: \u001b[0m\u001b[38;5;34m20,001\u001b[0m (78.13 KB)\n"
            ],
            "text/html": [
              "<pre style=\"white-space:pre;overflow-x:auto;line-height:normal;font-family:Menlo,'DejaVu Sans Mono',consolas,'Courier New',monospace\"><span style=\"font-weight: bold\"> Trainable params: </span><span style=\"color: #00af00; text-decoration-color: #00af00\">20,001</span> (78.13 KB)\n",
              "</pre>\n"
            ]
          },
          "metadata": {}
        },
        {
          "output_type": "display_data",
          "data": {
            "text/plain": [
              "\u001b[1m Non-trainable params: \u001b[0m\u001b[38;5;34m0\u001b[0m (0.00 B)\n"
            ],
            "text/html": [
              "<pre style=\"white-space:pre;overflow-x:auto;line-height:normal;font-family:Menlo,'DejaVu Sans Mono',consolas,'Courier New',monospace\"><span style=\"font-weight: bold\"> Non-trainable params: </span><span style=\"color: #00af00; text-decoration-color: #00af00\">0</span> (0.00 B)\n",
              "</pre>\n"
            ]
          },
          "metadata": {}
        },
        {
          "output_type": "display_data",
          "data": {
            "text/plain": [
              "\u001b[1m Optimizer params: \u001b[0m\u001b[38;5;34m40,004\u001b[0m (156.27 KB)\n"
            ],
            "text/html": [
              "<pre style=\"white-space:pre;overflow-x:auto;line-height:normal;font-family:Menlo,'DejaVu Sans Mono',consolas,'Courier New',monospace\"><span style=\"font-weight: bold\"> Optimizer params: </span><span style=\"color: #00af00; text-decoration-color: #00af00\">40,004</span> (156.27 KB)\n",
              "</pre>\n"
            ]
          },
          "metadata": {}
        },
        {
          "output_type": "display_data",
          "data": {
            "text/plain": [
              "<Figure size 640x480 with 1 Axes>"
            ],
            "image/png": "[encoded data removed]"
          },
          "metadata": {}
        }
      ],
      "source": [
        "model1 = build_onehot_model()\n",
        "\n",
        "# Fit the model.\n",
        "history1 = model1.fit(\n",
        "  x = X_train_one_hot,  # one-hot training data\n",
        "  y = Y_train,          # corresponding binary labels\n",
        "  epochs=5,             # number of passes through the training data\n",
        "  batch_size=64,        # mini-batch size\n",
        "  validation_split=0.1, # use a fraction of the examples for validation\n",
        "  verbose=1             # display some progress output during training\n",
        "  )\n",
        "\n",
        "model1.summary()\n",
        "# Convert the return value into a DataFrame so we can see the train loss\n",
        "# and binary accuracy after every epoch.\n",
        "history1 = pd.DataFrame(history1.history)\n",
        "plot_history(history1)"
      ]
    },
    {
      "cell_type": "markdown",
      "metadata": {
        "id": "pq62RB72LBsd"
      },
      "source": [
        "### <span style=\"color:chocolate\">Exercise 6:</span>  Comparing logistic regression models (20 points)"
      ]
    },
    {
      "cell_type": "markdown",
      "metadata": {
        "id": "QuCh9aQPv7F_"
      },
      "source": [
        "Train the one-hot model using both the concatenating and the averaging strategies and compare the results. Let's call these *LR-C* (Logistic Regression Concatenating) and *LR-A* (Logistic Regression Averaging). Then answer the following questions:\n",
        "\n",
        "1. What are the final training and validation accuracies for LR-C and LR-A?\n",
        "2. How many parameters are there in each model?\n",
        "3. Would you say that either model is overfitting? Why or why not?\n",
        "4. Briefly describe how LR-C differs from LR-A. How do you explain the relationship between their respective validation accuracy results?"
      ]
    },
    {
      "cell_type": "code",
      "source": [
        "# Train the model with concatenation (LR-C):\n",
        "LR_C = build_onehot_model(average_over_positions=False)\n",
        "history_concat = LR_C.fit(X_train_one_hot, Y_train, epochs=5, batch_size=64, validation_split=0.1, verbose=1)\n",
        "\n",
        "# Train the model with averaging (LR-A):\n",
        "LR_A = build_onehot_model(average_over_positions=True)\n",
        "history_avg = LR_A.fit(X_train_one_hot, Y_train, epochs=5, batch_size=64, validation_split=0.1, verbose=1)"
      ],
      "metadata": {
        "colab": {
          "base_uri": "https://localhost:8080/"
        },
        "id": "QYMbW3EFG_7h",
        "outputId": "cec764f5-b3b9-4516-daa5-fe94ce4f4676"
      },
      "execution_count": 24,
      "outputs": [
        {
          "output_type": "stream",
          "name": "stdout",
          "text": [
            "Epoch 1/5\n",
            "\u001b[1m352/352\u001b[0m \u001b[32m━━━━━━━━━━━━━━━━━━━━\u001b[0m\u001b[37m\u001b[0m \u001b[1m4s\u001b[0m 8ms/step - accuracy: 0.5516 - loss: 0.6881 - val_accuracy: 0.6124 - val_loss: 0.6745\n",
            "Epoch 2/5\n",
            "\u001b[1m352/352\u001b[0m \u001b[32m━━━━━━━━━━━━━━━━━━━━\u001b[0m\u001b[37m\u001b[0m \u001b[1m2s\u001b[0m 6ms/step - accuracy: 0.6949 - loss: 0.6517 - val_accuracy: 0.6188 - val_loss: 0.6623\n",
            "Epoch 3/5\n",
            "\u001b[1m352/352\u001b[0m \u001b[32m━━━━━━━━━━━━━━━━━━━━\u001b[0m\u001b[37m\u001b[0m \u001b[1m2s\u001b[0m 6ms/step - accuracy: 0.7282 - loss: 0.6227 - val_accuracy: 0.6220 - val_loss: 0.6537\n",
            "Epoch 4/5\n",
            "\u001b[1m352/352\u001b[0m \u001b[32m━━━━━━━━━━━━━━━━━━━━\u001b[0m\u001b[37m\u001b[0m \u001b[1m5s\u001b[0m 12ms/step - accuracy: 0.7496 - loss: 0.5986 - val_accuracy: 0.6280 - val_loss: 0.6472\n",
            "Epoch 5/5\n",
            "\u001b[1m352/352\u001b[0m \u001b[32m━━━━━━━━━━━━━━━━━━━━\u001b[0m\u001b[37m\u001b[0m \u001b[1m3s\u001b[0m 7ms/step - accuracy: 0.7659 - loss: 0.5779 - val_accuracy: 0.6288 - val_loss: 0.6421\n",
            "Epoch 1/5\n",
            "\u001b[1m352/352\u001b[0m \u001b[32m━━━━━━━━━━━━━━━━━━━━\u001b[0m\u001b[37m\u001b[0m \u001b[1m6s\u001b[0m 15ms/step - accuracy: 0.5394 - loss: 0.6926 - val_accuracy: 0.5904 - val_loss: 0.6900\n",
            "Epoch 2/5\n",
            "\u001b[1m352/352\u001b[0m \u001b[32m━━━━━━━━━━━━━━━━━━━━\u001b[0m\u001b[37m\u001b[0m \u001b[1m2s\u001b[0m 6ms/step - accuracy: 0.6160 - loss: 0.6888 - val_accuracy: 0.6068 - val_loss: 0.6867\n",
            "Epoch 3/5\n",
            "\u001b[1m352/352\u001b[0m \u001b[32m━━━━━━━━━━━━━━━━━━━━\u001b[0m\u001b[37m\u001b[0m \u001b[1m4s\u001b[0m 9ms/step - accuracy: 0.6288 - loss: 0.6854 - val_accuracy: 0.6108 - val_loss: 0.6836\n",
            "Epoch 4/5\n",
            "\u001b[1m352/352\u001b[0m \u001b[32m━━━━━━━━━━━━━━━━━━━━\u001b[0m\u001b[37m\u001b[0m \u001b[1m4s\u001b[0m 5ms/step - accuracy: 0.6373 - loss: 0.6821 - val_accuracy: 0.6164 - val_loss: 0.6807\n",
            "Epoch 5/5\n",
            "\u001b[1m352/352\u001b[0m \u001b[32m━━━━━━━━━━━━━━━━━━━━\u001b[0m\u001b[37m\u001b[0m \u001b[1m3s\u001b[0m 8ms/step - accuracy: 0.6391 - loss: 0.6791 - val_accuracy: 0.6240 - val_loss: 0.6780\n"
          ]
        }
      ]
    },
    {
      "cell_type": "code",
      "source": [
        "# Evaluate models on validation data\n",
        "val_acc_concat = LR_C.evaluate(X_train_one_hot, Y_train, verbose=0)[1]\n",
        "val_acc_avg = LR_A.evaluate(X_train_one_hot, Y_train, verbose=0)[1]\n",
        "print(f\"LR-C (Concatenation) - Final Training Accuracy: {history_concat.history['accuracy'][-1]:.4f}, Final Validation Accuracy: {val_acc_concat:.4f}\")\n",
        "print(f\"LR-A (Averaging) - Final Training Accuracy: {history_avg.history['accuracy'][-1]:.4f}, Final Validation Accuracy: {val_acc_avg:.4f}\")"
      ],
      "metadata": {
        "colab": {
          "base_uri": "https://localhost:8080/"
        },
        "id": "j4LTb-LBHC_7",
        "outputId": "5aa677ab-be2c-4b9f-e373-12f66daf5fbc"
      },
      "execution_count": 25,
      "outputs": [
        {
          "output_type": "stream",
          "name": "stdout",
          "text": [
            "LR-C (Concatenation) - Final Training Accuracy: 0.7599, Final Validation Accuracy: 0.7661\n",
            "LR-A (Averaging) - Final Training Accuracy: 0.6335, Final Validation Accuracy: 0.6346\n"
          ]
        }
      ]
    },
    {
      "cell_type": "code",
      "source": [
        "LR_C.summary()\n",
        "LR_A.summary()"
      ],
      "metadata": {
        "colab": {
          "base_uri": "https://localhost:8080/",
          "height": 434
        },
        "id": "Bh1tlqLSIha3",
        "outputId": "6c65fb3e-0d70-43a0-9490-2398acf56228"
      },
      "execution_count": 26,
      "outputs": [
        {
          "output_type": "display_data",
          "data": {
            "text/plain": [
              "\u001b[1mModel: \"sequential\"\u001b[0m\n"
            ],
            "text/html": [
              "<pre style=\"white-space:pre;overflow-x:auto;line-height:normal;font-family:Menlo,'DejaVu Sans Mono',consolas,'Courier New',monospace\"><span style=\"font-weight: bold\">Model: \"sequential\"</span>\n",
              "</pre>\n"
            ]
          },
          "metadata": {}
        },
        {
          "output_type": "display_data",
          "data": {
            "text/plain": [
              "┏━━━━━━━━━━━━━━━━━━━━━━━━━━━━━━━━━━━━━━┳━━━━━━━━━━━━━━━━━━━━━━━━━━━━━┳━━━━━━━━━━━━━━━━━┓\n",
              "┃\u001b[1m \u001b[0m\u001b[1mLayer (type)                        \u001b[0m\u001b[1m \u001b[0m┃\u001b[1m \u001b[0m\u001b[1mOutput Shape               \u001b[0m\u001b[1m \u001b[0m┃\u001b[1m \u001b[0m\u001b[1m        Param #\u001b[0m\u001b[1m \u001b[0m┃\n",
              "┡━━━━━━━━━━━━━━━━━━━━━━━━━━━━━━━━━━━━━━╇━━━━━━━━━━━━━━━━━━━━━━━━━━━━━╇━━━━━━━━━━━━━━━━━┩\n",
              "│ flatten (\u001b[38;5;33mFlatten\u001b[0m)                    │ (\u001b[38;5;45mNone\u001b[0m, \u001b[38;5;34m20000\u001b[0m)               │               \u001b[38;5;34m0\u001b[0m │\n",
              "├──────────────────────────────────────┼─────────────────────────────┼─────────────────┤\n",
              "│ dense (\u001b[38;5;33mDense\u001b[0m)                        │ (\u001b[38;5;45mNone\u001b[0m, \u001b[38;5;34m1\u001b[0m)                   │          \u001b[38;5;34m20,001\u001b[0m │\n",
              "└──────────────────────────────────────┴─────────────────────────────┴─────────────────┘\n"
            ],
            "text/html": [
              "<pre style=\"white-space:pre;overflow-x:auto;line-height:normal;font-family:Menlo,'DejaVu Sans Mono',consolas,'Courier New',monospace\">┏━━━━━━━━━━━━━━━━━━━━━━━━━━━━━━━━━━━━━━┳━━━━━━━━━━━━━━━━━━━━━━━━━━━━━┳━━━━━━━━━━━━━━━━━┓\n",
              "┃<span style=\"font-weight: bold\"> Layer (type)                         </span>┃<span style=\"font-weight: bold\"> Output Shape                </span>┃<span style=\"font-weight: bold\">         Param # </span>┃\n",
              "┡━━━━━━━━━━━━━━━━━━━━━━━━━━━━━━━━━━━━━━╇━━━━━━━━━━━━━━━━━━━━━━━━━━━━━╇━━━━━━━━━━━━━━━━━┩\n",
              "│ flatten (<span style=\"color: #0087ff; text-decoration-color: #0087ff\">Flatten</span>)                    │ (<span style=\"color: #00d7ff; text-decoration-color: #00d7ff\">None</span>, <span style=\"color: #00af00; text-decoration-color: #00af00\">20000</span>)               │               <span style=\"color: #00af00; text-decoration-color: #00af00\">0</span> │\n",
              "├──────────────────────────────────────┼─────────────────────────────┼─────────────────┤\n",
              "│ dense (<span style=\"color: #0087ff; text-decoration-color: #0087ff\">Dense</span>)                        │ (<span style=\"color: #00d7ff; text-decoration-color: #00d7ff\">None</span>, <span style=\"color: #00af00; text-decoration-color: #00af00\">1</span>)                   │          <span style=\"color: #00af00; text-decoration-color: #00af00\">20,001</span> │\n",
              "└──────────────────────────────────────┴─────────────────────────────┴─────────────────┘\n",
              "</pre>\n"
            ]
          },
          "metadata": {}
        },
        {
          "output_type": "display_data",
          "data": {
            "text/plain": [
              "\u001b[1m Total params: \u001b[0m\u001b[38;5;34m60,005\u001b[0m (234.40 KB)\n"
            ],
            "text/html": [
              "<pre style=\"white-space:pre;overflow-x:auto;line-height:normal;font-family:Menlo,'DejaVu Sans Mono',consolas,'Courier New',monospace\"><span style=\"font-weight: bold\"> Total params: </span><span style=\"color: #00af00; text-decoration-color: #00af00\">60,005</span> (234.40 KB)\n",
              "</pre>\n"
            ]
          },
          "metadata": {}
        },
        {
          "output_type": "display_data",
          "data": {
            "text/plain": [
              "\u001b[1m Trainable params: \u001b[0m\u001b[38;5;34m20,001\u001b[0m (78.13 KB)\n"
            ],
            "text/html": [
              "<pre style=\"white-space:pre;overflow-x:auto;line-height:normal;font-family:Menlo,'DejaVu Sans Mono',consolas,'Courier New',monospace\"><span style=\"font-weight: bold\"> Trainable params: </span><span style=\"color: #00af00; text-decoration-color: #00af00\">20,001</span> (78.13 KB)\n",
              "</pre>\n"
            ]
          },
          "metadata": {}
        },
        {
          "output_type": "display_data",
          "data": {
            "text/plain": [
              "\u001b[1m Non-trainable params: \u001b[0m\u001b[38;5;34m0\u001b[0m (0.00 B)\n"
            ],
            "text/html": [
              "<pre style=\"white-space:pre;overflow-x:auto;line-height:normal;font-family:Menlo,'DejaVu Sans Mono',consolas,'Courier New',monospace\"><span style=\"font-weight: bold\"> Non-trainable params: </span><span style=\"color: #00af00; text-decoration-color: #00af00\">0</span> (0.00 B)\n",
              "</pre>\n"
            ]
          },
          "metadata": {}
        },
        {
          "output_type": "display_data",
          "data": {
            "text/plain": [
              "\u001b[1m Optimizer params: \u001b[0m\u001b[38;5;34m40,004\u001b[0m (156.27 KB)\n"
            ],
            "text/html": [
              "<pre style=\"white-space:pre;overflow-x:auto;line-height:normal;font-family:Menlo,'DejaVu Sans Mono',consolas,'Courier New',monospace\"><span style=\"font-weight: bold\"> Optimizer params: </span><span style=\"color: #00af00; text-decoration-color: #00af00\">40,004</span> (156.27 KB)\n",
              "</pre>\n"
            ]
          },
          "metadata": {}
        },
        {
          "output_type": "display_data",
          "data": {
            "text/plain": [
              "\u001b[1mModel: \"sequential\"\u001b[0m\n"
            ],
            "text/html": [
              "<pre style=\"white-space:pre;overflow-x:auto;line-height:normal;font-family:Menlo,'DejaVu Sans Mono',consolas,'Courier New',monospace\"><span style=\"font-weight: bold\">Model: \"sequential\"</span>\n",
              "</pre>\n"
            ]
          },
          "metadata": {}
        },
        {
          "output_type": "display_data",
          "data": {
            "text/plain": [
              "┏━━━━━━━━━━━━━━━━━━━━━━━━━━━━━━━━━━━━━━┳━━━━━━━━━━━━━━━━━━━━━━━━━━━━━┳━━━━━━━━━━━━━━━━━┓\n",
              "┃\u001b[1m \u001b[0m\u001b[1mLayer (type)                        \u001b[0m\u001b[1m \u001b[0m┃\u001b[1m \u001b[0m\u001b[1mOutput Shape               \u001b[0m\u001b[1m \u001b[0m┃\u001b[1m \u001b[0m\u001b[1m        Param #\u001b[0m\u001b[1m \u001b[0m┃\n",
              "┡━━━━━━━━━━━━━━━━━━━━━━━━━━━━━━━━━━━━━━╇━━━━━━━━━━━━━━━━━━━━━━━━━━━━━╇━━━━━━━━━━━━━━━━━┩\n",
              "│ global_average_pooling1d             │ (\u001b[38;5;45mNone\u001b[0m, \u001b[38;5;34m1000\u001b[0m)                │               \u001b[38;5;34m0\u001b[0m │\n",
              "│ (\u001b[38;5;33mGlobalAveragePooling1D\u001b[0m)             │                             │                 │\n",
              "├──────────────────────────────────────┼─────────────────────────────┼─────────────────┤\n",
              "│ dense (\u001b[38;5;33mDense\u001b[0m)                        │ (\u001b[38;5;45mNone\u001b[0m, \u001b[38;5;34m1\u001b[0m)                   │           \u001b[38;5;34m1,001\u001b[0m │\n",
              "└──────────────────────────────────────┴─────────────────────────────┴─────────────────┘\n"
            ],
            "text/html": [
              "<pre style=\"white-space:pre;overflow-x:auto;line-height:normal;font-family:Menlo,'DejaVu Sans Mono',consolas,'Courier New',monospace\">┏━━━━━━━━━━━━━━━━━━━━━━━━━━━━━━━━━━━━━━┳━━━━━━━━━━━━━━━━━━━━━━━━━━━━━┳━━━━━━━━━━━━━━━━━┓\n",
              "┃<span style=\"font-weight: bold\"> Layer (type)                         </span>┃<span style=\"font-weight: bold\"> Output Shape                </span>┃<span style=\"font-weight: bold\">         Param # </span>┃\n",
              "┡━━━━━━━━━━━━━━━━━━━━━━━━━━━━━━━━━━━━━━╇━━━━━━━━━━━━━━━━━━━━━━━━━━━━━╇━━━━━━━━━━━━━━━━━┩\n",
              "│ global_average_pooling1d             │ (<span style=\"color: #00d7ff; text-decoration-color: #00d7ff\">None</span>, <span style=\"color: #00af00; text-decoration-color: #00af00\">1000</span>)                │               <span style=\"color: #00af00; text-decoration-color: #00af00\">0</span> │\n",
              "│ (<span style=\"color: #0087ff; text-decoration-color: #0087ff\">GlobalAveragePooling1D</span>)             │                             │                 │\n",
              "├──────────────────────────────────────┼─────────────────────────────┼─────────────────┤\n",
              "│ dense (<span style=\"color: #0087ff; text-decoration-color: #0087ff\">Dense</span>)                        │ (<span style=\"color: #00d7ff; text-decoration-color: #00d7ff\">None</span>, <span style=\"color: #00af00; text-decoration-color: #00af00\">1</span>)                   │           <span style=\"color: #00af00; text-decoration-color: #00af00\">1,001</span> │\n",
              "└──────────────────────────────────────┴─────────────────────────────┴─────────────────┘\n",
              "</pre>\n"
            ]
          },
          "metadata": {}
        },
        {
          "output_type": "display_data",
          "data": {
            "text/plain": [
              "\u001b[1m Total params: \u001b[0m\u001b[38;5;34m3,005\u001b[0m (11.74 KB)\n"
            ],
            "text/html": [
              "<pre style=\"white-space:pre;overflow-x:auto;line-height:normal;font-family:Menlo,'DejaVu Sans Mono',consolas,'Courier New',monospace\"><span style=\"font-weight: bold\"> Total params: </span><span style=\"color: #00af00; text-decoration-color: #00af00\">3,005</span> (11.74 KB)\n",
              "</pre>\n"
            ]
          },
          "metadata": {}
        },
        {
          "output_type": "display_data",
          "data": {
            "text/plain": [
              "\u001b[1m Trainable params: \u001b[0m\u001b[38;5;34m1,001\u001b[0m (3.91 KB)\n"
            ],
            "text/html": [
              "<pre style=\"white-space:pre;overflow-x:auto;line-height:normal;font-family:Menlo,'DejaVu Sans Mono',consolas,'Courier New',monospace\"><span style=\"font-weight: bold\"> Trainable params: </span><span style=\"color: #00af00; text-decoration-color: #00af00\">1,001</span> (3.91 KB)\n",
              "</pre>\n"
            ]
          },
          "metadata": {}
        },
        {
          "output_type": "display_data",
          "data": {
            "text/plain": [
              "\u001b[1m Non-trainable params: \u001b[0m\u001b[38;5;34m0\u001b[0m (0.00 B)\n"
            ],
            "text/html": [
              "<pre style=\"white-space:pre;overflow-x:auto;line-height:normal;font-family:Menlo,'DejaVu Sans Mono',consolas,'Courier New',monospace\"><span style=\"font-weight: bold\"> Non-trainable params: </span><span style=\"color: #00af00; text-decoration-color: #00af00\">0</span> (0.00 B)\n",
              "</pre>\n"
            ]
          },
          "metadata": {}
        },
        {
          "output_type": "display_data",
          "data": {
            "text/plain": [
              "\u001b[1m Optimizer params: \u001b[0m\u001b[38;5;34m2,004\u001b[0m (7.83 KB)\n"
            ],
            "text/html": [
              "<pre style=\"white-space:pre;overflow-x:auto;line-height:normal;font-family:Menlo,'DejaVu Sans Mono',consolas,'Courier New',monospace\"><span style=\"font-weight: bold\"> Optimizer params: </span><span style=\"color: #00af00; text-decoration-color: #00af00\">2,004</span> (7.83 KB)\n",
              "</pre>\n"
            ]
          },
          "metadata": {}
        }
      ]
    },
    {
      "cell_type": "markdown",
      "metadata": {
        "id": "CEAN5BejHc__"
      },
      "source": [
        "*Written answer:*\n",
        "\n",
        "1. LR-C (Concatenation) - Final Training Accuracy: 0.7599, Final Validation Accuracy: 0.7661. LR-A (Averaging) - Final Training Accuracy: 0.6335, Final Validation Accuracy: 0.6346\n",
        "\n",
        "2. There are 60005 parameters in the LR-C (Concatenation) model, and 3005 parameters in the LR-A (Averaging) model.\n",
        "\n",
        "3. Neither model is overfitting because the training and validation accuracies are relatively close in both cases. However, LR-C appears to be more effective at learning the patterns in the data, as it gets higher training and validation accuracies. LR-A, on the other hand, has a worse performance, but since the accuracies are close, it is not overfitting either. The difference in performance is more likely due to LR-C's larger model complexity, allowing it to be fitting the data better.\n",
        "\n",
        "4. LR-C (Concatenation) flattens the token sequence by concatenating all token positions, creating a long vector that is preserving both the token values and their positions in the sequence. This allows the model to capture more detailed relationships, resulting in the higher accuracy. In contrast, LR-A (Averaging) averages the token values across all positions, simplifying the representation by treating the sequence as a bag of tokens without positional context. The higher validation accuracy of LR-C (0.7661) suggests that the model benefits from maintaining sequence structure, while LR-A (0.6346) struggles because it loses information about token order. LR-C’s ability to capture position-specific relationships leads to better performance on more complex data."
      ]
    },
    {
      "cell_type": "markdown",
      "metadata": {
        "id": "nEkImipNLBse"
      },
      "source": [
        "### <span style=\"color:chocolate\">Improvement over baseline:</span> Logistic regression with embeddings"
      ]
    },
    {
      "cell_type": "markdown",
      "metadata": {
        "id": "sJIBRqK7lsjG"
      },
      "source": [
        "Next, you will train a model that replaces one-hot representations of each token with learned embeddings.\n",
        "\n",
        "The code below uses a Keras Embedding layer, which expects to receive a sparse (rather than one-hot) representation. That is, it expects a (padded) sequence of token ids; for each id, it looks up the corresponding embedding vector."
      ]
    },
    {
      "cell_type": "code",
      "execution_count": 27,
      "metadata": {
        "id": "ho6uOeCaBs2e"
      },
      "outputs": [],
      "source": [
        "def build_embeddings_model(average_over_positions=False,\n",
        "                           vocab_size=1000,\n",
        "                           sequence_length=20,\n",
        "                           embedding_dim=2):\n",
        "  \"\"\"Build a tf.keras model using embeddings.\"\"\"\n",
        "  # Clear session and remove randomness.\n",
        "  tf.keras.backend.clear_session()\n",
        "  tf.random.set_seed(0)\n",
        "\n",
        "  model = tf.keras.Sequential()\n",
        "  model.add(tf.keras.layers.Embedding(\n",
        "      input_dim=vocab_size,\n",
        "      output_dim=embedding_dim,\n",
        "      input_length=sequence_length)\n",
        "  )\n",
        "\n",
        "  if average_over_positions:\n",
        "    # This layer averages over the first dimension of the input by default.\n",
        "    model.add(tf.keras.layers.GlobalAveragePooling1D())\n",
        "  else:\n",
        "    # Concatenate.\n",
        "    model.add(tf.keras.layers.Flatten())\n",
        "\n",
        "  model.add(tf.keras.layers.Dense(\n",
        "      units=1,                     # output dim (for binary classification)\n",
        "      activation='sigmoid'         # apply the sigmoid function!\n",
        "  ))\n",
        "\n",
        "  model.compile(loss='binary_crossentropy',\n",
        "                optimizer='adam',\n",
        "                metrics=['accuracy'])\n",
        "\n",
        "  return model"
      ]
    },
    {
      "cell_type": "markdown",
      "metadata": {
        "id": "eyhoEjAiFSNB"
      },
      "source": [
        "You will train this model, this time using the averaging strategy instead of the concatenating strategy for handling the token sequence. You'll look up the embedding vectors for each token and average them to produce a single vector. Then, you'll use this averaged vector to train a logistic regression model to predict the binary label."
      ]
    },
    {
      "cell_type": "code",
      "execution_count": 28,
      "metadata": {
        "id": "uYUE5UwkxoU8",
        "colab": {
          "base_uri": "https://localhost:8080/",
          "height": 922
        },
        "outputId": "8d9e6474-8e44-4bbb-b4e4-62c5df7401c0"
      },
      "outputs": [
        {
          "output_type": "stream",
          "name": "stdout",
          "text": [
            "Epoch 1/5\n"
          ]
        },
        {
          "output_type": "stream",
          "name": "stderr",
          "text": [
            "/usr/local/lib/python3.11/dist-packages/keras/src/layers/core/embedding.py:90: UserWarning: Argument `input_length` is deprecated. Just remove it.\n",
            "  warnings.warn(\n"
          ]
        },
        {
          "output_type": "stream",
          "name": "stdout",
          "text": [
            "\u001b[1m352/352\u001b[0m \u001b[32m━━━━━━━━━━━━━━━━━━━━\u001b[0m\u001b[37m\u001b[0m \u001b[1m2s\u001b[0m 3ms/step - accuracy: 0.5518 - loss: 0.6909 - val_accuracy: 0.5988 - val_loss: 0.6827\n",
            "Epoch 2/5\n",
            "\u001b[1m352/352\u001b[0m \u001b[32m━━━━━━━━━━━━━━━━━━━━\u001b[0m\u001b[37m\u001b[0m \u001b[1m1s\u001b[0m 3ms/step - accuracy: 0.6224 - loss: 0.6782 - val_accuracy: 0.6156 - val_loss: 0.6675\n",
            "Epoch 3/5\n",
            "\u001b[1m352/352\u001b[0m \u001b[32m━━━━━━━━━━━━━━━━━━━━\u001b[0m\u001b[37m\u001b[0m \u001b[1m2s\u001b[0m 4ms/step - accuracy: 0.6414 - loss: 0.6617 - val_accuracy: 0.6332 - val_loss: 0.6519\n",
            "Epoch 4/5\n",
            "\u001b[1m352/352\u001b[0m \u001b[32m━━━━━━━━━━━━━━━━━━━━\u001b[0m\u001b[37m\u001b[0m \u001b[1m2s\u001b[0m 3ms/step - accuracy: 0.6585 - loss: 0.6448 - val_accuracy: 0.6488 - val_loss: 0.6378\n",
            "Epoch 5/5\n",
            "\u001b[1m352/352\u001b[0m \u001b[32m━━━━━━━━━━━━━━━━━━━━\u001b[0m\u001b[37m\u001b[0m \u001b[1m1s\u001b[0m 3ms/step - accuracy: 0.6709 - loss: 0.6295 - val_accuracy: 0.6576 - val_loss: 0.6259\n"
          ]
        },
        {
          "output_type": "display_data",
          "data": {
            "text/plain": [
              "\u001b[1mModel: \"sequential\"\u001b[0m\n"
            ],
            "text/html": [
              "<pre style=\"white-space:pre;overflow-x:auto;line-height:normal;font-family:Menlo,'DejaVu Sans Mono',consolas,'Courier New',monospace\"><span style=\"font-weight: bold\">Model: \"sequential\"</span>\n",
              "</pre>\n"
            ]
          },
          "metadata": {}
        },
        {
          "output_type": "display_data",
          "data": {
            "text/plain": [
              "┏━━━━━━━━━━━━━━━━━━━━━━━━━━━━━━━━━━━━━━┳━━━━━━━━━━━━━━━━━━━━━━━━━━━━━┳━━━━━━━━━━━━━━━━━┓\n",
              "┃\u001b[1m \u001b[0m\u001b[1mLayer (type)                        \u001b[0m\u001b[1m \u001b[0m┃\u001b[1m \u001b[0m\u001b[1mOutput Shape               \u001b[0m\u001b[1m \u001b[0m┃\u001b[1m \u001b[0m\u001b[1m        Param #\u001b[0m\u001b[1m \u001b[0m┃\n",
              "┡━━━━━━━━━━━━━━━━━━━━━━━━━━━━━━━━━━━━━━╇━━━━━━━━━━━━━━━━━━━━━━━━━━━━━╇━━━━━━━━━━━━━━━━━┩\n",
              "│ embedding (\u001b[38;5;33mEmbedding\u001b[0m)                │ (\u001b[38;5;45mNone\u001b[0m, \u001b[38;5;34m20\u001b[0m, \u001b[38;5;34m2\u001b[0m)               │           \u001b[38;5;34m2,000\u001b[0m │\n",
              "├──────────────────────────────────────┼─────────────────────────────┼─────────────────┤\n",
              "│ global_average_pooling1d             │ (\u001b[38;5;45mNone\u001b[0m, \u001b[38;5;34m2\u001b[0m)                   │               \u001b[38;5;34m0\u001b[0m │\n",
              "│ (\u001b[38;5;33mGlobalAveragePooling1D\u001b[0m)             │                             │                 │\n",
              "├──────────────────────────────────────┼─────────────────────────────┼─────────────────┤\n",
              "│ dense (\u001b[38;5;33mDense\u001b[0m)                        │ (\u001b[38;5;45mNone\u001b[0m, \u001b[38;5;34m1\u001b[0m)                   │               \u001b[38;5;34m3\u001b[0m │\n",
              "└──────────────────────────────────────┴─────────────────────────────┴─────────────────┘\n"
            ],
            "text/html": [
              "<pre style=\"white-space:pre;overflow-x:auto;line-height:normal;font-family:Menlo,'DejaVu Sans Mono',consolas,'Courier New',monospace\">┏━━━━━━━━━━━━━━━━━━━━━━━━━━━━━━━━━━━━━━┳━━━━━━━━━━━━━━━━━━━━━━━━━━━━━┳━━━━━━━━━━━━━━━━━┓\n",
              "┃<span style=\"font-weight: bold\"> Layer (type)                         </span>┃<span style=\"font-weight: bold\"> Output Shape                </span>┃<span style=\"font-weight: bold\">         Param # </span>┃\n",
              "┡━━━━━━━━━━━━━━━━━━━━━━━━━━━━━━━━━━━━━━╇━━━━━━━━━━━━━━━━━━━━━━━━━━━━━╇━━━━━━━━━━━━━━━━━┩\n",
              "│ embedding (<span style=\"color: #0087ff; text-decoration-color: #0087ff\">Embedding</span>)                │ (<span style=\"color: #00d7ff; text-decoration-color: #00d7ff\">None</span>, <span style=\"color: #00af00; text-decoration-color: #00af00\">20</span>, <span style=\"color: #00af00; text-decoration-color: #00af00\">2</span>)               │           <span style=\"color: #00af00; text-decoration-color: #00af00\">2,000</span> │\n",
              "├──────────────────────────────────────┼─────────────────────────────┼─────────────────┤\n",
              "│ global_average_pooling1d             │ (<span style=\"color: #00d7ff; text-decoration-color: #00d7ff\">None</span>, <span style=\"color: #00af00; text-decoration-color: #00af00\">2</span>)                   │               <span style=\"color: #00af00; text-decoration-color: #00af00\">0</span> │\n",
              "│ (<span style=\"color: #0087ff; text-decoration-color: #0087ff\">GlobalAveragePooling1D</span>)             │                             │                 │\n",
              "├──────────────────────────────────────┼─────────────────────────────┼─────────────────┤\n",
              "│ dense (<span style=\"color: #0087ff; text-decoration-color: #0087ff\">Dense</span>)                        │ (<span style=\"color: #00d7ff; text-decoration-color: #00d7ff\">None</span>, <span style=\"color: #00af00; text-decoration-color: #00af00\">1</span>)                   │               <span style=\"color: #00af00; text-decoration-color: #00af00\">3</span> │\n",
              "└──────────────────────────────────────┴─────────────────────────────┴─────────────────┘\n",
              "</pre>\n"
            ]
          },
          "metadata": {}
        },
        {
          "output_type": "display_data",
          "data": {
            "text/plain": [
              "\u001b[1m Total params: \u001b[0m\u001b[38;5;34m6,011\u001b[0m (23.48 KB)\n"
            ],
            "text/html": [
              "<pre style=\"white-space:pre;overflow-x:auto;line-height:normal;font-family:Menlo,'DejaVu Sans Mono',consolas,'Courier New',monospace\"><span style=\"font-weight: bold\"> Total params: </span><span style=\"color: #00af00; text-decoration-color: #00af00\">6,011</span> (23.48 KB)\n",
              "</pre>\n"
            ]
          },
          "metadata": {}
        },
        {
          "output_type": "display_data",
          "data": {
            "text/plain": [
              "\u001b[1m Trainable params: \u001b[0m\u001b[38;5;34m2,003\u001b[0m (7.82 KB)\n"
            ],
            "text/html": [
              "<pre style=\"white-space:pre;overflow-x:auto;line-height:normal;font-family:Menlo,'DejaVu Sans Mono',consolas,'Courier New',monospace\"><span style=\"font-weight: bold\"> Trainable params: </span><span style=\"color: #00af00; text-decoration-color: #00af00\">2,003</span> (7.82 KB)\n",
              "</pre>\n"
            ]
          },
          "metadata": {}
        },
        {
          "output_type": "display_data",
          "data": {
            "text/plain": [
              "\u001b[1m Non-trainable params: \u001b[0m\u001b[38;5;34m0\u001b[0m (0.00 B)\n"
            ],
            "text/html": [
              "<pre style=\"white-space:pre;overflow-x:auto;line-height:normal;font-family:Menlo,'DejaVu Sans Mono',consolas,'Courier New',monospace\"><span style=\"font-weight: bold\"> Non-trainable params: </span><span style=\"color: #00af00; text-decoration-color: #00af00\">0</span> (0.00 B)\n",
              "</pre>\n"
            ]
          },
          "metadata": {}
        },
        {
          "output_type": "display_data",
          "data": {
            "text/plain": [
              "\u001b[1m Optimizer params: \u001b[0m\u001b[38;5;34m4,008\u001b[0m (15.66 KB)\n"
            ],
            "text/html": [
              "<pre style=\"white-space:pre;overflow-x:auto;line-height:normal;font-family:Menlo,'DejaVu Sans Mono',consolas,'Courier New',monospace\"><span style=\"font-weight: bold\"> Optimizer params: </span><span style=\"color: #00af00; text-decoration-color: #00af00\">4,008</span> (15.66 KB)\n",
              "</pre>\n"
            ]
          },
          "metadata": {}
        },
        {
          "output_type": "display_data",
          "data": {
            "text/plain": [
              "<Figure size 640x480 with 1 Axes>"
            ],
            "image/png": "[encoded data removed]"
          },
          "metadata": {}
        }
      ],
      "source": [
        "model2 = build_embeddings_model(average_over_positions=True,\n",
        "                               vocab_size=1000,\n",
        "                               sequence_length=20,\n",
        "                               embedding_dim=2)\n",
        "history2 = model2.fit(\n",
        "  x = X_train_reduced,  # our sparse padded training data\n",
        "  y = Y_train,          # corresponding binary labels\n",
        "  epochs=5,             # number of passes through the training data\n",
        "  batch_size=64,        # mini-batch size\n",
        "  validation_split=0.1, # use a fraction of the examples for validation\n",
        "  verbose=1             # display some progress output during training\n",
        "  )\n",
        "\n",
        "model2.summary()\n",
        "\n",
        "history2 = pd.DataFrame(history2.history)\n",
        "plot_history(history2)"
      ]
    },
    {
      "cell_type": "markdown",
      "metadata": {
        "id": "c1dstoiNLBsf"
      },
      "source": [
        "### <span style=\"color:chocolate\">Exercise 7:</span> Embedding size tuning (20 points)"
      ]
    },
    {
      "cell_type": "markdown",
      "metadata": {
        "id": "V3k__61hFnag"
      },
      "source": [
        "Experiment with embedding sizes {2, 4, 8, 16, 32, 64}, while keeping other settings fixed and using the averaging strategy instead of the concatenating strategy. Then:\n",
        "\n",
        "1. Construct a table showing the training and validation accuracies for each model after 5 training epochs;\n",
        "2. Calculate the number of parameters in each model;\n",
        "3. Analyze whether learned embeddings improve performance compared to one-hot encoding, and explain why this might be the case."
      ]
    },
    {
      "cell_type": "code",
      "source": [
        "import tensorflow as tf\n",
        "\n",
        "# Now, run the experiment again with the embedding sizes\n",
        "embedding_sizes = [2, 4, 8, 16, 32, 64]\n",
        "train_accuracies = []\n",
        "val_accuracies = []\n",
        "parameters_list = []\n",
        "\n",
        "# Experimenting with different embedding sizes:\n",
        "for embedding_dim in embedding_sizes:\n",
        "    model = build_embeddings_model(average_over_positions=True, vocab_size=1000, sequence_length=20, embedding_dim=embedding_dim)\n",
        "    history = model.fit(x = X_train_reduced, y = Y_train, epochs=5, batch_size=64, validation_split=0.1, verbose=0)\n",
        "    train_accuracies.append(history.history['accuracy'][-1])\n",
        "    val_accuracies.append(history.history['val_accuracy'][-1])\n",
        "    parameters_list.append(model.count_params())\n",
        "\n",
        "embeddings_results_df = pd.DataFrame({\n",
        "    'Embedding Size': embedding_sizes,\n",
        "    'Training Accuracy': train_accuracies,\n",
        "    'Validation Accuracy': val_accuracies,\n",
        "    'Parameters': parameters_list\n",
        "})\n",
        "embeddings_results_df"
      ],
      "metadata": {
        "colab": {
          "base_uri": "https://localhost:8080/",
          "height": 272
        },
        "id": "yhlOkX1BMQXI",
        "outputId": "74bc511c-7e55-4314-bdae-d68806546b9b"
      },
      "execution_count": 30,
      "outputs": [
        {
          "output_type": "stream",
          "name": "stderr",
          "text": [
            "/usr/local/lib/python3.11/dist-packages/keras/src/layers/core/embedding.py:90: UserWarning: Argument `input_length` is deprecated. Just remove it.\n",
            "  warnings.warn(\n"
          ]
        },
        {
          "output_type": "execute_result",
          "data": {
            "text/plain": [
              "   Embedding Size  Training Accuracy  Validation Accuracy  Parameters\n",
              "0               2           0.664800               0.6536        2003\n",
              "1               4           0.682133               0.6644        4005\n",
              "2               8           0.691822               0.6732        8009\n",
              "3              16           0.700489               0.6864       16017\n",
              "4              32           0.703378               0.6880       32033\n",
              "5              64           0.702489               0.6912       64065"
            ],
            "text/html": [
              "\n",
              "  <div id=\"df-3ed171c2-c4a4-45d1-88a6-5b4cdf10cc54\" class=\"colab-df-container\">\n",
              "    <div>\n",
              "<style scoped>\n",
              "    .dataframe tbody tr th:only-of-type {\n",
              "        vertical-align: middle;\n",
              "    }\n",
              "\n",
              "    .dataframe tbody tr th {\n",
              "        vertical-align: top;\n",
              "    }\n",
              "\n",
              "    .dataframe thead th {\n",
              "        text-align: right;\n",
              "    }\n",
              "</style>\n",
              "<table border=\"1\" class=\"dataframe\">\n",
              "  <thead>\n",
              "    <tr style=\"text-align: right;\">\n",
              "      <th></th>\n",
              "      <th>Embedding Size</th>\n",
              "      <th>Training Accuracy</th>\n",
              "      <th>Validation Accuracy</th>\n",
              "      <th>Parameters</th>\n",
              "    </tr>\n",
              "  </thead>\n",
              "  <tbody>\n",
              "    <tr>\n",
              "      <th>0</th>\n",
              "      <td>2</td>\n",
              "      <td>0.664800</td>\n",
              "      <td>0.6536</td>\n",
              "      <td>2003</td>\n",
              "    </tr>\n",
              "    <tr>\n",
              "      <th>1</th>\n",
              "      <td>4</td>\n",
              "      <td>0.682133</td>\n",
              "      <td>0.6644</td>\n",
              "      <td>4005</td>\n",
              "    </tr>\n",
              "    <tr>\n",
              "      <th>2</th>\n",
              "      <td>8</td>\n",
              "      <td>0.691822</td>\n",
              "      <td>0.6732</td>\n",
              "      <td>8009</td>\n",
              "    </tr>\n",
              "    <tr>\n",
              "      <th>3</th>\n",
              "      <td>16</td>\n",
              "      <td>0.700489</td>\n",
              "      <td>0.6864</td>\n",
              "      <td>16017</td>\n",
              "    </tr>\n",
              "    <tr>\n",
              "      <th>4</th>\n",
              "      <td>32</td>\n",
              "      <td>0.703378</td>\n",
              "      <td>0.6880</td>\n",
              "      <td>32033</td>\n",
              "    </tr>\n",
              "    <tr>\n",
              "      <th>5</th>\n",
              "      <td>64</td>\n",
              "      <td>0.702489</td>\n",
              "      <td>0.6912</td>\n",
              "      <td>64065</td>\n",
              "    </tr>\n",
              "  </tbody>\n",
              "</table>\n",
              "</div>\n",
              "    <div class=\"colab-df-buttons\">\n",
              "\n",
              "  <div class=\"colab-df-container\">\n",
              "    <button class=\"colab-df-convert\" onclick=\"convertToInteractive('df-3ed171c2-c4a4-45d1-88a6-5b4cdf10cc54')\"\n",
              "            title=\"Convert this dataframe to an interactive table.\"\n",
              "            style=\"display:none;\">\n",
              "\n",
              "  <svg xmlns=\"http://www.w3.org/2000/svg\" height=\"24px\" viewBox=\"0 -960 960 960\">\n",
              "    <path d=\"M120-120v-720h720v720H120Zm60-500h600v-160H180v160Zm220 220h160v-160H400v160Zm0 220h160v-160H400v160ZM180-400h160v-160H180v160Zm440 0h160v-160H620v160ZM180-180h160v-160H180v160Zm440 0h160v-160H620v160Z\"/>\n",
              "  </svg>\n",
              "    </button>\n",
              "\n",
              "  <style>\n",
              "    .colab-df-container {\n",
              "      display:flex;\n",
              "      gap: 12px;\n",
              "    }\n",
              "\n",
              "    .colab-df-convert {\n",
              "      background-color: #E8F0FE;\n",
              "      border: none;\n",
              "      border-radius: 50%;\n",
              "      cursor: pointer;\n",
              "      display: none;\n",
              "      fill: #1967D2;\n",
              "      height: 32px;\n",
              "      padding: 0 0 0 0;\n",
              "      width: 32px;\n",
              "    }\n",
              "\n",
              "    .colab-df-convert:hover {\n",
              "      background-color: #E2EBFA;\n",
              "      box-shadow: 0px 1px 2px rgba(60, 64, 67, 0.3), 0px 1px 3px 1px rgba(60, 64, 67, 0.15);\n",
              "      fill: #174EA6;\n",
              "    }\n",
              "\n",
              "    .colab-df-buttons div {\n",
              "      margin-bottom: 4px;\n",
              "    }\n",
              "\n",
              "    [theme=dark] .colab-df-convert {\n",
              "      background-color: #3B4455;\n",
              "      fill: #D2E3FC;\n",
              "    }\n",
              "\n",
              "    [theme=dark] .colab-df-convert:hover {\n",
              "      background-color: #434B5C;\n",
              "      box-shadow: 0px 1px 3px 1px rgba(0, 0, 0, 0.15);\n",
              "      filter: drop-shadow(0px 1px 2px rgba(0, 0, 0, 0.3));\n",
              "      fill: #FFFFFF;\n",
              "    }\n",
              "  </style>\n",
              "\n",
              "    <script>\n",
              "      const buttonEl =\n",
              "        document.querySelector('#df-3ed171c2-c4a4-45d1-88a6-5b4cdf10cc54 button.colab-df-convert');\n",
              "      buttonEl.style.display =\n",
              "        google.colab.kernel.accessAllowed ? 'block' : 'none';\n",
              "\n",
              "      async function convertToInteractive(key) {\n",
              "        const element = document.querySelector('#df-3ed171c2-c4a4-45d1-88a6-5b4cdf10cc54');\n",
              "        const dataTable =\n",
              "          await google.colab.kernel.invokeFunction('convertToInteractive',\n",
              "                                                    [key], {});\n",
              "        if (!dataTable) return;\n",
              "\n",
              "        const docLinkHtml = 'Like what you see? Visit the ' +\n",
              "          '<a target=\"_blank\" href=https://colab.research.google.com/notebooks/data_table.ipynb>data table notebook</a>'\n",
              "          + ' to learn more about interactive tables.';\n",
              "        element.innerHTML = '';\n",
              "        dataTable['output_type'] = 'display_data';\n",
              "        await google.colab.output.renderOutput(dataTable, element);\n",
              "        const docLink = document.createElement('div');\n",
              "        docLink.innerHTML = docLinkHtml;\n",
              "        element.appendChild(docLink);\n",
              "      }\n",
              "    </script>\n",
              "  </div>\n",
              "\n",
              "\n",
              "<div id=\"df-4ac3a70e-f907-4e68-a283-f6eb06587389\">\n",
              "  <button class=\"colab-df-quickchart\" onclick=\"quickchart('df-4ac3a70e-f907-4e68-a283-f6eb06587389')\"\n",
              "            title=\"Suggest charts\"\n",
              "            style=\"display:none;\">\n",
              "\n",
              "<svg xmlns=\"http://www.w3.org/2000/svg\" height=\"24px\"viewBox=\"0 0 24 24\"\n",
              "     width=\"24px\">\n",
              "    <g>\n",
              "        <path d=\"M19 3H5c-1.1 0-2 .9-2 2v14c0 1.1.9 2 2 2h14c1.1 0 2-.9 2-2V5c0-1.1-.9-2-2-2zM9 17H7v-7h2v7zm4 0h-2V7h2v10zm4 0h-2v-4h2v4z\"/>\n",
              "    </g>\n",
              "</svg>\n",
              "  </button>\n",
              "\n",
              "<style>\n",
              "  .colab-df-quickchart {\n",
              "      --bg-color: #E8F0FE;\n",
              "      --fill-color: #1967D2;\n",
              "      --hover-bg-color: #E2EBFA;\n",
              "      --hover-fill-color: #174EA6;\n",
              "      --disabled-fill-color: #AAA;\n",
              "      --disabled-bg-color: #DDD;\n",
              "  }\n",
              "\n",
              "  [theme=dark] .colab-df-quickchart {\n",
              "      --bg-color: #3B4455;\n",
              "      --fill-color: #D2E3FC;\n",
              "      --hover-bg-color: #434B5C;\n",
              "      --hover-fill-color: #FFFFFF;\n",
              "      --disabled-bg-color: #3B4455;\n",
              "      --disabled-fill-color: #666;\n",
              "  }\n",
              "\n",
              "  .colab-df-quickchart {\n",
              "    background-color: var(--bg-color);\n",
              "    border: none;\n",
              "    border-radius: 50%;\n",
              "    cursor: pointer;\n",
              "    display: none;\n",
              "    fill: var(--fill-color);\n",
              "    height: 32px;\n",
              "    padding: 0;\n",
              "    width: 32px;\n",
              "  }\n",
              "\n",
              "  .colab-df-quickchart:hover {\n",
              "    background-color: var(--hover-bg-color);\n",
              "    box-shadow: 0 1px 2px rgba(60, 64, 67, 0.3), 0 1px 3px 1px rgba(60, 64, 67, 0.15);\n",
              "    fill: var(--button-hover-fill-color);\n",
              "  }\n",
              "\n",
              "  .colab-df-quickchart-complete:disabled,\n",
              "  .colab-df-quickchart-complete:disabled:hover {\n",
              "    background-color: var(--disabled-bg-color);\n",
              "    fill: var(--disabled-fill-color);\n",
              "    box-shadow: none;\n",
              "  }\n",
              "\n",
              "  .colab-df-spinner {\n",
              "    border: 2px solid var(--fill-color);\n",
              "    border-color: transparent;\n",
              "    border-bottom-color: var(--fill-color);\n",
              "    animation:\n",
              "      spin 1s steps(1) infinite;\n",
              "  }\n",
              "\n",
              "  @keyframes spin {\n",
              "    0% {\n",
              "      border-color: transparent;\n",
              "      border-bottom-color: var(--fill-color);\n",
              "      border-left-color: var(--fill-color);\n",
              "    }\n",
              "    20% {\n",
              "      border-color: transparent;\n",
              "      border-left-color: var(--fill-color);\n",
              "      border-top-color: var(--fill-color);\n",
              "    }\n",
              "    30% {\n",
              "      border-color: transparent;\n",
              "      border-left-color: var(--fill-color);\n",
              "      border-top-color: var(--fill-color);\n",
              "      border-right-color: var(--fill-color);\n",
              "    }\n",
              "    40% {\n",
              "      border-color: transparent;\n",
              "      border-right-color: var(--fill-color);\n",
              "      border-top-color: var(--fill-color);\n",
              "    }\n",
              "    60% {\n",
              "      border-color: transparent;\n",
              "      border-right-color: var(--fill-color);\n",
              "    }\n",
              "    80% {\n",
              "      border-color: transparent;\n",
              "      border-right-color: var(--fill-color);\n",
              "      border-bottom-color: var(--fill-color);\n",
              "    }\n",
              "    90% {\n",
              "      border-color: transparent;\n",
              "      border-bottom-color: var(--fill-color);\n",
              "    }\n",
              "  }\n",
              "</style>\n",
              "\n",
              "  <script>\n",
              "    async function quickchart(key) {\n",
              "      const quickchartButtonEl =\n",
              "        document.querySelector('#' + key + ' button');\n",
              "      quickchartButtonEl.disabled = true;  // To prevent multiple clicks.\n",
              "      quickchartButtonEl.classList.add('colab-df-spinner');\n",
              "      try {\n",
              "        const charts = await google.colab.kernel.invokeFunction(\n",
              "            'suggestCharts', [key], {});\n",
              "      } catch (error) {\n",
              "        console.error('Error during call to suggestCharts:', error);\n",
              "      }\n",
              "      quickchartButtonEl.classList.remove('colab-df-spinner');\n",
              "      quickchartButtonEl.classList.add('colab-df-quickchart-complete');\n",
              "    }\n",
              "    (() => {\n",
              "      let quickchartButtonEl =\n",
              "        document.querySelector('#df-4ac3a70e-f907-4e68-a283-f6eb06587389 button');\n",
              "      quickchartButtonEl.style.display =\n",
              "        google.colab.kernel.accessAllowed ? 'block' : 'none';\n",
              "    })();\n",
              "  </script>\n",
              "</div>\n",
              "\n",
              "  <div id=\"id_5db39747-82f5-4cbb-be0c-12747066efe3\">\n",
              "    <style>\n",
              "      .colab-df-generate {\n",
              "        background-color: #E8F0FE;\n",
              "        border: none;\n",
              "        border-radius: 50%;\n",
              "        cursor: pointer;\n",
              "        display: none;\n",
              "        fill: #1967D2;\n",
              "        height: 32px;\n",
              "        padding: 0 0 0 0;\n",
              "        width: 32px;\n",
              "      }\n",
              "\n",
              "      .colab-df-generate:hover {\n",
              "        background-color: #E2EBFA;\n",
              "        box-shadow: 0px 1px 2px rgba(60, 64, 67, 0.3), 0px 1px 3px 1px rgba(60, 64, 67, 0.15);\n",
              "        fill: #174EA6;\n",
              "      }\n",
              "\n",
              "      [theme=dark] .colab-df-generate {\n",
              "        background-color: #3B4455;\n",
              "        fill: #D2E3FC;\n",
              "      }\n",
              "\n",
              "      [theme=dark] .colab-df-generate:hover {\n",
              "        background-color: #434B5C;\n",
              "        box-shadow: 0px 1px 3px 1px rgba(0, 0, 0, 0.15);\n",
              "        filter: drop-shadow(0px 1px 2px rgba(0, 0, 0, 0.3));\n",
              "        fill: #FFFFFF;\n",
              "      }\n",
              "    </style>\n",
              "    <button class=\"colab-df-generate\" onclick=\"generateWithVariable('embeddings_results_df')\"\n",
              "            title=\"Generate code using this dataframe.\"\n",
              "            style=\"display:none;\">\n",
              "\n",
              "  <svg xmlns=\"http://www.w3.org/2000/svg\" height=\"24px\"viewBox=\"0 0 24 24\"\n",
              "       width=\"24px\">\n",
              "    <path d=\"M7,19H8.4L18.45,9,17,7.55,7,17.6ZM5,21V16.75L18.45,3.32a2,2,0,0,1,2.83,0l1.4,1.43a1.91,1.91,0,0,1,.58,1.4,1.91,1.91,0,0,1-.58,1.4L9.25,21ZM18.45,9,17,7.55Zm-12,3A5.31,5.31,0,0,0,4.9,8.1,5.31,5.31,0,0,0,1,6.5,5.31,5.31,0,0,0,4.9,4.9,5.31,5.31,0,0,0,6.5,1,5.31,5.31,0,0,0,8.1,4.9,5.31,5.31,0,0,0,12,6.5,5.46,5.46,0,0,0,6.5,12Z\"/>\n",
              "  </svg>\n",
              "    </button>\n",
              "    <script>\n",
              "      (() => {\n",
              "      const buttonEl =\n",
              "        document.querySelector('#id_5db39747-82f5-4cbb-be0c-12747066efe3 button.colab-df-generate');\n",
              "      buttonEl.style.display =\n",
              "        google.colab.kernel.accessAllowed ? 'block' : 'none';\n",
              "\n",
              "      buttonEl.onclick = () => {\n",
              "        google.colab.notebook.generateWithVariable('embeddings_results_df');\n",
              "      }\n",
              "      })();\n",
              "    </script>\n",
              "  </div>\n",
              "\n",
              "    </div>\n",
              "  </div>\n"
            ],
            "application/vnd.google.colaboratory.intrinsic+json": {
              "type": "dataframe",
              "variable_name": "embeddings_results_df",
              "summary": "{\n  \"name\": \"embeddings_results_df\",\n  \"rows\": 6,\n  \"fields\": [\n    {\n      \"column\": \"Embedding Size\",\n      \"properties\": {\n        \"dtype\": \"number\",\n        \"std\": 23,\n        \"min\": 2,\n        \"max\": 64,\n        \"num_unique_values\": 6,\n        \"samples\": [\n          2,\n          4,\n          64\n        ],\n        \"semantic_type\": \"\",\n        \"description\": \"\"\n      }\n    },\n    {\n      \"column\": \"Training Accuracy\",\n      \"properties\": {\n        \"dtype\": \"number\",\n        \"std\": 0.015105270215846157,\n        \"min\": 0.6647999882698059,\n        \"max\": 0.7033777832984924,\n        \"num_unique_values\": 6,\n        \"samples\": [\n          0.6647999882698059,\n          0.6821333169937134,\n          0.702488899230957\n        ],\n        \"semantic_type\": \"\",\n        \"description\": \"\"\n      }\n    },\n    {\n      \"column\": \"Validation Accuracy\",\n      \"properties\": {\n        \"dtype\": \"number\",\n        \"std\": 0.015015030697297382,\n        \"min\": 0.6535999774932861,\n        \"max\": 0.6912000179290771,\n        \"num_unique_values\": 6,\n        \"samples\": [\n          0.6535999774932861,\n          0.6643999814987183,\n          0.6912000179290771\n        ],\n        \"semantic_type\": \"\",\n        \"description\": \"\"\n      }\n    },\n    {\n      \"column\": \"Parameters\",\n      \"properties\": {\n        \"dtype\": \"number\",\n        \"std\": 23747,\n        \"min\": 2003,\n        \"max\": 64065,\n        \"num_unique_values\": 6,\n        \"samples\": [\n          2003,\n          4005,\n          64065\n        ],\n        \"semantic_type\": \"\",\n        \"description\": \"\"\n      }\n    }\n  ]\n}"
            }
          },
          "metadata": {},
          "execution_count": 30
        }
      ]
    },
    {
      "cell_type": "markdown",
      "metadata": {
        "id": "O7t46ZdX2ofd"
      },
      "source": [
        "*Written answer:*\n",
        "\n",
        "1. The results in the dataframe above show a consistent improvement in both training and validation accuracy as the embedding size increases from 2 to 32, with the best performance seen at an embedding size of 32. This suggests that larger embedding sizes help the model capture more complex relationships and nuances in the data, leading to better predictive performance. However, after 32 dimensions, the training accuracy slightly plateaued, and the validation accuracy slightly increased. Still, embedding sizes of 32 and 64 show nearly identical results. This indicates that beyond a certain point, increasing the embedding size does not significantly improve the model's performance, possibly due to overfitting or diminishing returns after a large enough embedding size to generalize effectively.\n",
        "\n",
        "2. The number of parameters in the model grows exponentially with the embedding size, starting from 2003 parameters for an embedding size of 2, to 64065 parameters for an embedding size of 64. Specifically, removing the one bias term, as the embedding size doubles, the parameter count doubles as well. This increase is because of the additional weights in the embedding layer for each token in the vocabulary and each dimension of the embedding. While the number of parameters increases significantly, the validation accuracy improves only slightly beyond an embedding size of 32, indicating that after a certain point, increasing the embedding size does not result in substantial performance gains.\n",
        "\n",
        "3. Accuracy wise, the best validation accuracy we see for one-hot encoding with averaging is 0.6346, and the best for embeddings is 0.6912. Learned embeddings improve performance compared to one-hot encoding because they represent tokens in a dense, continuous vector space, where similar words are positioned closer together. One-hot encoding creates sparse vectors with no inherent relationships between tokens, treating all words as equally distant. Embeddings allow the model to capture semantic relationships, like synonyms or context, which enhances its ability to make accurate predictions. Additionally, embeddings reduce the model’s parameter count compared to one-hot encoding, making the model more efficient, especially for large vocabularies. As seen in the results, models with embeddings consistently outperform those using one-hot encoding, achieving better validation accuracy.\n"
      ]
    },
    {
      "cell_type": "markdown",
      "metadata": {
        "id": "VXGqACBrLBsg"
      },
      "source": [
        "---"
      ]
    },
    {
      "cell_type": "markdown",
      "metadata": {
        "id": "i2dWOuxqKHA6"
      },
      "source": [
        "### Inspecting Learned Embeddings\n",
        "You will now retrieve the learned embedding parameters from the trained model2 and plot the token embeddings.\n",
        "\n",
        "The model layers in a Keras Sequential model are stored as a list and the embeddings are the first layer. You can use the <span style=\"color:chocolate\">get_weights()</span> function to get a numpy array with the parameters."
      ]
    },
    {
      "cell_type": "code",
      "execution_count": 31,
      "metadata": {
        "id": "bfsbGSwkaFjo",
        "colab": {
          "base_uri": "https://localhost:8080/",
          "height": 86
        },
        "outputId": "4441e562-5d8e-4855-e204-2134e427f56c"
      },
      "outputs": [
        {
          "output_type": "display_data",
          "data": {
            "text/plain": [
              "[<Embedding name=embedding, built=True>,\n",
              " <GlobalAveragePooling1D name=global_average_pooling1d, built=True>,\n",
              " <Dense name=dense, built=True>]"
            ]
          },
          "metadata": {}
        },
        {
          "output_type": "display_data",
          "data": {
            "text/plain": [
              "(1000, 2)"
            ]
          },
          "metadata": {}
        }
      ],
      "source": [
        "# Display the model layers.\n",
        "display(model2.layers)\n",
        "\n",
        "# Retrieve the embeddings layer, which itself is wrapped in a list.\n",
        "embeddings2 = model2.layers[0].get_weights()[0]\n",
        "display(embeddings2.shape)"
      ]
    },
    {
      "cell_type": "markdown",
      "metadata": {
        "id": "apPWscNwcXTE"
      },
      "source": [
        "Now you'll use a fancy plotting tool called *plotly* to show the embeddings with hovertext so you can move your mouse over the points to see the corresponding tokens."
      ]
    },
    {
      "cell_type": "code",
      "execution_count": 41,
      "metadata": {
        "id": "5RZMTrA0KttL",
        "colab": {
          "base_uri": "https://localhost:8080/",
          "height": 542
        },
        "outputId": "bcbf9049-a298-463b-cf3f-278b7bb08f13"
      },
      "outputs": [
        {
          "output_type": "display_data",
          "data": {
            "text/html": [
              "<html>\n",
              "<head><meta charset=\"utf-8\" /></head>\n",
              "<body>\n",
              "    <div>            <script src=\"https://cdnjs.cloudflare.com/ajax/libs/mathjax/2.7.5/MathJax.js?config=TeX-AMS-MML_SVG\"></script><script type=\"text/javascript\">if (window.MathJax && window.MathJax.Hub && window.MathJax.Hub.Config) {window.MathJax.Hub.Config({SVG: {font: \"STIX-Web\"}});}</script>                <script type=\"text/javascript\">window.PlotlyConfig = {MathJaxConfig: 'local'};</script>\n",
              "        <script charset=\"utf-8\" src=\"https://cdn.plot.ly/plotly-2.35.2.min.js\"></script>                <div id=\"f819fece-2523-4539-a645-dba5170cec5f\" class=\"plotly-graph-div\" style=\"height:525px; width:100%;\"></div>            <script type=\"text/javascript\">                                    window.PLOTLYENV=window.PLOTLYENV || {};                                    if (document.getElementById(\"f819fece-2523-4539-a645-dba5170cec5f\")) {                    Plotly.newPlot(                        \"f819fece-2523-4539-a645-dba5170cec5f\",                        [{\"hoverinfo\":\"text\",\"mode\":\"markers\",\"text\":[\"game\",\"past\",\"able\",\"b\",\"days\",\"turns\",\"child\",\"they're\",\"hand\",\"flick\",\"enjoyed\",\"act\",\"genre\",\"town\",\"favorite\",\"soon\",\"kill\",\"starts\",\"sometimes\",\"car\",\"gave\",\"run\",\"late\",\"eyes\",\"actress\",\"etc\",\"directed\",\"horrible\",\"won't\",\"viewer\",\"brilliant\",\"parts\",\"self\",\"themselves\",\"hour\",\"expect\",\"thinking\",\"stories\",\"stuff\",\"girls\",\"obviously\",\"blood\",\"decent\",\"city\",\"voice\",\"highly\",\"myself\",\"feeling\",\"fight\",\"except\",\"slow\",\"matter\",\"type\",\"anyway\",\"kid\",\"roles\",\"killed\",\"heard\",\"god\",\"age\",\"says\",\"moment\",\"took\",\"leave\",\"writer\",\"strong\",\"cannot\",\"violence\",\"police\",\"hit\",\"stop\",\"happens\",\"particularly\",\"known\",\"involved\",\"happened\",\"extremely\",\"daughter\",\"obvious\",\"told\",\"chance\",\"living\",\"coming\",\"lack\",\"alone\",\"experience\",\"wouldn't\",\"including\",\"murder\",\"attempt\",\"s\",\"please\",\"james\",\"happen\",\"wonder\",\"crap\",\"ago\",\"brother\",\"film's\",\"gore\",\"none\",\"complete\",\"interest\",\"score\",\"group\",\"cut\",\"simple\",\"save\",\"ok\",\"hell\",\"looked\",\"career\",\"number\",\"song\",\"possible\",\"seriously\",\"annoying\",\"shown\",\"exactly\",\"sad\",\"running\",\"musical\",\"serious\",\"taken\",\"yourself\",\"whose\",\"released\",\"cinematography\",\"david\",\"scary\",\"ends\",\"english\",\"hero\",\"usually\",\"hours\",\"reality\",\"opening\",\"i'll\",\"across\",\"today\",\"jokes\",\"light\",\"hilarious\",\"somewhat\",\"usual\",\"started\",\"cool\",\"ridiculous\",\"body\",\"relationship\",\"view\",\"level\",\"opinion\",\"change\",\"happy\",\"middle\",\"taking\",\"wish\",\"husband\",\"finds\",\"saying\",\"order\",\"talking\",\"ones\",\"documentary\",\"shots\",\"huge\",\"novel\",\"female\",\"mostly\",\"robert\",\"power\",\"episodes\",\"room\",\"important\",\"rating\",\"talent\",\"five\",\"major\",\"turned\",\"strange\",\"word\",\"modern\",\"call\",\"apparently\",\"disappointed\",\"single\",\"events\",\"due\",\"four\",\"songs\",\"basically\",\"attention\",\"7\",\"knows\",\"clearly\",\"supporting\",\"knew\",\"british\",\"television\",\"comic\",\"non\",\"fast\",\"earth\",\"country\",\"future\",\"cheap\",\"class\",\"thriller\",\"8\",\"silly\",\"king\",\"problems\",\"aren't\",\"easily\",\"words\",\"tells\",\"miss\",\"jack\",\"local\",\"sequence\",\"bring\",\"entertainment\",\"paul\",\"beyond\",\"upon\",\"whether\",\"predictable\",\"moving\",\"similar\",\"straight\",\"romantic\",\"sets\",\"review\",\"falls\",\"oscar\",\"mystery\",\"enjoyable\",\"needs\",\"appears\",\"talk\",\"rock\",\"george\",\"giving\",\"eye\",\"richard\",\"within\",\"ten\",\"animation\",\"message\",\"theater\",\"near\",\"above\",\"dull\",\"nearly\",\"sequel\",\"theme\",\"points\",\"'\",\"stand\",\"mention\",\"lady\",\"bunch\",\"add\",\"feels\",\"herself\",\"release\",\"red\",\"team\",\"storyline\",\"surprised\",\"ways\",\"using\",\"named\",\"haven't\",\"lots\",\"easy\",\"fantastic\",\"begins\",\"actual\",\"working\",\"effort\",\"york\",\"die\",\"hate\",\"french\",\"minute\",\"tale\",\"clear\",\"stay\",\"9\",\"elements\",\"feature\",\"among\",\"follow\",\"comments\",\"re\",\"viewers\",\"avoid\",\"sister\",\"showing\",\"typical\",\"editing\",\"what's\",\"famous\",\"tried\",\"sorry\",\"dialog\",\"check\",\"fall\",\"period\",\"season\",\"form\",\"certain\",\"filmed\",\"weak\",\"soundtrack\",\"means\",\"buy\",\"material\",\"somehow\",\"realistic\",\"figure\",\"crime\",\"doubt\",\"gone\",\"peter\",\"tom\",\"kept\",\"viewing\",\"t\",\"general\",\"leads\",\"greatest\",\"space\",\"lame\",\"suspense\",\"dance\",\"imagine\",\"brought\",\"third\",\"atmosphere\",\"hear\",\"particular\",\"sequences\",\"whatever\",\"parents\",\"move\",\"lee\",\"indeed\",\"learn\",\"rent\",\"de\",\"eventually\",\"note\",\"deal\",\"average\",\"reviews\",\"wait\",\"forget\",\"japanese\",\"sexual\",\"poorly\",\"premise\",\"okay\",\"zombie\",\"surprise\",\"believable\",\"stage\",\"possibly\",\"sit\",\"who's\",\"decided\",\"expected\",\"you've\",\"subject\",\"nature\",\"became\",\"difficult\",\"free\",\"killing\",\"screenplay\",\"truth\",\"romance\",\"dr\",\"nor\",\"reading\",\"needed\",\"question\",\"leaves\",\"street\",\"20\",\"meets\",\"hot\",\"unless\",\"begin\",\"baby\",\"superb\",\"credits\",\"imdb\",\"otherwise\",\"write\",\"shame\",\"let's\",\"situation\",\"dramatic\",\"memorable\",\"directors\",\"earlier\",\"meet\",\"disney\",\"open\",\"dog\",\"badly\",\"joe\",\"male\",\"weird\",\"acted\",\"forced\",\"laughs\",\"sci\",\"emotional\",\"older\",\"realize\",\"fi\",\"dream\",\"society\",\"writers\",\"interested\",\"footage\",\"forward\",\"comment\",\"crazy\",\"deep\",\"sounds\",\"plus\",\"beauty\",\"whom\",\"america\",\"fantasy\",\"directing\",\"keeps\",\"ask\",\"development\",\"features\",\"air\",\"quickly\",\"mess\",\"creepy\",\"towards\",\"perfectly\",\"mark\",\"worked\",\"box\",\"cheesy\",\"unique\",\"setting\",\"hands\",\"plenty\",\"result\",\"previous\",\"brings\",\"effect\",\"e\",\"total\",\"personal\",\"incredibly\",\"rate\",\"fire\",\"monster\",\"business\",\"leading\",\"apart\",\"casting\",\"admit\",\"joke\",\"powerful\",\"appear\",\"background\",\"telling\",\"girlfriend\",\"meant\",\"christmas\",\"hardly\",\"present\",\"battle\",\"potential\",\"create\",\"bill\",\"break\",\"pay\",\"masterpiece\",\"gay\",\"political\",\"return\",\"dumb\",\"fails\",\"fighting\",\"various\",\"era\"],\"textposition\":\"bottom left\",\"x\":[-0.17515141,0.01946645,-0.2383447,0.34834597,-0.06342148,-0.028769055,-0.3815572,0.18044797,0.22482643,0.16943137,-1.0223637,0.09395583,-0.16007362,0.14690232,-0.9093438,-0.12348062,0.042498965,0.64972585,-0.07043881,0.09586657,0.38341352,-0.2416218,-0.37404072,0.15887524,0.07773614,-0.03218992,0.040123153,1.0277975,0.0962278,-0.07844549,-0.7899896,-0.010297121,0.44416407,0.043298762,0.31345052,-0.11060782,0.5441499,-0.2632698,-0.01929403,0.3780364,0.14463633,-0.0115093645,0.45474452,-0.2315988,-0.13968846,-0.3076584,0.23629513,-0.0658607,-0.26745173,0.30385762,0.22028868,0.037388906,-0.021886664,0.083822034,-0.29379153,-0.24128717,0.24200639,-0.027845804,0.5827897,-0.24701247,0.10482783,0.03318146,-0.25455853,-0.07206863,-0.050504494,-0.2035023,0.3297581,0.18819606,-0.18417303,-0.31770158,0.12372702,0.2572414,0.12748574,-0.14846441,0.32096565,-0.03684607,0.012302333,-0.2147565,0.3133409,-0.36196968,-0.24635357,-0.10332013,-0.024033396,0.23464304,0.11470076,-0.17006555,0.029074322,-0.012705874,-0.0988276,0.47820514,0.25382927,0.4480353,-0.30693558,0.04449698,0.23367219,0.77266175,-0.4870001,0.088700354,-0.06348139,0.33842415,0.035395615,0.553559,-0.22614199,0.029025873,0.32559663,-0.03548367,-0.49613112,0.34910792,0.60196996,0.31339592,0.37413713,-0.05810799,-0.10980998,-0.3010321,0.34283912,0.40670377,0.43206245,0.033754263,0.16850418,-0.015337173,0.13809042,-0.26167905,-0.034871288,0.0041804104,0.004597774,-0.049440853,-0.37893468,-0.2547096,-0.10866734,0.26593634,-0.05578621,0.118892096,0.09005577,0.13833463,0.2877932,-0.160162,-0.063081756,0.3533794,-0.22888973,-0.17532043,0.18327706,-0.35511845,-0.4573175,-0.03665706,0.048351113,0.14162113,0.023865176,0.82722706,0.117418006,-0.062341798,-0.27123734,-0.13048433,-0.30720985,0.007820212,0.0009031611,-0.054955482,-0.109211095,0.18949348,0.09679726,0.042442348,0.31180695,0.03893138,-0.06791402,0.029406033,-0.39677364,0.26173902,0.21508914,0.10350843,-0.014841633,-0.08382034,-0.20636839,0.20754111,-0.22948338,-0.21407326,-0.1582584,0.091221794,0.15323475,0.1394776,0.24775772,0.03546678,-0.15401801,0.116794884,-0.4420954,0.069144055,0.25794452,0.65874535,0.18800081,-0.26043782,-0.12162546,-0.006266636,-0.07922309,0.50613046,-0.23066267,-0.2642644,0.054298535,0.26552814,-0.18842524,-0.15168655,-0.24600893,-0.29635304,-0.12038338,0.037621062,0.22011709,0.21653384,0.02936688,-0.16050632,0.5148664,0.032126896,-0.1668741,-0.4000716,0.030921513,-0.108243324,-0.070483536,-0.050033826,-0.034736868,0.15734126,-0.1965812,-0.24345586,-0.19331835,0.06488551,-0.0017233893,0.1271115,-0.0034553811,-0.25048837,0.21493533,-0.13944039,0.13529122,0.4056678,-0.25608596,0.051985174,0.11235722,-0.33729392,-0.056950223,0.5565052,0.408114,-0.14780816,-0.03604416,-0.36285082,0.05836331,0.1589895,0.13412614,-0.28534487,-0.15159397,0.026779056,-0.18349478,-0.10238337,-0.15668735,-0.1242279,-0.39727673,-0.3023411,0.2103641,-0.034942072,-0.30693293,0.70210135,-0.067145534,0.3793056,-0.09412268,0.072162725,-0.07398949,-0.22602288,0.2134557,-0.20148444,0.33389837,-0.11078059,-0.028785303,-0.09025877,-0.20830777,-0.29693407,-0.08500899,0.20756213,-0.6556551,-0.19774939,0.19089906,0.21322455,-0.29846466,-0.17188634,-0.38238317,-0.5180737,0.040915567,-0.068858005,-0.014180314,0.38383391,-0.17561644,0.12181177,0.15650943,-0.3185862,0.37175465,-0.37866062,-0.04541171,0.112720884,-0.1683453,-0.047863953,-0.37994945,-0.1742114,-0.03100506,-0.05226922,-0.04622924,0.07143185,0.42761055,-0.046103567,-0.09206911,-0.0010325579,0.09182308,0.2169632,-0.13774236,0.613876,0.56759745,0.3255496,0.13508616,0.021361155,0.02440262,-0.23821637,-0.037661806,-0.0649523,-0.3433563,0.74507695,-0.12303793,0.17900422,-0.049129356,0.18773292,0.048942447,-0.47385278,0.25138235,-0.17799145,0.13218738,0.07207495,0.05063504,-0.26200184,-0.053349562,-0.3885797,0.21866418,0.007473799,0.085657135,-0.709831,0.1731838,0.6448337,-0.21305445,-0.10614832,0.21920203,-0.20213047,-0.06254732,-0.12150018,-0.010375722,-0.02212581,-0.15427704,0.21829724,-0.14520834,0.039308324,0.32592353,0.0226768,-0.03484308,0.46235305,-0.22610329,0.10950056,0.15249965,0.18377079,-0.04154799,0.1935816,-0.06475554,-0.1895275,-0.16434336,-0.042939812,0.77185535,0.5247165,0.31155807,0.34785175,-0.5497858,-0.26540676,-0.15910889,0.41941994,0.2336515,-0.13280404,0.27376795,0.22715472,0.13340712,0.01343327,-0.004298427,0.06401152,-0.22612096,0.34580755,0.2822062,0.041744675,0.02496146,-0.33131823,0.1497542,-0.1665994,0.059969574,0.16542844,0.13640308,0.02265187,-0.11818635,0.13609661,-0.20636302,-0.15293695,0.35023314,0.35742125,-0.21940117,-0.62688106,0.17977461,0.24535793,0.4283401,0.5018446,0.2906191,0.2188342,-0.21313965,0.027870746,-0.1669534,-0.34392974,-0.10154625,0.13826445,-0.33552393,0.11653678,-0.1661764,0.5592481,0.06294175,-0.0014144687,0.08258716,-0.12764317,0.29323608,0.0074490225,0.02279164,-0.32495785,-0.27669454,0.18621764,0.023881063,-0.08386191,-0.23501328,0.33403447,0.062581494,0.06642041,0.5314555,-0.008121109,0.14933681,0.02117067,-0.025546858,0.07212199,-0.25583777,0.14997478,0.0034249155,-0.3357933,0.13100693,-0.11563247,-0.045906734,0.031242087,0.04428733,-0.1605804,0.15527114,0.6361915,0.04445607,-0.045117207,-0.13469675,0.017513473,0.027286753,0.04972513,0.19885167,-0.40603942,0.04571675,0.10324748,-0.2846167,0.04826956,0.09525143,-0.20667075,-0.0344969,0.036571506,0.36556655,-0.19729485,0.07701087,-0.031181842,-0.08238195,0.29597884,-0.13463992,-0.100623675,0.07611071,0.08663109,-0.19157973,0.4770882,-0.5501988,0.09576392,0.124853015,-0.17439418,0.24596088,0.14609413,0.16201556,0.1306642,-0.16061123,-0.1900839,0.66143316,0.019002793,-0.04125889,-0.28940892,0.15178424,-0.7097859,0.2441809,-0.13679205,-0.15693317,0.3229884,0.48040974,-0.07403516,0.14786911,-0.24972296],\"y\":[-0.20084262,-0.007195846,-0.24261089,0.28019926,-0.06107531,-0.086639665,-0.25093222,0.20104538,0.15408923,0.14271633,-0.9115185,0.05880649,-0.13584723,0.119849235,-0.80039823,-0.101281345,-0.012511676,0.6045893,-0.01656046,0.07661694,0.24468662,-0.22257538,-0.3766487,0.18138105,-0.01055665,-0.008921072,0.024136435,0.8731099,0.014788787,-0.13197146,-0.73469687,-0.006309666,0.40676105,0.019257905,0.29748216,-0.10020482,0.40665156,-0.23471193,0.00588791,0.25321868,0.11373435,0.015103211,0.40638515,-0.26301542,-0.17069776,-0.29281172,0.2356883,-0.06820199,-0.2753086,0.26085332,0.24576166,0.07786342,-0.07149173,0.020772904,-0.2049611,-0.198598,0.18467818,-0.07855045,0.46439794,-0.24673335,0.08403725,0.024180617,-0.17492276,-0.11560295,0.0019564151,-0.23077779,0.26546246,0.19411686,-0.085148044,-0.19219102,0.08195058,0.21567543,0.08714297,-0.1580142,0.25929993,-0.055817757,0.023878848,-0.14428164,0.27808768,-0.32520995,-0.20302771,-0.09891427,-0.07904914,0.19105478,0.14241734,-0.18761782,0.008690036,0.04251161,-0.07631401,0.38938853,0.28835833,0.40017825,-0.31187388,0.092316836,0.2018972,0.65627706,-0.3981418,0.07748496,-0.07994644,0.30264243,0.006105296,0.49031186,-0.24758956,-0.019163659,0.22865048,-0.006818699,-0.473207,0.2825607,0.4730512,0.307788,0.33812302,0.0028740475,-0.13939735,-0.251597,0.26632333,0.36106598,0.33737138,0.022711173,0.15279528,0.057909228,0.1220925,-0.22875468,-0.001406538,-0.009852239,-0.0015843981,-0.07677754,-0.35588616,-0.202703,-0.16061969,0.22200327,-0.04383526,0.05335636,0.043775056,0.16201976,0.27496663,-0.12103304,-0.029135378,0.2228147,-0.18980971,-0.1575593,0.17437762,-0.30519274,-0.41449517,-0.04102251,-0.00065083127,0.102386974,-0.010515145,0.74325687,0.06780892,-0.04056057,-0.22553064,-0.0734775,-0.29028097,-0.0086258,0.0033888575,-0.13760734,-0.1155115,0.16916007,0.10916551,0.060722474,0.22756736,0.042313334,-0.11592889,0.05717771,-0.36701256,0.16620123,0.15191293,0.07785366,-0.027227836,-0.08156945,-0.17284523,0.11208788,-0.15950173,-0.11008032,-0.12992114,0.146536,0.17737743,0.1346548,0.21771884,0.024503354,-0.13329272,0.18149865,-0.37035555,0.07561921,0.18757074,0.5321885,0.12769608,-0.17865667,-0.050760444,-0.012835683,-0.0777865,0.43861225,-0.115653,-0.20105545,0.058384396,0.21523455,-0.15771964,-0.08308487,-0.17906229,-0.3041454,-0.10903621,0.000522809,0.16751094,0.18437505,0.0041714367,-0.13322571,0.41204226,0.016691016,-0.1841046,-0.3645908,-0.01948236,-0.11142872,-0.09652712,-0.12580669,-0.03131763,0.1992681,-0.25377747,-0.19448589,-0.16094898,0.048961647,-0.052355744,0.08635269,-0.02005917,-0.2280031,0.23128487,-0.193279,0.06128406,0.38925925,-0.27223104,0.056065064,0.1360215,-0.3023917,-0.038683485,0.48097527,0.3352791,-0.14769435,-0.039945874,-0.33219936,0.041556213,0.14001782,0.07240761,-0.27150828,-0.09629176,0.06380894,-0.21802592,-0.088610575,-0.13167232,-0.13277298,-0.36205804,-0.18324527,0.14052989,-0.05990241,-0.1975378,0.6542913,-0.062859185,0.37287593,-0.09719421,0.03316824,-0.053235065,-0.19877516,0.21855609,-0.14893417,0.25565284,-0.06650369,-0.058676008,-0.07354837,-0.11439946,-0.24536835,-0.11188438,0.120999806,-0.545474,-0.17872038,0.18596432,0.10616876,-0.26317176,-0.10004437,-0.3569103,-0.41932836,0.05163912,-0.09443756,0.03803188,0.34906542,-0.13249871,0.12831418,0.10874067,-0.2734115,0.31166583,-0.36998948,-0.052015457,0.068733975,-0.092316054,-0.106471494,-0.38482422,-0.08711124,-0.031124612,-0.038122848,-0.026314335,0.106484376,0.373621,-0.02572602,-0.077675894,-0.034088083,0.104008116,0.1426514,-0.10251522,0.462593,0.5434748,0.31781483,0.10424676,0.060177054,-0.020296637,-0.17663229,-0.038976986,-0.001951171,-0.2632236,0.58839613,-0.030251142,0.129266,-0.03311285,0.15065767,0.011341184,-0.45818207,0.21014948,-0.14395875,0.12872934,0.068125114,0.05499834,-0.21890968,-0.026963433,-0.39026937,0.17739962,0.015457306,0.10133008,-0.60402596,0.22755276,0.54513544,-0.1714899,-0.09657586,0.22798994,-0.21067257,-0.06450062,-0.17798485,0.007354991,-0.011698019,-0.09042052,0.25285727,-0.20547192,0.047920745,0.2752194,0.080567576,0.003750771,0.34981322,-0.26433346,0.1444228,0.1497831,0.090173185,-0.02952574,0.16807237,-0.042405337,-0.177409,-0.0637378,-0.0043057334,0.61755335,0.5173674,0.2140108,0.31393176,-0.50729024,-0.19068313,-0.0945076,0.3057504,0.23094879,-0.03681657,0.2953436,0.25034562,0.16077855,0.011575554,0.021932423,-0.011689329,-0.17083375,0.28008273,0.21708743,0.017198227,-0.02559879,-0.23877424,0.16545978,-0.10288812,0.038398158,0.18055953,0.09187694,0.041369766,-0.06740116,0.13094985,-0.1507059,-0.17205429,0.3092011,0.3378369,-0.19615354,-0.5025965,0.14522605,0.18968406,0.3755071,0.392744,0.26999632,0.14878298,-0.21905605,0.051155344,-0.15897371,-0.31260702,-0.059067298,0.09089167,-0.30490124,0.16294457,-0.17536682,0.523528,0.1253215,-0.04218979,0.04604274,-0.06700638,0.25567263,0.030795896,0.031786595,-0.3379171,-0.32033914,0.19087766,0.048232496,-0.0110501,-0.18301912,0.32044896,-0.019903472,0.097025454,0.47508875,0.016905043,0.11736408,0.022332545,-0.00057200337,0.059069514,-0.25247395,0.12922148,0.0040229918,-0.32953814,0.1395653,-0.034215756,-0.07650399,0.11396142,0.04263953,-0.17151427,0.1964862,0.54889303,0.070208944,-0.06619483,-0.1661955,0.09871577,0.03707253,0.053753626,0.1716476,-0.38945603,0.014828389,0.025951156,-0.22307049,0.0024744056,0.07660196,-0.18877043,-0.050680637,-0.014864003,0.25656304,-0.19268972,0.062780425,-0.02788968,-0.01840434,0.33299214,-0.083439454,-0.012172385,0.07734975,0.05202565,-0.17920378,0.40311348,-0.48939183,0.007833366,0.0932736,-0.17602557,0.13743812,0.093872644,0.10386852,0.08502837,-0.19928834,-0.14160708,0.49174753,0.012118975,-0.07890883,-0.25213584,0.16284335,-0.639393,0.17110859,-0.13286914,-0.11087949,0.32918385,0.48145992,-0.008305569,0.1402687,-0.18349597],\"type\":\"scatter\"}],                        {\"hovermode\":\"closest\",\"title\":{\"text\":\"Word Embeddings\"},\"template\":{\"data\":{\"histogram2dcontour\":[{\"type\":\"histogram2dcontour\",\"colorbar\":{\"outlinewidth\":0,\"ticks\":\"\"},\"colorscale\":[[0.0,\"#0d0887\"],[0.1111111111111111,\"#46039f\"],[0.2222222222222222,\"#7201a8\"],[0.3333333333333333,\"#9c179e\"],[0.4444444444444444,\"#bd3786\"],[0.5555555555555556,\"#d8576b\"],[0.6666666666666666,\"#ed7953\"],[0.7777777777777778,\"#fb9f3a\"],[0.8888888888888888,\"#fdca26\"],[1.0,\"#f0f921\"]]}],\"choropleth\":[{\"type\":\"choropleth\",\"colorbar\":{\"outlinewidth\":0,\"ticks\":\"\"}}],\"histogram2d\":[{\"type\":\"histogram2d\",\"colorbar\":{\"outlinewidth\":0,\"ticks\":\"\"},\"colorscale\":[[0.0,\"#0d0887\"],[0.1111111111111111,\"#46039f\"],[0.2222222222222222,\"#7201a8\"],[0.3333333333333333,\"#9c179e\"],[0.4444444444444444,\"#bd3786\"],[0.5555555555555556,\"#d8576b\"],[0.6666666666666666,\"#ed7953\"],[0.7777777777777778,\"#fb9f3a\"],[0.8888888888888888,\"#fdca26\"],[1.0,\"#f0f921\"]]}],\"heatmap\":[{\"type\":\"heatmap\",\"colorbar\":{\"outlinewidth\":0,\"ticks\":\"\"},\"colorscale\":[[0.0,\"#0d0887\"],[0.1111111111111111,\"#46039f\"],[0.2222222222222222,\"#7201a8\"],[0.3333333333333333,\"#9c179e\"],[0.4444444444444444,\"#bd3786\"],[0.5555555555555556,\"#d8576b\"],[0.6666666666666666,\"#ed7953\"],[0.7777777777777778,\"#fb9f3a\"],[0.8888888888888888,\"#fdca26\"],[1.0,\"#f0f921\"]]}],\"heatmapgl\":[{\"type\":\"heatmapgl\",\"colorbar\":{\"outlinewidth\":0,\"ticks\":\"\"},\"colorscale\":[[0.0,\"#0d0887\"],[0.1111111111111111,\"#46039f\"],[0.2222222222222222,\"#7201a8\"],[0.3333333333333333,\"#9c179e\"],[0.4444444444444444,\"#bd3786\"],[0.5555555555555556,\"#d8576b\"],[0.6666666666666666,\"#ed7953\"],[0.7777777777777778,\"#fb9f3a\"],[0.8888888888888888,\"#fdca26\"],[1.0,\"#f0f921\"]]}],\"contourcarpet\":[{\"type\":\"contourcarpet\",\"colorbar\":{\"outlinewidth\":0,\"ticks\":\"\"}}],\"contour\":[{\"type\":\"contour\",\"colorbar\":{\"outlinewidth\":0,\"ticks\":\"\"},\"colorscale\":[[0.0,\"#0d0887\"],[0.1111111111111111,\"#46039f\"],[0.2222222222222222,\"#7201a8\"],[0.3333333333333333,\"#9c179e\"],[0.4444444444444444,\"#bd3786\"],[0.5555555555555556,\"#d8576b\"],[0.6666666666666666,\"#ed7953\"],[0.7777777777777778,\"#fb9f3a\"],[0.8888888888888888,\"#fdca26\"],[1.0,\"#f0f921\"]]}],\"surface\":[{\"type\":\"surface\",\"colorbar\":{\"outlinewidth\":0,\"ticks\":\"\"},\"colorscale\":[[0.0,\"#0d0887\"],[0.1111111111111111,\"#46039f\"],[0.2222222222222222,\"#7201a8\"],[0.3333333333333333,\"#9c179e\"],[0.4444444444444444,\"#bd3786\"],[0.5555555555555556,\"#d8576b\"],[0.6666666666666666,\"#ed7953\"],[0.7777777777777778,\"#fb9f3a\"],[0.8888888888888888,\"#fdca26\"],[1.0,\"#f0f921\"]]}],\"mesh3d\":[{\"type\":\"mesh3d\",\"colorbar\":{\"outlinewidth\":0,\"ticks\":\"\"}}],\"scatter\":[{\"fillpattern\":{\"fillmode\":\"overlay\",\"size\":10,\"solidity\":0.2},\"type\":\"scatter\"}],\"parcoords\":[{\"type\":\"parcoords\",\"line\":{\"colorbar\":{\"outlinewidth\":0,\"ticks\":\"\"}}}],\"scatterpolargl\":[{\"type\":\"scatterpolargl\",\"marker\":{\"colorbar\":{\"outlinewidth\":0,\"ticks\":\"\"}}}],\"bar\":[{\"error_x\":{\"color\":\"#2a3f5f\"},\"error_y\":{\"color\":\"#2a3f5f\"},\"marker\":{\"line\":{\"color\":\"#E5ECF6\",\"width\":0.5},\"pattern\":{\"fillmode\":\"overlay\",\"size\":10,\"solidity\":0.2}},\"type\":\"bar\"}],\"scattergeo\":[{\"type\":\"scattergeo\",\"marker\":{\"colorbar\":{\"outlinewidth\":0,\"ticks\":\"\"}}}],\"scatterpolar\":[{\"type\":\"scatterpolar\",\"marker\":{\"colorbar\":{\"outlinewidth\":0,\"ticks\":\"\"}}}],\"histogram\":[{\"marker\":{\"pattern\":{\"fillmode\":\"overlay\",\"size\":10,\"solidity\":0.2}},\"type\":\"histogram\"}],\"scattergl\":[{\"type\":\"scattergl\",\"marker\":{\"colorbar\":{\"outlinewidth\":0,\"ticks\":\"\"}}}],\"scatter3d\":[{\"type\":\"scatter3d\",\"line\":{\"colorbar\":{\"outlinewidth\":0,\"ticks\":\"\"}},\"marker\":{\"colorbar\":{\"outlinewidth\":0,\"ticks\":\"\"}}}],\"scattermapbox\":[{\"type\":\"scattermapbox\",\"marker\":{\"colorbar\":{\"outlinewidth\":0,\"ticks\":\"\"}}}],\"scatterternary\":[{\"type\":\"scatterternary\",\"marker\":{\"colorbar\":{\"outlinewidth\":0,\"ticks\":\"\"}}}],\"scattercarpet\":[{\"type\":\"scattercarpet\",\"marker\":{\"colorbar\":{\"outlinewidth\":0,\"ticks\":\"\"}}}],\"carpet\":[{\"aaxis\":{\"endlinecolor\":\"#2a3f5f\",\"gridcolor\":\"white\",\"linecolor\":\"white\",\"minorgridcolor\":\"white\",\"startlinecolor\":\"#2a3f5f\"},\"baxis\":{\"endlinecolor\":\"#2a3f5f\",\"gridcolor\":\"white\",\"linecolor\":\"white\",\"minorgridcolor\":\"white\",\"startlinecolor\":\"#2a3f5f\"},\"type\":\"carpet\"}],\"table\":[{\"cells\":{\"fill\":{\"color\":\"#EBF0F8\"},\"line\":{\"color\":\"white\"}},\"header\":{\"fill\":{\"color\":\"#C8D4E3\"},\"line\":{\"color\":\"white\"}},\"type\":\"table\"}],\"barpolar\":[{\"marker\":{\"line\":{\"color\":\"#E5ECF6\",\"width\":0.5},\"pattern\":{\"fillmode\":\"overlay\",\"size\":10,\"solidity\":0.2}},\"type\":\"barpolar\"}],\"pie\":[{\"automargin\":true,\"type\":\"pie\"}]},\"layout\":{\"autotypenumbers\":\"strict\",\"colorway\":[\"#636efa\",\"#EF553B\",\"#00cc96\",\"#ab63fa\",\"#FFA15A\",\"#19d3f3\",\"#FF6692\",\"#B6E880\",\"#FF97FF\",\"#FECB52\"],\"font\":{\"color\":\"#2a3f5f\"},\"hovermode\":\"closest\",\"hoverlabel\":{\"align\":\"left\"},\"paper_bgcolor\":\"white\",\"plot_bgcolor\":\"#E5ECF6\",\"polar\":{\"bgcolor\":\"#E5ECF6\",\"angularaxis\":{\"gridcolor\":\"white\",\"linecolor\":\"white\",\"ticks\":\"\"},\"radialaxis\":{\"gridcolor\":\"white\",\"linecolor\":\"white\",\"ticks\":\"\"}},\"ternary\":{\"bgcolor\":\"#E5ECF6\",\"aaxis\":{\"gridcolor\":\"white\",\"linecolor\":\"white\",\"ticks\":\"\"},\"baxis\":{\"gridcolor\":\"white\",\"linecolor\":\"white\",\"ticks\":\"\"},\"caxis\":{\"gridcolor\":\"white\",\"linecolor\":\"white\",\"ticks\":\"\"}},\"coloraxis\":{\"colorbar\":{\"outlinewidth\":0,\"ticks\":\"\"}},\"colorscale\":{\"sequential\":[[0.0,\"#0d0887\"],[0.1111111111111111,\"#46039f\"],[0.2222222222222222,\"#7201a8\"],[0.3333333333333333,\"#9c179e\"],[0.4444444444444444,\"#bd3786\"],[0.5555555555555556,\"#d8576b\"],[0.6666666666666666,\"#ed7953\"],[0.7777777777777778,\"#fb9f3a\"],[0.8888888888888888,\"#fdca26\"],[1.0,\"#f0f921\"]],\"sequentialminus\":[[0.0,\"#0d0887\"],[0.1111111111111111,\"#46039f\"],[0.2222222222222222,\"#7201a8\"],[0.3333333333333333,\"#9c179e\"],[0.4444444444444444,\"#bd3786\"],[0.5555555555555556,\"#d8576b\"],[0.6666666666666666,\"#ed7953\"],[0.7777777777777778,\"#fb9f3a\"],[0.8888888888888888,\"#fdca26\"],[1.0,\"#f0f921\"]],\"diverging\":[[0,\"#8e0152\"],[0.1,\"#c51b7d\"],[0.2,\"#de77ae\"],[0.3,\"#f1b6da\"],[0.4,\"#fde0ef\"],[0.5,\"#f7f7f7\"],[0.6,\"#e6f5d0\"],[0.7,\"#b8e186\"],[0.8,\"#7fbc41\"],[0.9,\"#4d9221\"],[1,\"#276419\"]]},\"xaxis\":{\"gridcolor\":\"white\",\"linecolor\":\"white\",\"ticks\":\"\",\"title\":{\"standoff\":15},\"zerolinecolor\":\"white\",\"automargin\":true,\"zerolinewidth\":2},\"yaxis\":{\"gridcolor\":\"white\",\"linecolor\":\"white\",\"ticks\":\"\",\"title\":{\"standoff\":15},\"zerolinecolor\":\"white\",\"automargin\":true,\"zerolinewidth\":2},\"scene\":{\"xaxis\":{\"backgroundcolor\":\"#E5ECF6\",\"gridcolor\":\"white\",\"linecolor\":\"white\",\"showbackground\":true,\"ticks\":\"\",\"zerolinecolor\":\"white\",\"gridwidth\":2},\"yaxis\":{\"backgroundcolor\":\"#E5ECF6\",\"gridcolor\":\"white\",\"linecolor\":\"white\",\"showbackground\":true,\"ticks\":\"\",\"zerolinecolor\":\"white\",\"gridwidth\":2},\"zaxis\":{\"backgroundcolor\":\"#E5ECF6\",\"gridcolor\":\"white\",\"linecolor\":\"white\",\"showbackground\":true,\"ticks\":\"\",\"zerolinecolor\":\"white\",\"gridwidth\":2}},\"shapedefaults\":{\"line\":{\"color\":\"#2a3f5f\"}},\"annotationdefaults\":{\"arrowcolor\":\"#2a3f5f\",\"arrowhead\":0,\"arrowwidth\":1},\"geo\":{\"bgcolor\":\"white\",\"landcolor\":\"#E5ECF6\",\"subunitcolor\":\"white\",\"showland\":true,\"showlakes\":true,\"lakecolor\":\"white\"},\"title\":{\"x\":0.05},\"mapbox\":{\"style\":\"light\"}}}},                        {\"responsive\": true}                    ).then(function(){\n",
              "                            \n",
              "var gd = document.getElementById('f819fece-2523-4539-a645-dba5170cec5f');\n",
              "var x = new MutationObserver(function (mutations, observer) {{\n",
              "        var display = window.getComputedStyle(gd).display;\n",
              "        if (!display || display === 'none') {{\n",
              "            console.log([gd, 'removed!']);\n",
              "            Plotly.purge(gd);\n",
              "            observer.disconnect();\n",
              "        }}\n",
              "}});\n",
              "\n",
              "// Listen for the removal of the full notebook cells\n",
              "var notebookContainer = gd.closest('#notebook-container');\n",
              "if (notebookContainer) {{\n",
              "    x.observe(notebookContainer, {childList: true});\n",
              "}}\n",
              "\n",
              "// Listen for the clearing of the current output cell\n",
              "var outputEl = gd.closest('.output');\n",
              "if (outputEl) {{\n",
              "    x.observe(outputEl, {childList: true});\n",
              "}}\n",
              "\n",
              "                        })                };                            </script>        </div>\n",
              "</body>\n",
              "</html>"
            ]
          },
          "metadata": {}
        }
      ],
      "source": [
        "def plot_2d_embeddings(embeddings, id_start=1, count=100):\n",
        "  # Get 1st and 2nd embedding dims for the desired tokens.\n",
        "  x1 = embeddings[id_start:id_start+count, 0]\n",
        "  x2 = embeddings[id_start:id_start+count, 1]\n",
        "\n",
        "  # Get the corresponding words from the reverse index (for labeling).\n",
        "  tokens = [reverse_index[i] for i in range(id_start, id_start+count)]\n",
        "\n",
        "  # Plot with the plotly library.\n",
        "  data = plotly.Scatter(x=x1, y=x2, text=tokens,\n",
        "                        mode='markers', textposition='bottom left',\n",
        "                        hoverinfo='text')\n",
        "  fig = plotly.Figure(data=[data],\n",
        "                      layout=plotly.Layout(title=\"Word Embeddings\",\n",
        "                                           hovermode='closest'))\n",
        "  fig.show()\n",
        "\n",
        "# Very frequent tokens tend to be more syntactic than semantic, so let's plot\n",
        "# some rarer words.\n",
        "plot_2d_embeddings(embeddings2, id_start=500, count=500)"
      ]
    },
    {
      "cell_type": "code",
      "source": [
        "reverse_index[7]"
      ],
      "metadata": {
        "colab": {
          "base_uri": "https://localhost:8080/",
          "height": 35
        },
        "id": "zVXo6BfPfYJT",
        "outputId": "abefdd53-8fcc-40af-9d23-eb64eb5e3282"
      },
      "execution_count": 35,
      "outputs": [
        {
          "output_type": "execute_result",
          "data": {
            "text/plain": [
              "'of'"
            ],
            "application/vnd.google.colaboratory.intrinsic+json": {
              "type": "string"
            }
          },
          "metadata": {},
          "execution_count": 35
        }
      ]
    },
    {
      "cell_type": "code",
      "source": [
        "def plot_2d_embeddings_highlight(embeddings, id_start=1, count=100, highlight_ids=[7, 8, 9]):\n",
        "    x1 = embeddings[id_start:id_start+count, 0]\n",
        "    x2 = embeddings[id_start:id_start+count, 1]\n",
        "\n",
        "    tokens = [reverse_index[i] for i in range(id_start, id_start+count)]\n",
        "\n",
        "    data = plotly.Scatter(x=x1, y=x2, text=tokens,\n",
        "                          mode='markers', textposition='bottom left',\n",
        "                          hoverinfo='text', marker=dict(color='blue', size=6))\n",
        "\n",
        "    # Highlight specific tokens (7, 8, and 9):\n",
        "    highlight_x1 = embeddings[highlight_ids, 0]\n",
        "    highlight_x2 = embeddings[highlight_ids, 1]\n",
        "    highlight_tokens = [reverse_index[i] for i in highlight_ids]\n",
        "    highlight_data = plotly.Scatter(x=highlight_x1, y=highlight_x2, text=highlight_tokens,\n",
        "                                    mode='markers+text', textposition='bottom left',\n",
        "                                    hoverinfo='text', marker=dict(color='red', size=10))\n",
        "    fig = plotly.Figure(data=[data, highlight_data],\n",
        "                        layout=plotly.Layout(title=\"Word Embeddings with Highlighted Tokens\",\n",
        "                                             hovermode='closest'))\n",
        "    fig.show()\n",
        "\n",
        "plot_2d_embeddings_highlight(embeddings2, id_start=500, count=500)"
      ],
      "metadata": {
        "colab": {
          "base_uri": "https://localhost:8080/",
          "height": 542
        },
        "id": "N8DvZVzPf3pE",
        "outputId": "69e46751-6a5d-4043-ad8a-bf9ddc03b693"
      },
      "execution_count": 42,
      "outputs": [
        {
          "output_type": "display_data",
          "data": {
            "text/html": [
              "<html>\n",
              "<head><meta charset=\"utf-8\" /></head>\n",
              "<body>\n",
              "    <div>            <script src=\"https://cdnjs.cloudflare.com/ajax/libs/mathjax/2.7.5/MathJax.js?config=TeX-AMS-MML_SVG\"></script><script type=\"text/javascript\">if (window.MathJax && window.MathJax.Hub && window.MathJax.Hub.Config) {window.MathJax.Hub.Config({SVG: {font: \"STIX-Web\"}});}</script>                <script type=\"text/javascript\">window.PlotlyConfig = {MathJaxConfig: 'local'};</script>\n",
              "        <script charset=\"utf-8\" src=\"https://cdn.plot.ly/plotly-2.35.2.min.js\"></script>                <div id=\"4956c077-a2da-4c64-b7ae-1c6273ac94c7\" class=\"plotly-graph-div\" style=\"height:525px; width:100%;\"></div>            <script type=\"text/javascript\">                                    window.PLOTLYENV=window.PLOTLYENV || {};                                    if (document.getElementById(\"4956c077-a2da-4c64-b7ae-1c6273ac94c7\")) {                    Plotly.newPlot(                        \"4956c077-a2da-4c64-b7ae-1c6273ac94c7\",                        [{\"hoverinfo\":\"text\",\"marker\":{\"color\":\"blue\",\"size\":6},\"mode\":\"markers\",\"text\":[\"game\",\"past\",\"able\",\"b\",\"days\",\"turns\",\"child\",\"they're\",\"hand\",\"flick\",\"enjoyed\",\"act\",\"genre\",\"town\",\"favorite\",\"soon\",\"kill\",\"starts\",\"sometimes\",\"car\",\"gave\",\"run\",\"late\",\"eyes\",\"actress\",\"etc\",\"directed\",\"horrible\",\"won't\",\"viewer\",\"brilliant\",\"parts\",\"self\",\"themselves\",\"hour\",\"expect\",\"thinking\",\"stories\",\"stuff\",\"girls\",\"obviously\",\"blood\",\"decent\",\"city\",\"voice\",\"highly\",\"myself\",\"feeling\",\"fight\",\"except\",\"slow\",\"matter\",\"type\",\"anyway\",\"kid\",\"roles\",\"killed\",\"heard\",\"god\",\"age\",\"says\",\"moment\",\"took\",\"leave\",\"writer\",\"strong\",\"cannot\",\"violence\",\"police\",\"hit\",\"stop\",\"happens\",\"particularly\",\"known\",\"involved\",\"happened\",\"extremely\",\"daughter\",\"obvious\",\"told\",\"chance\",\"living\",\"coming\",\"lack\",\"alone\",\"experience\",\"wouldn't\",\"including\",\"murder\",\"attempt\",\"s\",\"please\",\"james\",\"happen\",\"wonder\",\"crap\",\"ago\",\"brother\",\"film's\",\"gore\",\"none\",\"complete\",\"interest\",\"score\",\"group\",\"cut\",\"simple\",\"save\",\"ok\",\"hell\",\"looked\",\"career\",\"number\",\"song\",\"possible\",\"seriously\",\"annoying\",\"shown\",\"exactly\",\"sad\",\"running\",\"musical\",\"serious\",\"taken\",\"yourself\",\"whose\",\"released\",\"cinematography\",\"david\",\"scary\",\"ends\",\"english\",\"hero\",\"usually\",\"hours\",\"reality\",\"opening\",\"i'll\",\"across\",\"today\",\"jokes\",\"light\",\"hilarious\",\"somewhat\",\"usual\",\"started\",\"cool\",\"ridiculous\",\"body\",\"relationship\",\"view\",\"level\",\"opinion\",\"change\",\"happy\",\"middle\",\"taking\",\"wish\",\"husband\",\"finds\",\"saying\",\"order\",\"talking\",\"ones\",\"documentary\",\"shots\",\"huge\",\"novel\",\"female\",\"mostly\",\"robert\",\"power\",\"episodes\",\"room\",\"important\",\"rating\",\"talent\",\"five\",\"major\",\"turned\",\"strange\",\"word\",\"modern\",\"call\",\"apparently\",\"disappointed\",\"single\",\"events\",\"due\",\"four\",\"songs\",\"basically\",\"attention\",\"7\",\"knows\",\"clearly\",\"supporting\",\"knew\",\"british\",\"television\",\"comic\",\"non\",\"fast\",\"earth\",\"country\",\"future\",\"cheap\",\"class\",\"thriller\",\"8\",\"silly\",\"king\",\"problems\",\"aren't\",\"easily\",\"words\",\"tells\",\"miss\",\"jack\",\"local\",\"sequence\",\"bring\",\"entertainment\",\"paul\",\"beyond\",\"upon\",\"whether\",\"predictable\",\"moving\",\"similar\",\"straight\",\"romantic\",\"sets\",\"review\",\"falls\",\"oscar\",\"mystery\",\"enjoyable\",\"needs\",\"appears\",\"talk\",\"rock\",\"george\",\"giving\",\"eye\",\"richard\",\"within\",\"ten\",\"animation\",\"message\",\"theater\",\"near\",\"above\",\"dull\",\"nearly\",\"sequel\",\"theme\",\"points\",\"'\",\"stand\",\"mention\",\"lady\",\"bunch\",\"add\",\"feels\",\"herself\",\"release\",\"red\",\"team\",\"storyline\",\"surprised\",\"ways\",\"using\",\"named\",\"haven't\",\"lots\",\"easy\",\"fantastic\",\"begins\",\"actual\",\"working\",\"effort\",\"york\",\"die\",\"hate\",\"french\",\"minute\",\"tale\",\"clear\",\"stay\",\"9\",\"elements\",\"feature\",\"among\",\"follow\",\"comments\",\"re\",\"viewers\",\"avoid\",\"sister\",\"showing\",\"typical\",\"editing\",\"what's\",\"famous\",\"tried\",\"sorry\",\"dialog\",\"check\",\"fall\",\"period\",\"season\",\"form\",\"certain\",\"filmed\",\"weak\",\"soundtrack\",\"means\",\"buy\",\"material\",\"somehow\",\"realistic\",\"figure\",\"crime\",\"doubt\",\"gone\",\"peter\",\"tom\",\"kept\",\"viewing\",\"t\",\"general\",\"leads\",\"greatest\",\"space\",\"lame\",\"suspense\",\"dance\",\"imagine\",\"brought\",\"third\",\"atmosphere\",\"hear\",\"particular\",\"sequences\",\"whatever\",\"parents\",\"move\",\"lee\",\"indeed\",\"learn\",\"rent\",\"de\",\"eventually\",\"note\",\"deal\",\"average\",\"reviews\",\"wait\",\"forget\",\"japanese\",\"sexual\",\"poorly\",\"premise\",\"okay\",\"zombie\",\"surprise\",\"believable\",\"stage\",\"possibly\",\"sit\",\"who's\",\"decided\",\"expected\",\"you've\",\"subject\",\"nature\",\"became\",\"difficult\",\"free\",\"killing\",\"screenplay\",\"truth\",\"romance\",\"dr\",\"nor\",\"reading\",\"needed\",\"question\",\"leaves\",\"street\",\"20\",\"meets\",\"hot\",\"unless\",\"begin\",\"baby\",\"superb\",\"credits\",\"imdb\",\"otherwise\",\"write\",\"shame\",\"let's\",\"situation\",\"dramatic\",\"memorable\",\"directors\",\"earlier\",\"meet\",\"disney\",\"open\",\"dog\",\"badly\",\"joe\",\"male\",\"weird\",\"acted\",\"forced\",\"laughs\",\"sci\",\"emotional\",\"older\",\"realize\",\"fi\",\"dream\",\"society\",\"writers\",\"interested\",\"footage\",\"forward\",\"comment\",\"crazy\",\"deep\",\"sounds\",\"plus\",\"beauty\",\"whom\",\"america\",\"fantasy\",\"directing\",\"keeps\",\"ask\",\"development\",\"features\",\"air\",\"quickly\",\"mess\",\"creepy\",\"towards\",\"perfectly\",\"mark\",\"worked\",\"box\",\"cheesy\",\"unique\",\"setting\",\"hands\",\"plenty\",\"result\",\"previous\",\"brings\",\"effect\",\"e\",\"total\",\"personal\",\"incredibly\",\"rate\",\"fire\",\"monster\",\"business\",\"leading\",\"apart\",\"casting\",\"admit\",\"joke\",\"powerful\",\"appear\",\"background\",\"telling\",\"girlfriend\",\"meant\",\"christmas\",\"hardly\",\"present\",\"battle\",\"potential\",\"create\",\"bill\",\"break\",\"pay\",\"masterpiece\",\"gay\",\"political\",\"return\",\"dumb\",\"fails\",\"fighting\",\"various\",\"era\"],\"textposition\":\"bottom left\",\"x\":[-0.17515141,0.01946645,-0.2383447,0.34834597,-0.06342148,-0.028769055,-0.3815572,0.18044797,0.22482643,0.16943137,-1.0223637,0.09395583,-0.16007362,0.14690232,-0.9093438,-0.12348062,0.042498965,0.64972585,-0.07043881,0.09586657,0.38341352,-0.2416218,-0.37404072,0.15887524,0.07773614,-0.03218992,0.040123153,1.0277975,0.0962278,-0.07844549,-0.7899896,-0.010297121,0.44416407,0.043298762,0.31345052,-0.11060782,0.5441499,-0.2632698,-0.01929403,0.3780364,0.14463633,-0.0115093645,0.45474452,-0.2315988,-0.13968846,-0.3076584,0.23629513,-0.0658607,-0.26745173,0.30385762,0.22028868,0.037388906,-0.021886664,0.083822034,-0.29379153,-0.24128717,0.24200639,-0.027845804,0.5827897,-0.24701247,0.10482783,0.03318146,-0.25455853,-0.07206863,-0.050504494,-0.2035023,0.3297581,0.18819606,-0.18417303,-0.31770158,0.12372702,0.2572414,0.12748574,-0.14846441,0.32096565,-0.03684607,0.012302333,-0.2147565,0.3133409,-0.36196968,-0.24635357,-0.10332013,-0.024033396,0.23464304,0.11470076,-0.17006555,0.029074322,-0.012705874,-0.0988276,0.47820514,0.25382927,0.4480353,-0.30693558,0.04449698,0.23367219,0.77266175,-0.4870001,0.088700354,-0.06348139,0.33842415,0.035395615,0.553559,-0.22614199,0.029025873,0.32559663,-0.03548367,-0.49613112,0.34910792,0.60196996,0.31339592,0.37413713,-0.05810799,-0.10980998,-0.3010321,0.34283912,0.40670377,0.43206245,0.033754263,0.16850418,-0.015337173,0.13809042,-0.26167905,-0.034871288,0.0041804104,0.004597774,-0.049440853,-0.37893468,-0.2547096,-0.10866734,0.26593634,-0.05578621,0.118892096,0.09005577,0.13833463,0.2877932,-0.160162,-0.063081756,0.3533794,-0.22888973,-0.17532043,0.18327706,-0.35511845,-0.4573175,-0.03665706,0.048351113,0.14162113,0.023865176,0.82722706,0.117418006,-0.062341798,-0.27123734,-0.13048433,-0.30720985,0.007820212,0.0009031611,-0.054955482,-0.109211095,0.18949348,0.09679726,0.042442348,0.31180695,0.03893138,-0.06791402,0.029406033,-0.39677364,0.26173902,0.21508914,0.10350843,-0.014841633,-0.08382034,-0.20636839,0.20754111,-0.22948338,-0.21407326,-0.1582584,0.091221794,0.15323475,0.1394776,0.24775772,0.03546678,-0.15401801,0.116794884,-0.4420954,0.069144055,0.25794452,0.65874535,0.18800081,-0.26043782,-0.12162546,-0.006266636,-0.07922309,0.50613046,-0.23066267,-0.2642644,0.054298535,0.26552814,-0.18842524,-0.15168655,-0.24600893,-0.29635304,-0.12038338,0.037621062,0.22011709,0.21653384,0.02936688,-0.16050632,0.5148664,0.032126896,-0.1668741,-0.4000716,0.030921513,-0.108243324,-0.070483536,-0.050033826,-0.034736868,0.15734126,-0.1965812,-0.24345586,-0.19331835,0.06488551,-0.0017233893,0.1271115,-0.0034553811,-0.25048837,0.21493533,-0.13944039,0.13529122,0.4056678,-0.25608596,0.051985174,0.11235722,-0.33729392,-0.056950223,0.5565052,0.408114,-0.14780816,-0.03604416,-0.36285082,0.05836331,0.1589895,0.13412614,-0.28534487,-0.15159397,0.026779056,-0.18349478,-0.10238337,-0.15668735,-0.1242279,-0.39727673,-0.3023411,0.2103641,-0.034942072,-0.30693293,0.70210135,-0.067145534,0.3793056,-0.09412268,0.072162725,-0.07398949,-0.22602288,0.2134557,-0.20148444,0.33389837,-0.11078059,-0.028785303,-0.09025877,-0.20830777,-0.29693407,-0.08500899,0.20756213,-0.6556551,-0.19774939,0.19089906,0.21322455,-0.29846466,-0.17188634,-0.38238317,-0.5180737,0.040915567,-0.068858005,-0.014180314,0.38383391,-0.17561644,0.12181177,0.15650943,-0.3185862,0.37175465,-0.37866062,-0.04541171,0.112720884,-0.1683453,-0.047863953,-0.37994945,-0.1742114,-0.03100506,-0.05226922,-0.04622924,0.07143185,0.42761055,-0.046103567,-0.09206911,-0.0010325579,0.09182308,0.2169632,-0.13774236,0.613876,0.56759745,0.3255496,0.13508616,0.021361155,0.02440262,-0.23821637,-0.037661806,-0.0649523,-0.3433563,0.74507695,-0.12303793,0.17900422,-0.049129356,0.18773292,0.048942447,-0.47385278,0.25138235,-0.17799145,0.13218738,0.07207495,0.05063504,-0.26200184,-0.053349562,-0.3885797,0.21866418,0.007473799,0.085657135,-0.709831,0.1731838,0.6448337,-0.21305445,-0.10614832,0.21920203,-0.20213047,-0.06254732,-0.12150018,-0.010375722,-0.02212581,-0.15427704,0.21829724,-0.14520834,0.039308324,0.32592353,0.0226768,-0.03484308,0.46235305,-0.22610329,0.10950056,0.15249965,0.18377079,-0.04154799,0.1935816,-0.06475554,-0.1895275,-0.16434336,-0.042939812,0.77185535,0.5247165,0.31155807,0.34785175,-0.5497858,-0.26540676,-0.15910889,0.41941994,0.2336515,-0.13280404,0.27376795,0.22715472,0.13340712,0.01343327,-0.004298427,0.06401152,-0.22612096,0.34580755,0.2822062,0.041744675,0.02496146,-0.33131823,0.1497542,-0.1665994,0.059969574,0.16542844,0.13640308,0.02265187,-0.11818635,0.13609661,-0.20636302,-0.15293695,0.35023314,0.35742125,-0.21940117,-0.62688106,0.17977461,0.24535793,0.4283401,0.5018446,0.2906191,0.2188342,-0.21313965,0.027870746,-0.1669534,-0.34392974,-0.10154625,0.13826445,-0.33552393,0.11653678,-0.1661764,0.5592481,0.06294175,-0.0014144687,0.08258716,-0.12764317,0.29323608,0.0074490225,0.02279164,-0.32495785,-0.27669454,0.18621764,0.023881063,-0.08386191,-0.23501328,0.33403447,0.062581494,0.06642041,0.5314555,-0.008121109,0.14933681,0.02117067,-0.025546858,0.07212199,-0.25583777,0.14997478,0.0034249155,-0.3357933,0.13100693,-0.11563247,-0.045906734,0.031242087,0.04428733,-0.1605804,0.15527114,0.6361915,0.04445607,-0.045117207,-0.13469675,0.017513473,0.027286753,0.04972513,0.19885167,-0.40603942,0.04571675,0.10324748,-0.2846167,0.04826956,0.09525143,-0.20667075,-0.0344969,0.036571506,0.36556655,-0.19729485,0.07701087,-0.031181842,-0.08238195,0.29597884,-0.13463992,-0.100623675,0.07611071,0.08663109,-0.19157973,0.4770882,-0.5501988,0.09576392,0.124853015,-0.17439418,0.24596088,0.14609413,0.16201556,0.1306642,-0.16061123,-0.1900839,0.66143316,0.019002793,-0.04125889,-0.28940892,0.15178424,-0.7097859,0.2441809,-0.13679205,-0.15693317,0.3229884,0.48040974,-0.07403516,0.14786911,-0.24972296],\"y\":[-0.20084262,-0.007195846,-0.24261089,0.28019926,-0.06107531,-0.086639665,-0.25093222,0.20104538,0.15408923,0.14271633,-0.9115185,0.05880649,-0.13584723,0.119849235,-0.80039823,-0.101281345,-0.012511676,0.6045893,-0.01656046,0.07661694,0.24468662,-0.22257538,-0.3766487,0.18138105,-0.01055665,-0.008921072,0.024136435,0.8731099,0.014788787,-0.13197146,-0.73469687,-0.006309666,0.40676105,0.019257905,0.29748216,-0.10020482,0.40665156,-0.23471193,0.00588791,0.25321868,0.11373435,0.015103211,0.40638515,-0.26301542,-0.17069776,-0.29281172,0.2356883,-0.06820199,-0.2753086,0.26085332,0.24576166,0.07786342,-0.07149173,0.020772904,-0.2049611,-0.198598,0.18467818,-0.07855045,0.46439794,-0.24673335,0.08403725,0.024180617,-0.17492276,-0.11560295,0.0019564151,-0.23077779,0.26546246,0.19411686,-0.085148044,-0.19219102,0.08195058,0.21567543,0.08714297,-0.1580142,0.25929993,-0.055817757,0.023878848,-0.14428164,0.27808768,-0.32520995,-0.20302771,-0.09891427,-0.07904914,0.19105478,0.14241734,-0.18761782,0.008690036,0.04251161,-0.07631401,0.38938853,0.28835833,0.40017825,-0.31187388,0.092316836,0.2018972,0.65627706,-0.3981418,0.07748496,-0.07994644,0.30264243,0.006105296,0.49031186,-0.24758956,-0.019163659,0.22865048,-0.006818699,-0.473207,0.2825607,0.4730512,0.307788,0.33812302,0.0028740475,-0.13939735,-0.251597,0.26632333,0.36106598,0.33737138,0.022711173,0.15279528,0.057909228,0.1220925,-0.22875468,-0.001406538,-0.009852239,-0.0015843981,-0.07677754,-0.35588616,-0.202703,-0.16061969,0.22200327,-0.04383526,0.05335636,0.043775056,0.16201976,0.27496663,-0.12103304,-0.029135378,0.2228147,-0.18980971,-0.1575593,0.17437762,-0.30519274,-0.41449517,-0.04102251,-0.00065083127,0.102386974,-0.010515145,0.74325687,0.06780892,-0.04056057,-0.22553064,-0.0734775,-0.29028097,-0.0086258,0.0033888575,-0.13760734,-0.1155115,0.16916007,0.10916551,0.060722474,0.22756736,0.042313334,-0.11592889,0.05717771,-0.36701256,0.16620123,0.15191293,0.07785366,-0.027227836,-0.08156945,-0.17284523,0.11208788,-0.15950173,-0.11008032,-0.12992114,0.146536,0.17737743,0.1346548,0.21771884,0.024503354,-0.13329272,0.18149865,-0.37035555,0.07561921,0.18757074,0.5321885,0.12769608,-0.17865667,-0.050760444,-0.012835683,-0.0777865,0.43861225,-0.115653,-0.20105545,0.058384396,0.21523455,-0.15771964,-0.08308487,-0.17906229,-0.3041454,-0.10903621,0.000522809,0.16751094,0.18437505,0.0041714367,-0.13322571,0.41204226,0.016691016,-0.1841046,-0.3645908,-0.01948236,-0.11142872,-0.09652712,-0.12580669,-0.03131763,0.1992681,-0.25377747,-0.19448589,-0.16094898,0.048961647,-0.052355744,0.08635269,-0.02005917,-0.2280031,0.23128487,-0.193279,0.06128406,0.38925925,-0.27223104,0.056065064,0.1360215,-0.3023917,-0.038683485,0.48097527,0.3352791,-0.14769435,-0.039945874,-0.33219936,0.041556213,0.14001782,0.07240761,-0.27150828,-0.09629176,0.06380894,-0.21802592,-0.088610575,-0.13167232,-0.13277298,-0.36205804,-0.18324527,0.14052989,-0.05990241,-0.1975378,0.6542913,-0.062859185,0.37287593,-0.09719421,0.03316824,-0.053235065,-0.19877516,0.21855609,-0.14893417,0.25565284,-0.06650369,-0.058676008,-0.07354837,-0.11439946,-0.24536835,-0.11188438,0.120999806,-0.545474,-0.17872038,0.18596432,0.10616876,-0.26317176,-0.10004437,-0.3569103,-0.41932836,0.05163912,-0.09443756,0.03803188,0.34906542,-0.13249871,0.12831418,0.10874067,-0.2734115,0.31166583,-0.36998948,-0.052015457,0.068733975,-0.092316054,-0.106471494,-0.38482422,-0.08711124,-0.031124612,-0.038122848,-0.026314335,0.106484376,0.373621,-0.02572602,-0.077675894,-0.034088083,0.104008116,0.1426514,-0.10251522,0.462593,0.5434748,0.31781483,0.10424676,0.060177054,-0.020296637,-0.17663229,-0.038976986,-0.001951171,-0.2632236,0.58839613,-0.030251142,0.129266,-0.03311285,0.15065767,0.011341184,-0.45818207,0.21014948,-0.14395875,0.12872934,0.068125114,0.05499834,-0.21890968,-0.026963433,-0.39026937,0.17739962,0.015457306,0.10133008,-0.60402596,0.22755276,0.54513544,-0.1714899,-0.09657586,0.22798994,-0.21067257,-0.06450062,-0.17798485,0.007354991,-0.011698019,-0.09042052,0.25285727,-0.20547192,0.047920745,0.2752194,0.080567576,0.003750771,0.34981322,-0.26433346,0.1444228,0.1497831,0.090173185,-0.02952574,0.16807237,-0.042405337,-0.177409,-0.0637378,-0.0043057334,0.61755335,0.5173674,0.2140108,0.31393176,-0.50729024,-0.19068313,-0.0945076,0.3057504,0.23094879,-0.03681657,0.2953436,0.25034562,0.16077855,0.011575554,0.021932423,-0.011689329,-0.17083375,0.28008273,0.21708743,0.017198227,-0.02559879,-0.23877424,0.16545978,-0.10288812,0.038398158,0.18055953,0.09187694,0.041369766,-0.06740116,0.13094985,-0.1507059,-0.17205429,0.3092011,0.3378369,-0.19615354,-0.5025965,0.14522605,0.18968406,0.3755071,0.392744,0.26999632,0.14878298,-0.21905605,0.051155344,-0.15897371,-0.31260702,-0.059067298,0.09089167,-0.30490124,0.16294457,-0.17536682,0.523528,0.1253215,-0.04218979,0.04604274,-0.06700638,0.25567263,0.030795896,0.031786595,-0.3379171,-0.32033914,0.19087766,0.048232496,-0.0110501,-0.18301912,0.32044896,-0.019903472,0.097025454,0.47508875,0.016905043,0.11736408,0.022332545,-0.00057200337,0.059069514,-0.25247395,0.12922148,0.0040229918,-0.32953814,0.1395653,-0.034215756,-0.07650399,0.11396142,0.04263953,-0.17151427,0.1964862,0.54889303,0.070208944,-0.06619483,-0.1661955,0.09871577,0.03707253,0.053753626,0.1716476,-0.38945603,0.014828389,0.025951156,-0.22307049,0.0024744056,0.07660196,-0.18877043,-0.050680637,-0.014864003,0.25656304,-0.19268972,0.062780425,-0.02788968,-0.01840434,0.33299214,-0.083439454,-0.012172385,0.07734975,0.05202565,-0.17920378,0.40311348,-0.48939183,0.007833366,0.0932736,-0.17602557,0.13743812,0.093872644,0.10386852,0.08502837,-0.19928834,-0.14160708,0.49174753,0.012118975,-0.07890883,-0.25213584,0.16284335,-0.639393,0.17110859,-0.13286914,-0.11087949,0.32918385,0.48145992,-0.008305569,0.1402687,-0.18349597],\"type\":\"scatter\"},{\"hoverinfo\":\"text\",\"marker\":{\"color\":\"red\",\"size\":10},\"mode\":\"markers+text\",\"text\":[\"of\",\"to\",\"is\"],\"textposition\":\"bottom left\",\"x\":[-0.24875912,0.4185176,-0.4996749],\"y\":[-0.23415372,0.35781434,-0.4470224],\"type\":\"scatter\"}],                        {\"hovermode\":\"closest\",\"title\":{\"text\":\"Word Embeddings with Highlighted Tokens\"},\"template\":{\"data\":{\"histogram2dcontour\":[{\"type\":\"histogram2dcontour\",\"colorbar\":{\"outlinewidth\":0,\"ticks\":\"\"},\"colorscale\":[[0.0,\"#0d0887\"],[0.1111111111111111,\"#46039f\"],[0.2222222222222222,\"#7201a8\"],[0.3333333333333333,\"#9c179e\"],[0.4444444444444444,\"#bd3786\"],[0.5555555555555556,\"#d8576b\"],[0.6666666666666666,\"#ed7953\"],[0.7777777777777778,\"#fb9f3a\"],[0.8888888888888888,\"#fdca26\"],[1.0,\"#f0f921\"]]}],\"choropleth\":[{\"type\":\"choropleth\",\"colorbar\":{\"outlinewidth\":0,\"ticks\":\"\"}}],\"histogram2d\":[{\"type\":\"histogram2d\",\"colorbar\":{\"outlinewidth\":0,\"ticks\":\"\"},\"colorscale\":[[0.0,\"#0d0887\"],[0.1111111111111111,\"#46039f\"],[0.2222222222222222,\"#7201a8\"],[0.3333333333333333,\"#9c179e\"],[0.4444444444444444,\"#bd3786\"],[0.5555555555555556,\"#d8576b\"],[0.6666666666666666,\"#ed7953\"],[0.7777777777777778,\"#fb9f3a\"],[0.8888888888888888,\"#fdca26\"],[1.0,\"#f0f921\"]]}],\"heatmap\":[{\"type\":\"heatmap\",\"colorbar\":{\"outlinewidth\":0,\"ticks\":\"\"},\"colorscale\":[[0.0,\"#0d0887\"],[0.1111111111111111,\"#46039f\"],[0.2222222222222222,\"#7201a8\"],[0.3333333333333333,\"#9c179e\"],[0.4444444444444444,\"#bd3786\"],[0.5555555555555556,\"#d8576b\"],[0.6666666666666666,\"#ed7953\"],[0.7777777777777778,\"#fb9f3a\"],[0.8888888888888888,\"#fdca26\"],[1.0,\"#f0f921\"]]}],\"heatmapgl\":[{\"type\":\"heatmapgl\",\"colorbar\":{\"outlinewidth\":0,\"ticks\":\"\"},\"colorscale\":[[0.0,\"#0d0887\"],[0.1111111111111111,\"#46039f\"],[0.2222222222222222,\"#7201a8\"],[0.3333333333333333,\"#9c179e\"],[0.4444444444444444,\"#bd3786\"],[0.5555555555555556,\"#d8576b\"],[0.6666666666666666,\"#ed7953\"],[0.7777777777777778,\"#fb9f3a\"],[0.8888888888888888,\"#fdca26\"],[1.0,\"#f0f921\"]]}],\"contourcarpet\":[{\"type\":\"contourcarpet\",\"colorbar\":{\"outlinewidth\":0,\"ticks\":\"\"}}],\"contour\":[{\"type\":\"contour\",\"colorbar\":{\"outlinewidth\":0,\"ticks\":\"\"},\"colorscale\":[[0.0,\"#0d0887\"],[0.1111111111111111,\"#46039f\"],[0.2222222222222222,\"#7201a8\"],[0.3333333333333333,\"#9c179e\"],[0.4444444444444444,\"#bd3786\"],[0.5555555555555556,\"#d8576b\"],[0.6666666666666666,\"#ed7953\"],[0.7777777777777778,\"#fb9f3a\"],[0.8888888888888888,\"#fdca26\"],[1.0,\"#f0f921\"]]}],\"surface\":[{\"type\":\"surface\",\"colorbar\":{\"outlinewidth\":0,\"ticks\":\"\"},\"colorscale\":[[0.0,\"#0d0887\"],[0.1111111111111111,\"#46039f\"],[0.2222222222222222,\"#7201a8\"],[0.3333333333333333,\"#9c179e\"],[0.4444444444444444,\"#bd3786\"],[0.5555555555555556,\"#d8576b\"],[0.6666666666666666,\"#ed7953\"],[0.7777777777777778,\"#fb9f3a\"],[0.8888888888888888,\"#fdca26\"],[1.0,\"#f0f921\"]]}],\"mesh3d\":[{\"type\":\"mesh3d\",\"colorbar\":{\"outlinewidth\":0,\"ticks\":\"\"}}],\"scatter\":[{\"fillpattern\":{\"fillmode\":\"overlay\",\"size\":10,\"solidity\":0.2},\"type\":\"scatter\"}],\"parcoords\":[{\"type\":\"parcoords\",\"line\":{\"colorbar\":{\"outlinewidth\":0,\"ticks\":\"\"}}}],\"scatterpolargl\":[{\"type\":\"scatterpolargl\",\"marker\":{\"colorbar\":{\"outlinewidth\":0,\"ticks\":\"\"}}}],\"bar\":[{\"error_x\":{\"color\":\"#2a3f5f\"},\"error_y\":{\"color\":\"#2a3f5f\"},\"marker\":{\"line\":{\"color\":\"#E5ECF6\",\"width\":0.5},\"pattern\":{\"fillmode\":\"overlay\",\"size\":10,\"solidity\":0.2}},\"type\":\"bar\"}],\"scattergeo\":[{\"type\":\"scattergeo\",\"marker\":{\"colorbar\":{\"outlinewidth\":0,\"ticks\":\"\"}}}],\"scatterpolar\":[{\"type\":\"scatterpolar\",\"marker\":{\"colorbar\":{\"outlinewidth\":0,\"ticks\":\"\"}}}],\"histogram\":[{\"marker\":{\"pattern\":{\"fillmode\":\"overlay\",\"size\":10,\"solidity\":0.2}},\"type\":\"histogram\"}],\"scattergl\":[{\"type\":\"scattergl\",\"marker\":{\"colorbar\":{\"outlinewidth\":0,\"ticks\":\"\"}}}],\"scatter3d\":[{\"type\":\"scatter3d\",\"line\":{\"colorbar\":{\"outlinewidth\":0,\"ticks\":\"\"}},\"marker\":{\"colorbar\":{\"outlinewidth\":0,\"ticks\":\"\"}}}],\"scattermapbox\":[{\"type\":\"scattermapbox\",\"marker\":{\"colorbar\":{\"outlinewidth\":0,\"ticks\":\"\"}}}],\"scatterternary\":[{\"type\":\"scatterternary\",\"marker\":{\"colorbar\":{\"outlinewidth\":0,\"ticks\":\"\"}}}],\"scattercarpet\":[{\"type\":\"scattercarpet\",\"marker\":{\"colorbar\":{\"outlinewidth\":0,\"ticks\":\"\"}}}],\"carpet\":[{\"aaxis\":{\"endlinecolor\":\"#2a3f5f\",\"gridcolor\":\"white\",\"linecolor\":\"white\",\"minorgridcolor\":\"white\",\"startlinecolor\":\"#2a3f5f\"},\"baxis\":{\"endlinecolor\":\"#2a3f5f\",\"gridcolor\":\"white\",\"linecolor\":\"white\",\"minorgridcolor\":\"white\",\"startlinecolor\":\"#2a3f5f\"},\"type\":\"carpet\"}],\"table\":[{\"cells\":{\"fill\":{\"color\":\"#EBF0F8\"},\"line\":{\"color\":\"white\"}},\"header\":{\"fill\":{\"color\":\"#C8D4E3\"},\"line\":{\"color\":\"white\"}},\"type\":\"table\"}],\"barpolar\":[{\"marker\":{\"line\":{\"color\":\"#E5ECF6\",\"width\":0.5},\"pattern\":{\"fillmode\":\"overlay\",\"size\":10,\"solidity\":0.2}},\"type\":\"barpolar\"}],\"pie\":[{\"automargin\":true,\"type\":\"pie\"}]},\"layout\":{\"autotypenumbers\":\"strict\",\"colorway\":[\"#636efa\",\"#EF553B\",\"#00cc96\",\"#ab63fa\",\"#FFA15A\",\"#19d3f3\",\"#FF6692\",\"#B6E880\",\"#FF97FF\",\"#FECB52\"],\"font\":{\"color\":\"#2a3f5f\"},\"hovermode\":\"closest\",\"hoverlabel\":{\"align\":\"left\"},\"paper_bgcolor\":\"white\",\"plot_bgcolor\":\"#E5ECF6\",\"polar\":{\"bgcolor\":\"#E5ECF6\",\"angularaxis\":{\"gridcolor\":\"white\",\"linecolor\":\"white\",\"ticks\":\"\"},\"radialaxis\":{\"gridcolor\":\"white\",\"linecolor\":\"white\",\"ticks\":\"\"}},\"ternary\":{\"bgcolor\":\"#E5ECF6\",\"aaxis\":{\"gridcolor\":\"white\",\"linecolor\":\"white\",\"ticks\":\"\"},\"baxis\":{\"gridcolor\":\"white\",\"linecolor\":\"white\",\"ticks\":\"\"},\"caxis\":{\"gridcolor\":\"white\",\"linecolor\":\"white\",\"ticks\":\"\"}},\"coloraxis\":{\"colorbar\":{\"outlinewidth\":0,\"ticks\":\"\"}},\"colorscale\":{\"sequential\":[[0.0,\"#0d0887\"],[0.1111111111111111,\"#46039f\"],[0.2222222222222222,\"#7201a8\"],[0.3333333333333333,\"#9c179e\"],[0.4444444444444444,\"#bd3786\"],[0.5555555555555556,\"#d8576b\"],[0.6666666666666666,\"#ed7953\"],[0.7777777777777778,\"#fb9f3a\"],[0.8888888888888888,\"#fdca26\"],[1.0,\"#f0f921\"]],\"sequentialminus\":[[0.0,\"#0d0887\"],[0.1111111111111111,\"#46039f\"],[0.2222222222222222,\"#7201a8\"],[0.3333333333333333,\"#9c179e\"],[0.4444444444444444,\"#bd3786\"],[0.5555555555555556,\"#d8576b\"],[0.6666666666666666,\"#ed7953\"],[0.7777777777777778,\"#fb9f3a\"],[0.8888888888888888,\"#fdca26\"],[1.0,\"#f0f921\"]],\"diverging\":[[0,\"#8e0152\"],[0.1,\"#c51b7d\"],[0.2,\"#de77ae\"],[0.3,\"#f1b6da\"],[0.4,\"#fde0ef\"],[0.5,\"#f7f7f7\"],[0.6,\"#e6f5d0\"],[0.7,\"#b8e186\"],[0.8,\"#7fbc41\"],[0.9,\"#4d9221\"],[1,\"#276419\"]]},\"xaxis\":{\"gridcolor\":\"white\",\"linecolor\":\"white\",\"ticks\":\"\",\"title\":{\"standoff\":15},\"zerolinecolor\":\"white\",\"automargin\":true,\"zerolinewidth\":2},\"yaxis\":{\"gridcolor\":\"white\",\"linecolor\":\"white\",\"ticks\":\"\",\"title\":{\"standoff\":15},\"zerolinecolor\":\"white\",\"automargin\":true,\"zerolinewidth\":2},\"scene\":{\"xaxis\":{\"backgroundcolor\":\"#E5ECF6\",\"gridcolor\":\"white\",\"linecolor\":\"white\",\"showbackground\":true,\"ticks\":\"\",\"zerolinecolor\":\"white\",\"gridwidth\":2},\"yaxis\":{\"backgroundcolor\":\"#E5ECF6\",\"gridcolor\":\"white\",\"linecolor\":\"white\",\"showbackground\":true,\"ticks\":\"\",\"zerolinecolor\":\"white\",\"gridwidth\":2},\"zaxis\":{\"backgroundcolor\":\"#E5ECF6\",\"gridcolor\":\"white\",\"linecolor\":\"white\",\"showbackground\":true,\"ticks\":\"\",\"zerolinecolor\":\"white\",\"gridwidth\":2}},\"shapedefaults\":{\"line\":{\"color\":\"#2a3f5f\"}},\"annotationdefaults\":{\"arrowcolor\":\"#2a3f5f\",\"arrowhead\":0,\"arrowwidth\":1},\"geo\":{\"bgcolor\":\"white\",\"landcolor\":\"#E5ECF6\",\"subunitcolor\":\"white\",\"showland\":true,\"showlakes\":true,\"lakecolor\":\"white\"},\"title\":{\"x\":0.05},\"mapbox\":{\"style\":\"light\"}}}},                        {\"responsive\": true}                    ).then(function(){\n",
              "                            \n",
              "var gd = document.getElementById('4956c077-a2da-4c64-b7ae-1c6273ac94c7');\n",
              "var x = new MutationObserver(function (mutations, observer) {{\n",
              "        var display = window.getComputedStyle(gd).display;\n",
              "        if (!display || display === 'none') {{\n",
              "            console.log([gd, 'removed!']);\n",
              "            Plotly.purge(gd);\n",
              "            observer.disconnect();\n",
              "        }}\n",
              "}});\n",
              "\n",
              "// Listen for the removal of the full notebook cells\n",
              "var notebookContainer = gd.closest('#notebook-container');\n",
              "if (notebookContainer) {{\n",
              "    x.observe(notebookContainer, {childList: true});\n",
              "}}\n",
              "\n",
              "// Listen for the clearing of the current output cell\n",
              "var outputEl = gd.closest('.output');\n",
              "if (outputEl) {{\n",
              "    x.observe(outputEl, {childList: true});\n",
              "}}\n",
              "\n",
              "                        })                };                            </script>        </div>\n",
              "</body>\n",
              "</html>"
            ]
          },
          "metadata": {}
        }
      ]
    },
    {
      "cell_type": "markdown",
      "metadata": {
        "id": "KMTp3GbbLBsh"
      },
      "source": [
        "### <span style=\"color:chocolate\">Exercise 8:</span> Interpreting embeddings (20 points)"
      ]
    },
    {
      "cell_type": "markdown",
      "metadata": {
        "id": "Z3Mm8MjRcZ20"
      },
      "source": [
        "Notice that the 2-D embeddings fall in a narrow diagonal band. Answer the following questions:\n",
        "\n",
        "1. Have the learned embeddings separated positive and negative words? What is the most negative word? Does this make sense?\n",
        "2. Give 2 examples of words that seem to have surprising embedding values and try to explain their positions. For example, what's going on with the tokens '7', '8', and '9'? What are two other surprising results?\n",
        "3. The embedding for 'crazy' is very close to (0,0). Explain what this means in terms of the model's output.\n",
        "4. Can you explain what you think the 2 learned embedding dimensions mean, if anything?"
      ]
    },
    {
      "cell_type": "markdown",
      "metadata": {
        "id": "x_qAAvvo2y3t"
      },
      "source": [
        "YOUR ANSWER HERE\n",
        "\n",
        "1. Yes, the learned embeddings have effectively separated positive and negative words. Positive words are positioned along the diagonal starting from the bottom-left corner, becoming less positive or more neutral as they move towards the center. Conversely, negative words are placed along the diagonal starting from the top-right corner, gradually transitioning from more negative to less negative or more neutral as they approach the center. This diagonal separation reflects how the embedding space captures the polarity of the words, with the central area representing neutral words that don't strongly lean toward either sentiment. The most negative word is then horrible, which is sensible for a movie review. This embedding attempts to position words with similar meanings or sentiments closer together in the embedding space. By placing positive words on one side and negative words on the other, the model organizes the sentiment-related features in a meaningful way. The gradual shift from extreme sentiment (positive or negative) to more neutral words as you move toward the center of the diagonal reflects the natural variation in sentiment, with neutral words not strongly favoring either polarity. This aligns with how sentiment is often distributed across different words.\n",
        "\n",
        "2. Modern and child are very close to the positive side of the embedding plot, however the words are objectively neutral. However, in context of movies/in relation to other words, they are most likely to be mentioned when providing a positive review of the movie (describing details of the movie like a child doing a well job and it being a modern take on a prior film). On the opposing side, starts is labeled more negatively but in reality is pretty neutral. It is most likely because, in context of a movie review, the writer is going into detail about the plot of the movie and how it starts a certain way and changes track, making it a bad movie. Also on the negative side is review, suggesting that when a writer writes the word review in their review, they are more likely to be writing a negative review. Tokens 7, 8, and 9 are the words \"is\", \"of\", and \"to\", which are all small neutral connecting words that should in reality be closer to the middle of the graph, however, \"is\" is more positive, and \"to\" is more negative (\"of\" neutral), suggesting when saying something \"is\" something, it is used in more positive reviews, and when using the word \"to\", it is used in more negative reviews, which does not seem sensible.\n",
        "\n",
        "3. \"crazy\" is very close to 0 most likely because it can be used in both positive and negative contexts a fairly equal amount of times. You can say a movie is crazy good (or a crazy idea), or crazy bad (or a crazy person). The model has learned to treat it as a neutral or context-dependent word. The model places it in a central position in the embedding space, indicating that it doesn't have a clear sentiment polarity on its own. The model likely relies on surrounding words or context to determine sentiment, rather than treating \"crazy\" as inherently positive or negative.\n",
        "\n",
        "4. The two learned embedding dimensions are probably capturing different aspects of the relationships between the tokens, like semantic meaning and sentiment. The first dimension may represent a general positivity or negativity axis, with positive words clustered towards one end and negative words towards the other, while the second dimension could capture another relationships, such as intensity or context. For example, words like \"amazing\" or \"love\" may be positioned on the positive end of the first axis and spread out on the other dimension based on the strength of the sentiment, while words like \"sad\" or \"horrible\" would cluster at the opposite end, again spread out as horrible might have a stronger sentiment. Words that don't clearly fit into a positive or negative sentiment (like \"crazy\") may fall closer to the center, reflecting a neutral or ambiguous sentiment. Since the dimensions are learned based on the data and context, the exact meaning is hard to say.\n"
      ]
    },
    {
      "cell_type": "markdown",
      "metadata": {
        "id": "iTdDqWRxLBsi"
      },
      "source": [
        "----\n",
        "#### <span style=\"color:chocolate\">Additional practice question</span> (not graded)\n",
        "\n",
        "More data and bigger models"
      ]
    },
    {
      "cell_type": "markdown",
      "metadata": {
        "id": "IXCitmUvxfwb"
      },
      "source": [
        "Remember how you limited your input sequences to 20 tokens and 1000 vocabulary entries? Let's see how well you can do using more data and bigger models (more parameters)."
      ]
    },
    {
      "cell_type": "markdown",
      "metadata": {
        "id": "PDtDn5hxLBsi"
      },
      "source": [
        "Using pieces of code from above, set up and train a model to achieve at least 80% accuracy on both training and validation data. Ensure the following elements are included:\n",
        "\n",
        "1. Truncate and pad input to the desired length;\n",
        "2. Limit the vocabulary to the desired size;\n",
        "3. Set up a model using embeddings;\n",
        "4. Use the averaging strategy rather than the concatenating strategy;\n",
        "5. Add additional layer(s) after the GlobalAveragePooling1D layer and before the output layer;\n",
        "6. Evaluate the model's performance on the test data and comment on its generalization performance. Hint: remember to apply the same preprocessing to the test data. Use the <span style=\"color:chocolate\">model.evaluate()</span> function for the final evaluation."
      ]
    },
    {
      "cell_type": "code",
      "execution_count": null,
      "metadata": {
        "id": "ekbJ4sIq2hID"
      },
      "outputs": [],
      "source": [
        "# YOUR CODE HERE"
      ]
    }
  ],
  "metadata": {
    "colab": {
      "provenance": [],
      "include_colab_link": true
    },
    "kernelspec": {
      "display_name": "Python 3 (ipykernel)",
      "language": "python",
      "name": "python3"
    },
    "language_info": {
      "codemirror_mode": {
        "name": "ipython",
        "version": 3
      },
      "file_extension": ".py",
      "mimetype": "text/x-python",
      "name": "python",
      "nbconvert_exporter": "python",
      "pygments_lexer": "ipython3",
      "version": "3.12.4"
    }
  },
  "nbformat": 4,
  "nbformat_minor": 0
}