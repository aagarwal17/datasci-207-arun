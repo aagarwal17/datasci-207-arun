{
  "cells": [
    {
      "cell_type": "markdown",
      "id": "68d2f193",
      "metadata": {
        "id": "68d2f193"
      },
      "source": [
        "# Assignment 0"
      ]
    },
    {
      "cell_type": "markdown",
      "id": "231ec299",
      "metadata": {
        "id": "231ec299"
      },
      "source": [
        "### <span style=\"color:chocolate\"> Submission requirements </span>\n",
        "\n",
        "Your work will not be graded if your notebook doesn't include output. In other words, <span style=\"color:red\"> make sure to rerun your notebook before submitting to Gradescope </span> (Note: if you are using Google Colab: go to Edit > Notebook Settings  and uncheck Omit code cell output when saving this notebook, otherwise the output is not printed).\n",
        "\n",
        "Additional points may be deducted if these requirements are not met:\n",
        "\n",
        "    \n",
        "* Comment your code;\n",
        "* Each graph should have a title, labels for each axis, and (if needed) a legend. Each graph should be understandable on its own;\n",
        "* Try and minimize the use of the global namespace (meaning, keep things inside functions).\n",
        "---"
      ]
    },
    {
      "cell_type": "markdown",
      "id": "aae36a3a",
      "metadata": {
        "id": "aae36a3a"
      },
      "source": [
        "### Import libraries"
      ]
    },
    {
      "cell_type": "code",
      "execution_count": 1,
      "id": "1d2c9a02",
      "metadata": {
        "id": "1d2c9a02"
      },
      "outputs": [],
      "source": [
        "import numpy as np\n",
        "np.random.seed(seed=1)"
      ]
    },
    {
      "cell_type": "markdown",
      "id": "8fb0f91b",
      "metadata": {
        "id": "8fb0f91b"
      },
      "source": [
        "---\n",
        "### <span style=\"color:chocolate\">Exercise 1:</span> Homogenous data types (10 points)\n",
        "\n",
        "1. Create a numpy array (my_array1) containing only integer values. Print the shape of the array and the type of its elements;\n",
        "2. Create another numpy array (my_array2) containing a mix of integer and string values. Print the shape of the array and the type of its elements. Comment on the type of its elements."
      ]
    },
    {
      "cell_type": "code",
      "execution_count": 4,
      "id": "49c4add6",
      "metadata": {
        "id": "49c4add6",
        "outputId": "31666b9c-2c50-4759-e93c-15bd41edf8c8",
        "colab": {
          "base_uri": "https://localhost:8080/",
          "height": 176
        }
      },
      "outputs": [
        {
          "output_type": "error",
          "ename": "TypeError",
          "evalue": "'tuple' object is not callable",
          "traceback": [
            "\u001b[0;31m---------------------------------------------------------------------------\u001b[0m",
            "\u001b[0;31mTypeError\u001b[0m                                 Traceback (most recent call last)",
            "\u001b[0;32m<ipython-input-4-029791709e32>\u001b[0m in \u001b[0;36m<cell line: 3>\u001b[0;34m()\u001b[0m\n\u001b[1;32m      1\u001b[0m \u001b[0;31m# YOUR CODE HERE\u001b[0m\u001b[0;34m\u001b[0m\u001b[0;34m\u001b[0m\u001b[0m\n\u001b[1;32m      2\u001b[0m \u001b[0mmy_array1\u001b[0m \u001b[0;34m=\u001b[0m \u001b[0mnp\u001b[0m\u001b[0;34m.\u001b[0m\u001b[0mones\u001b[0m\u001b[0;34m(\u001b[0m\u001b[0mshape\u001b[0m \u001b[0;34m=\u001b[0m \u001b[0;34m(\u001b[0m\u001b[0;36m2\u001b[0m\u001b[0;34m,\u001b[0m\u001b[0;36m3\u001b[0m\u001b[0;34m)\u001b[0m\u001b[0;34m)\u001b[0m\u001b[0;34m\u001b[0m\u001b[0;34m\u001b[0m\u001b[0m\n\u001b[0;32m----> 3\u001b[0;31m \u001b[0mprint\u001b[0m\u001b[0;34m(\u001b[0m\u001b[0mmy_array1\u001b[0m\u001b[0;34m.\u001b[0m\u001b[0mshape\u001b[0m\u001b[0;34m(\u001b[0m\u001b[0;34m)\u001b[0m\u001b[0;34m,\u001b[0m \u001b[0mmy_array1\u001b[0m\u001b[0;34m)\u001b[0m\u001b[0;34m\u001b[0m\u001b[0;34m\u001b[0m\u001b[0m\n\u001b[0m",
            "\u001b[0;31mTypeError\u001b[0m: 'tuple' object is not callable"
          ]
        }
      ],
      "source": [
        "# YOUR CODE HERE\n",
        "my_array1 = np.ones(shape = (2,3))\n",
        "print(my_array1.shape(), my_array1)"
      ]
    },
    {
      "cell_type": "markdown",
      "id": "8becfbd2",
      "metadata": {
        "id": "8becfbd2"
      },
      "source": [
        "---\n",
        "#### <span style=\"color:chocolate\">Exercise 2:</span> The size attribute (10 points)\n",
        "\n",
        "Create a numpy array (my_array3) and print its shape, size, and data type. What does size represent?"
      ]
    },
    {
      "cell_type": "code",
      "execution_count": null,
      "id": "8733dbc0",
      "metadata": {
        "id": "8733dbc0"
      },
      "outputs": [],
      "source": [
        "# YOUR CODE HERE"
      ]
    },
    {
      "cell_type": "markdown",
      "id": "89731f88",
      "metadata": {
        "id": "89731f88"
      },
      "source": [
        "---\n",
        "#### <span style=\"color:chocolate\">Exercise 3:</span> Tabular data layout (10 points)"
      ]
    },
    {
      "cell_type": "markdown",
      "id": "89c8c4d9",
      "metadata": {
        "id": "89c8c4d9"
      },
      "source": [
        "Create a tabular data layout using the numpy method <span style=\"color:chocolate\">np.random.random()</span>, where:\n",
        "* the first input is num_samples, and\n",
        "* the second input is num_features.\n",
        "\n",
        "Print the shape of the array."
      ]
    },
    {
      "cell_type": "code",
      "execution_count": null,
      "id": "dcabc0b0",
      "metadata": {
        "id": "dcabc0b0"
      },
      "outputs": [],
      "source": [
        "# already defined first and second inputs\n",
        "num_samples = 100\n",
        "num_features = 17\n",
        "\n",
        "# YOUR CODE HERE"
      ]
    },
    {
      "cell_type": "markdown",
      "id": "9ea1e400",
      "metadata": {
        "id": "9ea1e400"
      },
      "source": [
        "---\n",
        "#### <span style=\"color:chocolate\">Exercise 4:</span> Image data layout (10 points)"
      ]
    },
    {
      "cell_type": "markdown",
      "id": "7c5b220a",
      "metadata": {
        "id": "7c5b220a"
      },
      "source": [
        "Create an image data layout using the numpy method <span style=\"color:chocolate\">np.random.random()</span>, where:\n",
        "\n",
        "* the first input is num_images;\n",
        "* the second input is num_rows;\n",
        "* the third input is num_cols;\n",
        "* the fourth input is num_channels.\n",
        "\n",
        "Print the shape of the array."
      ]
    },
    {
      "cell_type": "code",
      "execution_count": null,
      "id": "9b371f29",
      "metadata": {
        "id": "9b371f29"
      },
      "outputs": [],
      "source": [
        "# already defined inputs\n",
        "num_images = 100\n",
        "num_rows = 256\n",
        "num_cols = 256\n",
        "num_channels = 3 #(RGB)\n",
        "\n",
        "# YOUR CODE HERE"
      ]
    },
    {
      "cell_type": "markdown",
      "id": "19d7b075",
      "metadata": {
        "id": "19d7b075"
      },
      "source": [
        "---\n",
        "#### <span style=\"color:chocolate\">Exercise 5: </span>Mathematical operations on numpy arrays (15 points)"
      ]
    },
    {
      "cell_type": "markdown",
      "id": "b88b701f",
      "metadata": {
        "id": "b88b701f"
      },
      "source": [
        "Create a (3, 2) numpy array (you can name it my_array4) containing only integer values. Perform the following tasks:\n",
        "\n",
        "1. Print the shape of the array;\n",
        "2. Print the sum of all elements (hint: the axis argument is set to None);\n",
        "3. Print the sum of all elements by column;\n",
        "3. Print the sum of all elements by row and change the type of the resulting array elements to float;\n",
        "5. Print the first row of the array;\n",
        "6. Print the second row of the array;\n",
        "7. Select the element at position (1, 0);\n",
        "8. Modify the element at position (2, 1) by setting its value to 10 and print the array again;\n",
        "9. Loop over elements in the array. Print the output."
      ]
    },
    {
      "cell_type": "code",
      "execution_count": null,
      "id": "5efe6c22",
      "metadata": {
        "id": "5efe6c22"
      },
      "outputs": [],
      "source": [
        "# YOUR CODE HERE"
      ]
    },
    {
      "cell_type": "markdown",
      "id": "7a7e249a",
      "metadata": {
        "id": "7a7e249a"
      },
      "source": [
        "You can find more examples here: https://numpy.org/doc/stable/reference/routines.math.html"
      ]
    },
    {
      "cell_type": "markdown",
      "id": "7f71edb9",
      "metadata": {
        "id": "7f71edb9"
      },
      "source": [
        "---\n",
        "#### <span style=\"color:chocolate\">Exercise 6:</span> Create arrays (15 points)\n",
        "\n",
        "1. Create and print a (3,2) numpy array of pixel values between 0 and 1.\n",
        "2. Create and print a (27,) numpy array representing years from 1991 to 2017\n",
        "3. Create and print a (3, 5, 10) numpy array of zeros\n",
        "4. Create and print a (3, 5, 10) numpy array of ones\n",
        "5. Create and print an array with a constant value (let's say 5) using np.ones()\n",
        "6. Create and print an array with random numbers drawn from a normal distribution with mean 0 and standard deviation 1. Set the sample size to 10.\n"
      ]
    },
    {
      "cell_type": "code",
      "execution_count": null,
      "id": "b1bf53cb",
      "metadata": {
        "id": "b1bf53cb"
      },
      "outputs": [],
      "source": [
        "# YOUR CODE HERE"
      ]
    },
    {
      "cell_type": "markdown",
      "id": "4fd05963",
      "metadata": {
        "id": "4fd05963"
      },
      "source": [
        "---\n",
        "#### <span style=\"color:chocolate\">Exercise 7:</span> Reshape arrays (10 points)"
      ]
    },
    {
      "cell_type": "markdown",
      "id": "e139e4eb",
      "metadata": {
        "id": "e139e4eb"
      },
      "source": [
        "Consider the following array:"
      ]
    },
    {
      "cell_type": "code",
      "execution_count": null,
      "id": "a5a192dc",
      "metadata": {
        "id": "a5a192dc"
      },
      "outputs": [],
      "source": [
        "years = np.arange(1991, 2018, 1)\n",
        "print(years.shape)"
      ]
    },
    {
      "cell_type": "markdown",
      "id": "d3255640",
      "metadata": {
        "id": "d3255640"
      },
      "source": [
        "Perform the following operations on this array:\n",
        "    \n",
        "1. Create 3 nested arrays, each of size (3, 3). Call this array years_3d;\n",
        "2. Convert the years_3d array to a flat 1D array. Call this array years_1d;\n",
        "3. Add a new axis (in front) to the years_1d array. Call this array years_2d;\n",
        "4. Remove the first axis from years_2d array. Call this array years_1d.\n",
        "\n",
        "For each exercise print the array and its shape."
      ]
    },
    {
      "cell_type": "code",
      "execution_count": null,
      "id": "ab18878a",
      "metadata": {
        "id": "ab18878a"
      },
      "outputs": [],
      "source": [
        "# YOUR CODE HERE"
      ]
    },
    {
      "cell_type": "markdown",
      "id": "6a3a4011",
      "metadata": {
        "id": "6a3a4011"
      },
      "source": [
        "---\n",
        "#### <span style=\"color:chocolate\">Exercise 8:</span> Joining arrays (10 points)"
      ]
    },
    {
      "cell_type": "markdown",
      "id": "5382a84a",
      "metadata": {
        "id": "5382a84a"
      },
      "source": [
        "Provide 8 examples that use the methods <span style=\"color:cornflowerBlue\">np.concatenate()</span> and <span style=\"color:cornflowerBlue\">np.stack()</span>. Note: create 4 examples using each method."
      ]
    },
    {
      "cell_type": "code",
      "execution_count": null,
      "id": "a9c2ff1a",
      "metadata": {
        "id": "a9c2ff1a"
      },
      "outputs": [],
      "source": [
        "# YOUR CODE HERE"
      ]
    },
    {
      "cell_type": "markdown",
      "id": "7780b5b8",
      "metadata": {
        "id": "7780b5b8"
      },
      "source": [
        "---\n",
        "#### <span style=\"color:chocolate\">Numpy broadcasting</span>"
      ]
    },
    {
      "cell_type": "markdown",
      "id": "d105a999",
      "metadata": {
        "id": "d105a999"
      },
      "source": [
        "The term broadcasting describes how NumPy treats arrays during arithmetic operations. You can find more here:  https://numpy.org/doc/stable/user/basics.broadcasting.html"
      ]
    },
    {
      "cell_type": "code",
      "execution_count": null,
      "id": "ce9ca817",
      "metadata": {
        "id": "ce9ca817"
      },
      "outputs": [],
      "source": [
        "# multiplying an array with a scalar\n",
        "years = np.arange(1991, 2018, 1)\n",
        "years * 1"
      ]
    },
    {
      "cell_type": "code",
      "execution_count": null,
      "id": "d2150eb6",
      "metadata": {
        "id": "d2150eb6"
      },
      "outputs": [],
      "source": [
        "# adding a scalar\n",
        "years + 2"
      ]
    },
    {
      "cell_type": "code",
      "execution_count": null,
      "id": "d7319a34",
      "metadata": {
        "id": "d7319a34"
      },
      "outputs": [],
      "source": [
        "# many arithmetic operations are applied element wise on a pair of arrays\n",
        "a = np.arange(3)\n",
        "print('Array a:', a)\n",
        "b = np.arange(3)\n",
        "print('Array b:', b)\n",
        "print('Sum of a and b:', a+b)"
      ]
    },
    {
      "cell_type": "code",
      "execution_count": null,
      "id": "44ac94cd",
      "metadata": {
        "id": "44ac94cd"
      },
      "outputs": [],
      "source": [
        "# another example\n",
        "a = np.ones((3, 3))\n",
        "print('Array a:', a)\n",
        "b = np.arange(3)\n",
        "print('\\nArray b:', b)\n",
        "print('\\nSum of a and b:', a+b)"
      ]
    },
    {
      "cell_type": "markdown",
      "id": "85e7d3c8",
      "metadata": {
        "id": "85e7d3c8"
      },
      "source": [
        "---\n",
        "#### <span style=\"color:chocolate\">Exercise 9:</span> Numpy array standardization (10 points)"
      ]
    },
    {
      "cell_type": "markdown",
      "id": "9bccc9d7",
      "metadata": {
        "id": "9bccc9d7"
      },
      "source": [
        "Consider the following (10, 4) array:"
      ]
    },
    {
      "cell_type": "code",
      "execution_count": null,
      "id": "02a2102e",
      "metadata": {
        "id": "02a2102e"
      },
      "outputs": [],
      "source": [
        "my_array = np.random.random((10, 4))\n",
        "print('my_array shape: ', my_array.shape)\n",
        "my_array"
      ]
    },
    {
      "cell_type": "markdown",
      "id": "c505935d",
      "metadata": {
        "id": "c505935d"
      },
      "source": [
        "Peform the following operations on this array:\n",
        "1. Compute and print the mean and std for each column (note: set keepdims=True for proper broadcasting).\n",
        "2. Standardize and print the array and its shape using the mean and std you computed above."
      ]
    },
    {
      "cell_type": "code",
      "execution_count": null,
      "id": "5a88c63d",
      "metadata": {
        "id": "5a88c63d"
      },
      "outputs": [],
      "source": [
        "# YOUR CODE HERE"
      ]
    },
    {
      "cell_type": "markdown",
      "id": "ebe2eaa0",
      "metadata": {
        "id": "ebe2eaa0"
      },
      "source": [
        "----\n",
        "#### <span style=\"color:chocolate\">Additional practice question</span> (not graded)"
      ]
    },
    {
      "cell_type": "markdown",
      "id": "d43bdaa7",
      "metadata": {
        "id": "d43bdaa7"
      },
      "source": [
        "Consider the following image:"
      ]
    },
    {
      "cell_type": "code",
      "execution_count": null,
      "id": "e7c61c06",
      "metadata": {
        "id": "e7c61c06"
      },
      "outputs": [],
      "source": [
        "my_image = np.arange(0, 1, 0.04).reshape(5,5)\n",
        "print(my_image)\n",
        "my_image.shape"
      ]
    },
    {
      "cell_type": "markdown",
      "id": "78f029bd",
      "metadata": {
        "id": "78f029bd"
      },
      "source": [
        "Perform the following operations on this image (do not overwrite the original image):\n",
        "\n",
        "1. Crop by using a border of size 1;\n",
        "2. Crop by removing:\n",
        "    * the first and the last two rows, and\n",
        "    * the first and the last two columns;\n",
        "3. Reverse the column order;\n",
        "4. set to 0.5 elements divizible by 2."
      ]
    },
    {
      "cell_type": "code",
      "execution_count": null,
      "id": "d7dadfcf",
      "metadata": {
        "id": "d7dadfcf"
      },
      "outputs": [],
      "source": [
        "# YOUR CODE HERE"
      ]
    }
  ],
  "metadata": {
    "kernelspec": {
      "display_name": "Python 3 (ipykernel)",
      "language": "python",
      "name": "python3"
    },
    "language_info": {
      "codemirror_mode": {
        "name": "ipython",
        "version": 3
      },
      "file_extension": ".py",
      "mimetype": "text/x-python",
      "name": "python",
      "nbconvert_exporter": "python",
      "pygments_lexer": "ipython3",
      "version": "3.12.4"
    },
    "colab": {
      "provenance": []
    }
  },
  "nbformat": 4,
  "nbformat_minor": 5
}