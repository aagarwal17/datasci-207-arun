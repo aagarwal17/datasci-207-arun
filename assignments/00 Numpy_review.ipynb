{
  "cells": [
    {
      "cell_type": "markdown",
      "id": "68d2f193",
      "metadata": {
        "id": "68d2f193"
      },
      "source": [
        "# Assignment 0"
      ]
    },
    {
      "cell_type": "markdown",
      "id": "231ec299",
      "metadata": {
        "id": "231ec299"
      },
      "source": [
        "### <span style=\"color:chocolate\"> Submission requirements </span>\n",
        "\n",
        "Your work will not be graded if your notebook doesn't include output. In other words, <span style=\"color:red\"> make sure to rerun your notebook before submitting to Gradescope </span> (Note: if you are using Google Colab: go to Edit > Notebook Settings  and uncheck Omit code cell output when saving this notebook, otherwise the output is not printed).\n",
        "\n",
        "Additional points may be deducted if these requirements are not met:\n",
        "\n",
        "    \n",
        "* Comment your code;\n",
        "* Each graph should have a title, labels for each axis, and (if needed) a legend. Each graph should be understandable on its own;\n",
        "* Try and minimize the use of the global namespace (meaning, keep things inside functions).\n",
        "---"
      ]
    },
    {
      "cell_type": "markdown",
      "id": "aae36a3a",
      "metadata": {
        "id": "aae36a3a"
      },
      "source": [
        "### Import libraries"
      ]
    },
    {
      "cell_type": "code",
      "execution_count": 1,
      "id": "1d2c9a02",
      "metadata": {
        "id": "1d2c9a02"
      },
      "outputs": [],
      "source": [
        "import numpy as np\n",
        "np.random.seed(seed=1)"
      ]
    },
    {
      "cell_type": "markdown",
      "id": "8fb0f91b",
      "metadata": {
        "id": "8fb0f91b"
      },
      "source": [
        "---\n",
        "### <span style=\"color:chocolate\">Exercise 1:</span> Homogenous data types (10 points)\n",
        "\n",
        "1. Create a numpy array (my_array1) containing only integer values. Print the shape of the array and the type of its elements;\n",
        "2. Create another numpy array (my_array2) containing a mix of integer and string values. Print the shape of the array and the type of its elements. Comment on the type of its elements."
      ]
    },
    {
      "cell_type": "code",
      "execution_count": 2,
      "id": "49c4add6",
      "metadata": {
        "colab": {
          "base_uri": "https://localhost:8080/"
        },
        "id": "49c4add6",
        "outputId": "73f0849f-01de-4385-e489-05df9c48afa6"
      },
      "outputs": [
        {
          "output_type": "stream",
          "name": "stdout",
          "text": [
            "Array 1:\n",
            "[1 2 3 4]\n",
            "Shape: (4,), Type: int64\n",
            "\n",
            "Array 2:\n",
            "['4' 'green' '37' 'sjskaskna' '5']\n",
            "Shape: (5,), Type: <U21\n"
          ]
        }
      ],
      "source": [
        "# YOUR CODE HERE\n",
        "\n",
        "# First array containing only integer values\n",
        "my_array1 = np.array([1, 2, 3, 4])\n",
        "print(f\"Array 1:\\n{my_array1}\\nShape: {my_array1.shape}, Type: {my_array1.dtype}\")\n",
        "\n",
        "# Second array containing a mix of integer and string values\n",
        "my_array2 = np.array([4, \"green\", 37, \"sjskaskna\", \"5\"])\n",
        "print(f\"\\nArray 2:\\n{my_array2}\\nShape: {my_array2.shape}, Type: {my_array2.dtype}\")\n",
        "\n",
        "# NumPy makes sure all the elements in the array have the same datatype, so this is of course integer for my_array1 (int64).\n",
        "# my_array2 has 2 different data type values, so it converts all elements to string for uniformity (type <U21)\n"
      ]
    },
    {
      "cell_type": "markdown",
      "id": "8becfbd2",
      "metadata": {
        "id": "8becfbd2"
      },
      "source": [
        "---\n",
        "#### <span style=\"color:chocolate\">Exercise 2:</span> The size attribute (10 points)\n",
        "\n",
        "Create a numpy array (my_array3) and print its shape, size, and data type. What does size represent?"
      ]
    },
    {
      "cell_type": "code",
      "execution_count": 3,
      "id": "8733dbc0",
      "metadata": {
        "colab": {
          "base_uri": "https://localhost:8080/"
        },
        "id": "8733dbc0",
        "outputId": "0bb56af9-4e20-411a-f6d6-f513c84a54b8"
      },
      "outputs": [
        {
          "output_type": "stream",
          "name": "stdout",
          "text": [
            "Array 3:\n",
            "[[ 1  5 10]\n",
            " [15 20 25]]\n",
            "Shape: (2, 3), Size: 6, Type: int64\n"
          ]
        }
      ],
      "source": [
        "# YOUR CODE HERE\n",
        "# Numpy array\n",
        "my_array3 = np.array([[1, 5, 10], [15,20,25]])\n",
        "print(f\"Array 3:\\n{my_array3}\\nShape: {my_array3.shape}, Size: {my_array3.size}, Type: {my_array3.dtype}\")\n",
        "\n",
        "# Size represents the total number of elements in the array"
      ]
    },
    {
      "cell_type": "markdown",
      "id": "89731f88",
      "metadata": {
        "id": "89731f88"
      },
      "source": [
        "---\n",
        "#### <span style=\"color:chocolate\">Exercise 3:</span> Tabular data layout (10 points)"
      ]
    },
    {
      "cell_type": "markdown",
      "id": "89c8c4d9",
      "metadata": {
        "id": "89c8c4d9"
      },
      "source": [
        "Create a tabular data layout using the numpy method <span style=\"color:chocolate\">np.random.random()</span>, where:\n",
        "* the first input is num_samples, and\n",
        "* the second input is num_features.\n",
        "\n",
        "Print the shape of the array."
      ]
    },
    {
      "cell_type": "code",
      "execution_count": 4,
      "id": "dcabc0b0",
      "metadata": {
        "colab": {
          "base_uri": "https://localhost:8080/"
        },
        "id": "dcabc0b0",
        "outputId": "d1ac3057-193a-4d2f-fa30-2db0de065ece"
      },
      "outputs": [
        {
          "output_type": "stream",
          "name": "stdout",
          "text": [
            "Shape of array: (100, 17)\n"
          ]
        }
      ],
      "source": [
        "# already defined first and second inputs\n",
        "num_samples = 100\n",
        "num_features = 17\n",
        "\n",
        "# YOUR CODE HERE\n",
        "# Tabular data layout\n",
        "t_data = np.random.random((num_samples, num_features))\n",
        "print(f\"Shape of array: {t_data.shape}\")"
      ]
    },
    {
      "cell_type": "markdown",
      "id": "9ea1e400",
      "metadata": {
        "id": "9ea1e400"
      },
      "source": [
        "---\n",
        "#### <span style=\"color:chocolate\">Exercise 4:</span> Image data layout (10 points)"
      ]
    },
    {
      "cell_type": "markdown",
      "id": "7c5b220a",
      "metadata": {
        "id": "7c5b220a"
      },
      "source": [
        "Create an image data layout using the numpy method <span style=\"color:chocolate\">np.random.random()</span>, where:\n",
        "\n",
        "* the first input is num_images;\n",
        "* the second input is num_rows;\n",
        "* the third input is num_cols;\n",
        "* the fourth input is num_channels.\n",
        "\n",
        "Print the shape of the array."
      ]
    },
    {
      "cell_type": "code",
      "execution_count": 5,
      "id": "9b371f29",
      "metadata": {
        "colab": {
          "base_uri": "https://localhost:8080/"
        },
        "id": "9b371f29",
        "outputId": "7e16f870-458e-4d47-909d-91f9aff3ba1d"
      },
      "outputs": [
        {
          "output_type": "stream",
          "name": "stdout",
          "text": [
            "Shape of array: (100, 256, 256, 3)\n"
          ]
        }
      ],
      "source": [
        "# already defined inputs\n",
        "num_images = 100\n",
        "num_rows = 256\n",
        "num_cols = 256\n",
        "num_channels = 3 #(RGB)\n",
        "\n",
        "# YOUR CODE HERE\n",
        "# Image data layout\n",
        "i_data = np.random.random((num_images, num_rows, num_cols, num_channels))\n",
        "print(f\"Shape of array: {i_data.shape}\")"
      ]
    },
    {
      "cell_type": "markdown",
      "id": "19d7b075",
      "metadata": {
        "id": "19d7b075"
      },
      "source": [
        "---\n",
        "#### <span style=\"color:chocolate\">Exercise 5: </span>Mathematical operations on numpy arrays (15 points)"
      ]
    },
    {
      "cell_type": "markdown",
      "id": "b88b701f",
      "metadata": {
        "id": "b88b701f"
      },
      "source": [
        "Create a (3, 2) numpy array (you can name it my_array4) containing only integer values. Perform the following tasks:\n",
        "\n",
        "1. Print the shape of the array;\n",
        "2. Print the sum of all elements (hint: the axis argument is set to None);\n",
        "3. Print the sum of all elements by column;\n",
        "3. Print the sum of all elements by row and change the type of the resulting array elements to float;\n",
        "5. Print the first row of the array;\n",
        "6. Print the second row of the array;\n",
        "7. Select the element at position (1, 0);\n",
        "8. Modify the element at position (2, 1) by setting its value to 10 and print the array again;\n",
        "9. Loop over elements in the array. Print the output."
      ]
    },
    {
      "cell_type": "code",
      "execution_count": 6,
      "id": "5efe6c22",
      "metadata": {
        "colab": {
          "base_uri": "https://localhost:8080/"
        },
        "id": "5efe6c22",
        "outputId": "291e97fd-c770-451e-8688-992b7ce77586"
      },
      "outputs": [
        {
          "output_type": "stream",
          "name": "stdout",
          "text": [
            "Shape of the array: (3, 2)\n",
            "Sum of all elements: 130\n",
            "Sum of elements by column: [76 54]\n",
            "Sum of elements by row (as float): [55. 57. 18.]\n",
            "First row: [17 38]\n",
            "Second row: [52  5]\n",
            "Element at position (1, 0): 52\n",
            "Modified array:\n",
            "[[17 38]\n",
            " [52  5]\n",
            " [ 7 10]]\n",
            "Array elements:\n",
            "17\n",
            "38\n",
            "52\n",
            "5\n",
            "7\n",
            "10\n"
          ]
        }
      ],
      "source": [
        "# YOUR CODE HERE\n",
        "# (3,2) numpy array:\n",
        "my_array4 = np.array([[17,38], [52, 5], [7, 11]])\n",
        "# 1.\n",
        "print(f\"Shape of the array: {my_array4.shape}\")\n",
        "# 2.\n",
        "print(f\"Sum of all elements: {my_array4.sum()}\")\n",
        "# 3.\n",
        "print(f\"Sum of elements by column: {my_array4.sum(axis=0)}\")\n",
        "# 4.\n",
        "print(f\"Sum of elements by row (as float): {my_array4.sum(axis=1).astype(float)}\")\n",
        "# 5.\n",
        "print(f\"First row: {my_array4[0]}\")\n",
        "# 6.\n",
        "print(f\"Second row: {my_array4[1]}\")\n",
        "# 7.\n",
        "print(f\"Element at position (1, 0): {my_array4[1, 0]}\")\n",
        "# 8.\n",
        "my_array4[2, 1] = 10\n",
        "print(f\"Modified array:\\n{my_array4}\")\n",
        "# 9.\n",
        "print(\"Array elements:\")\n",
        "for element in np.nditer(my_array4):\n",
        "    print(element)"
      ]
    },
    {
      "cell_type": "markdown",
      "id": "7a7e249a",
      "metadata": {
        "id": "7a7e249a"
      },
      "source": [
        "You can find more examples here: https://numpy.org/doc/stable/reference/routines.math.html"
      ]
    },
    {
      "cell_type": "markdown",
      "id": "7f71edb9",
      "metadata": {
        "id": "7f71edb9"
      },
      "source": [
        "---\n",
        "#### <span style=\"color:chocolate\">Exercise 6:</span> Create arrays (15 points)\n",
        "\n",
        "1. Create and print a (3,2) numpy array of pixel values between 0 and 1.\n",
        "2. Create and print a (27,) numpy array representing years from 1991 to 2017\n",
        "3. Create and print a (3, 5, 10) numpy array of zeros\n",
        "4. Create and print a (3, 5, 10) numpy array of ones\n",
        "5. Create and print an array with a constant value (let's say 5) using np.ones()\n",
        "6. Create and print an array with random numbers drawn from a normal distribution with mean 0 and standard deviation 1. Set the sample size to 10.\n"
      ]
    },
    {
      "cell_type": "code",
      "execution_count": 7,
      "id": "b1bf53cb",
      "metadata": {
        "id": "b1bf53cb",
        "outputId": "b72b5b67-e1f8-43f1-830b-b147d8e8b9d5",
        "colab": {
          "base_uri": "https://localhost:8080/"
        }
      },
      "outputs": [
        {
          "output_type": "stream",
          "name": "stdout",
          "text": [
            "(3,2) numpy array of pixel values:\n",
            "[[0.28999571 0.50818013]\n",
            " [0.47655793 0.57281228]\n",
            " [0.53403895 0.66869277]]\n",
            "\n",
            "(27,) numpy array of years:\n",
            "[1991 1992 1993 1994 1995 1996 1997 1998 1999 2000 2001 2002 2003 2004\n",
            " 2005 2006 2007 2008 2009 2010 2011 2012 2013 2014 2015 2016 2017]\n",
            "\n",
            "(3, 5, 10) numpy array of zeros:\n",
            "[[[0. 0. 0. 0. 0. 0. 0. 0. 0. 0.]\n",
            "  [0. 0. 0. 0. 0. 0. 0. 0. 0. 0.]\n",
            "  [0. 0. 0. 0. 0. 0. 0. 0. 0. 0.]\n",
            "  [0. 0. 0. 0. 0. 0. 0. 0. 0. 0.]\n",
            "  [0. 0. 0. 0. 0. 0. 0. 0. 0. 0.]]\n",
            "\n",
            " [[0. 0. 0. 0. 0. 0. 0. 0. 0. 0.]\n",
            "  [0. 0. 0. 0. 0. 0. 0. 0. 0. 0.]\n",
            "  [0. 0. 0. 0. 0. 0. 0. 0. 0. 0.]\n",
            "  [0. 0. 0. 0. 0. 0. 0. 0. 0. 0.]\n",
            "  [0. 0. 0. 0. 0. 0. 0. 0. 0. 0.]]\n",
            "\n",
            " [[0. 0. 0. 0. 0. 0. 0. 0. 0. 0.]\n",
            "  [0. 0. 0. 0. 0. 0. 0. 0. 0. 0.]\n",
            "  [0. 0. 0. 0. 0. 0. 0. 0. 0. 0.]\n",
            "  [0. 0. 0. 0. 0. 0. 0. 0. 0. 0.]\n",
            "  [0. 0. 0. 0. 0. 0. 0. 0. 0. 0.]]]\n",
            "\n",
            "(3, 5, 10) numpy array of ones:\n",
            "[[[1. 1. 1. 1. 1. 1. 1. 1. 1. 1.]\n",
            "  [1. 1. 1. 1. 1. 1. 1. 1. 1. 1.]\n",
            "  [1. 1. 1. 1. 1. 1. 1. 1. 1. 1.]\n",
            "  [1. 1. 1. 1. 1. 1. 1. 1. 1. 1.]\n",
            "  [1. 1. 1. 1. 1. 1. 1. 1. 1. 1.]]\n",
            "\n",
            " [[1. 1. 1. 1. 1. 1. 1. 1. 1. 1.]\n",
            "  [1. 1. 1. 1. 1. 1. 1. 1. 1. 1.]\n",
            "  [1. 1. 1. 1. 1. 1. 1. 1. 1. 1.]\n",
            "  [1. 1. 1. 1. 1. 1. 1. 1. 1. 1.]\n",
            "  [1. 1. 1. 1. 1. 1. 1. 1. 1. 1.]]\n",
            "\n",
            " [[1. 1. 1. 1. 1. 1. 1. 1. 1. 1.]\n",
            "  [1. 1. 1. 1. 1. 1. 1. 1. 1. 1.]\n",
            "  [1. 1. 1. 1. 1. 1. 1. 1. 1. 1.]\n",
            "  [1. 1. 1. 1. 1. 1. 1. 1. 1. 1.]\n",
            "  [1. 1. 1. 1. 1. 1. 1. 1. 1. 1.]]]\n",
            "\n",
            "Array with a constant value (5):\n",
            "[[5. 5. 5.]\n",
            " [5. 5. 5.]\n",
            " [5. 5. 5.]]\n",
            "\n",
            "Array with random numbers from normal distribution:\n",
            "[ 0.26378038  1.84100739  0.06769232 -2.13097594 -0.50118065 -0.28793625\n",
            "  0.59800247 -0.10996382 -0.48399206 -0.38879013]\n",
            "\n"
          ]
        }
      ],
      "source": [
        "# YOUR CODE HERE\n",
        "# 1:\n",
        "pixel_vals = np.random.random((3, 2))\n",
        "print(f\"(3,2) numpy array of pixel values:\\n{pixel_vals}\\n\")\n",
        "# 2:\n",
        "yearsRequested = np.arange(1991, 2018)\n",
        "print(f\"(27,) numpy array of years:\\n{yearsRequested}\\n\")\n",
        "# 3:\n",
        "zero_array = np.zeros((3, 5, 10))\n",
        "print(f\"(3, 5, 10) numpy array of zeros:\\n{zero_array}\\n\")\n",
        "# 4:\n",
        "one_array = np.ones((3, 5, 10))\n",
        "print(f\"(3, 5, 10) numpy array of ones:\\n{one_array}\\n\")\n",
        "# 5:\n",
        "five_array = np.ones((3, 3)) * 5\n",
        "print(f\"Array with a constant value (5):\\n{five_array}\\n\")\n",
        "# 6:\n",
        "rand_norm_dist_array = np.random.normal(0, 1, 10)\n",
        "print(f\"Array with random numbers from normal distribution:\\n{rand_norm_dist_array}\\n\")\n"
      ]
    },
    {
      "cell_type": "markdown",
      "id": "4fd05963",
      "metadata": {
        "id": "4fd05963"
      },
      "source": [
        "---\n",
        "#### <span style=\"color:chocolate\">Exercise 7:</span> Reshape arrays (10 points)"
      ]
    },
    {
      "cell_type": "markdown",
      "id": "e139e4eb",
      "metadata": {
        "id": "e139e4eb"
      },
      "source": [
        "Consider the following array:"
      ]
    },
    {
      "cell_type": "code",
      "execution_count": 8,
      "id": "a5a192dc",
      "metadata": {
        "id": "a5a192dc",
        "outputId": "0b47f84c-26bc-482f-a89f-9e0e3f676a3d",
        "colab": {
          "base_uri": "https://localhost:8080/"
        }
      },
      "outputs": [
        {
          "output_type": "stream",
          "name": "stdout",
          "text": [
            "(27,)\n"
          ]
        }
      ],
      "source": [
        "years = np.arange(1991, 2018, 1)\n",
        "print(years.shape)"
      ]
    },
    {
      "cell_type": "markdown",
      "id": "d3255640",
      "metadata": {
        "id": "d3255640"
      },
      "source": [
        "Perform the following operations on this array:\n",
        "    \n",
        "1. Create 3 nested arrays, each of size (3, 3). Call this array years_3d;\n",
        "2. Convert the years_3d array to a flat 1D array. Call this array years_1d;\n",
        "3. Add a new axis (in front) to the years_1d array. Call this array years_2d;\n",
        "4. Remove the first axis from years_2d array. Call this array years_1d.\n",
        "\n",
        "For each exercise print the array and its shape."
      ]
    },
    {
      "cell_type": "code",
      "execution_count": 11,
      "id": "ab18878a",
      "metadata": {
        "id": "ab18878a",
        "outputId": "69319d30-b758-4fe7-9ab2-0af94c0a78dd",
        "colab": {
          "base_uri": "https://localhost:8080/"
        }
      },
      "outputs": [
        {
          "output_type": "stream",
          "name": "stdout",
          "text": [
            "3D array (years_3d):\n",
            "[[[1991 1992 1993]\n",
            "  [1994 1995 1996]\n",
            "  [1997 1998 1999]]\n",
            "\n",
            " [[2000 2001 2002]\n",
            "  [2003 2004 2005]\n",
            "  [2006 2007 2008]]\n",
            "\n",
            " [[2009 2010 2011]\n",
            "  [2012 2013 2014]\n",
            "  [2015 2016 2017]]]\n",
            "Shape: (3, 3, 3)\n",
            "\n",
            "1D array (years_1d):\n",
            "[1991 1992 1993 1994 1995 1996 1997 1998 1999 2000 2001 2002 2003 2004\n",
            " 2005 2006 2007 2008 2009 2010 2011 2012 2013 2014 2015 2016 2017]\n",
            "Shape: (27,)\n",
            "\n",
            "2D array (years_2d):\n",
            "[[1991 1992 1993 1994 1995 1996 1997 1998 1999 2000 2001 2002 2003 2004\n",
            "  2005 2006 2007 2008 2009 2010 2011 2012 2013 2014 2015 2016 2017]]\n",
            "Shape: (1, 27)\n",
            "\n",
            "1D array (years_1d):\n",
            "[1991 1992 1993 1994 1995 1996 1997 1998 1999 2000 2001 2002 2003 2004\n",
            " 2005 2006 2007 2008 2009 2010 2011 2012 2013 2014 2015 2016 2017]\n",
            "Shape: (27,)\n"
          ]
        }
      ],
      "source": [
        "# YOUR CODE HERE\n",
        "\n",
        "# 1:\n",
        "years_3d = years.reshape((3, 3, 3))\n",
        "print(f\"3D array (years_3d):\\n{years_3d}\\nShape: {years_3d.shape}\\n\")\n",
        "# 2:\n",
        "years_1d = years_3d.flatten()\n",
        "print(f\"1D array (years_1d):\\n{years_1d}\\nShape: {years_1d.shape}\\n\")\n",
        "# 3:\n",
        "years_2d = years_1d[np.newaxis, :]\n",
        "print(f\"2D array (years_2d):\\n{years_2d}\\nShape: {years_2d.shape}\\n\")\n",
        "# 4:\n",
        "years_1d_again = np.squeeze(years_2d, axis=0)\n",
        "print(f\"1D array (years_1d):\\n{years_1d_again}\\nShape: {years_1d_again.shape}\")\n"
      ]
    },
    {
      "cell_type": "markdown",
      "id": "6a3a4011",
      "metadata": {
        "id": "6a3a4011"
      },
      "source": [
        "---\n",
        "#### <span style=\"color:chocolate\">Exercise 8:</span> Joining arrays (10 points)"
      ]
    },
    {
      "cell_type": "markdown",
      "id": "5382a84a",
      "metadata": {
        "id": "5382a84a"
      },
      "source": [
        "Provide 8 examples that use the methods <span style=\"color:cornflowerBlue\">np.concatenate()</span> and <span style=\"color:cornflowerBlue\">np.stack()</span>. Note: create 4 examples using each method."
      ]
    },
    {
      "cell_type": "code",
      "execution_count": 15,
      "id": "a9c2ff1a",
      "metadata": {
        "id": "a9c2ff1a",
        "outputId": "06ad4925-6b47-4ddb-8ddf-db52871b6886",
        "colab": {
          "base_uri": "https://localhost:8080/"
        }
      },
      "outputs": [
        {
          "output_type": "stream",
          "name": "stdout",
          "text": [
            "1:\n",
            "[1 2 2 1]\n",
            "2:\n",
            "[[  1   2]\n",
            " [  4   8]\n",
            " [ 16  32]\n",
            " [ 64 128]]\n",
            "3:\n",
            "[[  1   2  16  32]\n",
            " [  4   8  64 128]]\n",
            "4:\n",
            "[[[0.35354353 0.58715686 0.64911593 0.16244487 0.23872777 0.12908947\n",
            "   0.98259119 0.75635266 0.84474699 0.84465883 0.04277737 0.90889542]\n",
            "  [0.84284981 0.94262884 0.95039543 0.82807922 0.15788159 0.85140441\n",
            "   0.28159142 0.70246461 0.07096768 0.8527092  0.27371577 0.60367746]\n",
            "  [0.45614228 0.75017989 0.31063409 0.5042826  0.39619668 0.52472513\n",
            "   0.82971078 0.87382325 0.74394213 0.45313367 0.15756392 0.49007212]\n",
            "  [0.8812703  0.91023243 0.41204758 0.80021094 0.82660331 0.03153012\n",
            "   0.23183434 0.74751703 0.01771938 0.63575321 0.48111255 0.60543398]]\n",
            "\n",
            " [[0.22125619 0.66340691 0.67361211 0.36070501 0.6362283  0.07735934\n",
            "   0.08603418 0.42883772 0.7625636  0.18549162 0.05759208 0.60325052]\n",
            "  [0.99468216 0.47791182 0.08019933 0.30393191 0.90942602 0.78260115\n",
            "   0.36048459 0.74298579 0.36609672 0.1611367  0.4221189  0.77239536]\n",
            "  [0.55261666 0.31239778 0.41872193 0.49488037 0.19631618 0.77778567\n",
            "   0.11429062 0.30202237 0.56922628 0.63109708 0.97978595 0.79205136]\n",
            "  [0.76378694 0.36457219 0.0496736  0.44089813 0.77034406 0.2303201\n",
            "   0.22666318 0.91335619 0.4290077  0.20090075 0.71354685 0.84406192]]]\n",
            "1:\n",
            "[[1 2]\n",
            " [2 1]]\n",
            "2:\n",
            "[[[  1   2]\n",
            "  [  4   8]]\n",
            "\n",
            " [[ 16  32]\n",
            "  [ 64 128]]]\n",
            "3:\n",
            "[[[  1   2]\n",
            "  [ 16  32]]\n",
            "\n",
            " [[  4   8]\n",
            "  [ 64 128]]]\n",
            "4:\n",
            "[[[[0.35354353 0.58715686 0.64911593 0.16244487 0.23872777 0.12908947]\n",
            "   [0.98259119 0.75635266 0.84474699 0.84465883 0.04277737 0.90889542]]\n",
            "\n",
            "  [[0.84284981 0.94262884 0.95039543 0.82807922 0.15788159 0.85140441]\n",
            "   [0.28159142 0.70246461 0.07096768 0.8527092  0.27371577 0.60367746]]\n",
            "\n",
            "  [[0.45614228 0.75017989 0.31063409 0.5042826  0.39619668 0.52472513]\n",
            "   [0.82971078 0.87382325 0.74394213 0.45313367 0.15756392 0.49007212]]\n",
            "\n",
            "  [[0.8812703  0.91023243 0.41204758 0.80021094 0.82660331 0.03153012]\n",
            "   [0.23183434 0.74751703 0.01771938 0.63575321 0.48111255 0.60543398]]]\n",
            "\n",
            "\n",
            " [[[0.22125619 0.66340691 0.67361211 0.36070501 0.6362283  0.07735934]\n",
            "   [0.08603418 0.42883772 0.7625636  0.18549162 0.05759208 0.60325052]]\n",
            "\n",
            "  [[0.99468216 0.47791182 0.08019933 0.30393191 0.90942602 0.78260115]\n",
            "   [0.36048459 0.74298579 0.36609672 0.1611367  0.4221189  0.77239536]]\n",
            "\n",
            "  [[0.55261666 0.31239778 0.41872193 0.49488037 0.19631618 0.77778567]\n",
            "   [0.11429062 0.30202237 0.56922628 0.63109708 0.97978595 0.79205136]]\n",
            "\n",
            "  [[0.76378694 0.36457219 0.0496736  0.44089813 0.77034406 0.2303201 ]\n",
            "   [0.22666318 0.91335619 0.4290077  0.20090075 0.71354685 0.84406192]]]]\n"
          ]
        }
      ],
      "source": [
        "# YOUR CODE HERE\n",
        "\n",
        "# Examples using np.concatenate()\n",
        "\n",
        "# 1. Concatenating 1D arrays along default axis:\n",
        "array_1 = np.array([1, 2])\n",
        "array_2 = np.array([2, 1])\n",
        "print(f\"1:\\n{np.concatenate((array_1, array_2))}\")\n",
        "\n",
        "# 2. Concatenating 2D arrays along axis 0:\n",
        "array_3 = np.array([[1, 2], [4, 8]])\n",
        "array_4 = np.array([[16, 32], [64, 128]])\n",
        "print(f\"2:\\n{np.concatenate((array_3, array_4), axis=0)}\")\n",
        "\n",
        "# 3. Concatenating 2D arrays along axis 1:\n",
        "print(f\"3:\\n{np.concatenate((array_3, array_4), axis=1)}\")\n",
        "\n",
        "# 4. Concatenating 3D arrays along axis 2:\n",
        "array_5 = np.random.random((2, 4, 6))\n",
        "array_6 = np.random.random((2, 4, 6))\n",
        "print(f\"4:\\n{np.concatenate((array_5, array_6), axis=2)}\")\n",
        "\n",
        "# Examples using np.stack()\n",
        "\n",
        "# 1. Stacking 1D arrays above on default axis:\n",
        "print(f\"1:\\n{np.stack((array_1,array_2))}\")\n",
        "\n",
        "# 2. Stacking 2D arrays above on default axis:\n",
        "print(f\"2:\\n{np.stack((array_3,array_4))}\")\n",
        "\n",
        "# 3. Stacking 2D arrays above on axis 1:\n",
        "print(f\"3:\\n{np.stack((array_3,array_4), axis=1)}\")\n",
        "\n",
        "# 4. Stacking 3D arrays above on axis 2:\n",
        "print(f\"4:\\n{np.stack((array_5,array_6), axis=2)}\")\n"
      ]
    },
    {
      "cell_type": "markdown",
      "id": "7780b5b8",
      "metadata": {
        "id": "7780b5b8"
      },
      "source": [
        "---\n",
        "#### <span style=\"color:chocolate\">Numpy broadcasting</span>"
      ]
    },
    {
      "cell_type": "markdown",
      "id": "d105a999",
      "metadata": {
        "id": "d105a999"
      },
      "source": [
        "The term broadcasting describes how NumPy treats arrays during arithmetic operations. You can find more here:  https://numpy.org/doc/stable/user/basics.broadcasting.html"
      ]
    },
    {
      "cell_type": "code",
      "execution_count": 16,
      "id": "ce9ca817",
      "metadata": {
        "id": "ce9ca817",
        "outputId": "f2fd6800-a6ac-4732-b0fb-6b79787d25c2",
        "colab": {
          "base_uri": "https://localhost:8080/"
        }
      },
      "outputs": [
        {
          "output_type": "execute_result",
          "data": {
            "text/plain": [
              "array([1991, 1992, 1993, 1994, 1995, 1996, 1997, 1998, 1999, 2000, 2001,\n",
              "       2002, 2003, 2004, 2005, 2006, 2007, 2008, 2009, 2010, 2011, 2012,\n",
              "       2013, 2014, 2015, 2016, 2017])"
            ]
          },
          "metadata": {},
          "execution_count": 16
        }
      ],
      "source": [
        "# multiplying an array with a scalar\n",
        "years = np.arange(1991, 2018, 1)\n",
        "years * 1"
      ]
    },
    {
      "cell_type": "code",
      "execution_count": 17,
      "id": "d2150eb6",
      "metadata": {
        "id": "d2150eb6",
        "outputId": "5013767b-e4bd-4b78-d27c-31c5f25da0d3",
        "colab": {
          "base_uri": "https://localhost:8080/"
        }
      },
      "outputs": [
        {
          "output_type": "execute_result",
          "data": {
            "text/plain": [
              "array([1993, 1994, 1995, 1996, 1997, 1998, 1999, 2000, 2001, 2002, 2003,\n",
              "       2004, 2005, 2006, 2007, 2008, 2009, 2010, 2011, 2012, 2013, 2014,\n",
              "       2015, 2016, 2017, 2018, 2019])"
            ]
          },
          "metadata": {},
          "execution_count": 17
        }
      ],
      "source": [
        "# adding a scalar\n",
        "years + 2"
      ]
    },
    {
      "cell_type": "code",
      "execution_count": 18,
      "id": "d7319a34",
      "metadata": {
        "id": "d7319a34",
        "outputId": "a2a69ac1-7dba-4f3d-d0ad-835844fd0644",
        "colab": {
          "base_uri": "https://localhost:8080/"
        }
      },
      "outputs": [
        {
          "output_type": "stream",
          "name": "stdout",
          "text": [
            "Array a: [0 1 2]\n",
            "Array b: [0 1 2]\n",
            "Sum of a and b: [0 2 4]\n"
          ]
        }
      ],
      "source": [
        "# many arithmetic operations are applied element wise on a pair of arrays\n",
        "a = np.arange(3)\n",
        "print('Array a:', a)\n",
        "b = np.arange(3)\n",
        "print('Array b:', b)\n",
        "print('Sum of a and b:', a+b)"
      ]
    },
    {
      "cell_type": "code",
      "execution_count": 19,
      "id": "44ac94cd",
      "metadata": {
        "id": "44ac94cd",
        "outputId": "d963397f-6e37-4fb2-db77-271de0c0a9e5",
        "colab": {
          "base_uri": "https://localhost:8080/"
        }
      },
      "outputs": [
        {
          "output_type": "stream",
          "name": "stdout",
          "text": [
            "Array a: [[1. 1. 1.]\n",
            " [1. 1. 1.]\n",
            " [1. 1. 1.]]\n",
            "\n",
            "Array b: [0 1 2]\n",
            "\n",
            "Sum of a and b: [[1. 2. 3.]\n",
            " [1. 2. 3.]\n",
            " [1. 2. 3.]]\n"
          ]
        }
      ],
      "source": [
        "# another example\n",
        "a = np.ones((3, 3))\n",
        "print('Array a:', a)\n",
        "b = np.arange(3)\n",
        "print('\\nArray b:', b)\n",
        "print('\\nSum of a and b:', a+b)"
      ]
    },
    {
      "cell_type": "markdown",
      "id": "85e7d3c8",
      "metadata": {
        "id": "85e7d3c8"
      },
      "source": [
        "---\n",
        "#### <span style=\"color:chocolate\">Exercise 9:</span> Numpy array standardization (10 points)"
      ]
    },
    {
      "cell_type": "markdown",
      "id": "9bccc9d7",
      "metadata": {
        "id": "9bccc9d7"
      },
      "source": [
        "Consider the following (10, 4) array:"
      ]
    },
    {
      "cell_type": "code",
      "execution_count": 20,
      "id": "02a2102e",
      "metadata": {
        "id": "02a2102e",
        "outputId": "af6b7f67-4cd5-4c3f-de0e-8d4631d1f22f",
        "colab": {
          "base_uri": "https://localhost:8080/"
        }
      },
      "outputs": [
        {
          "output_type": "stream",
          "name": "stdout",
          "text": [
            "my_array shape:  (10, 4)\n"
          ]
        },
        {
          "output_type": "execute_result",
          "data": {
            "text/plain": [
              "array([[0.45102794, 0.78001688, 0.3805665 , 0.92455946],\n",
              "       [0.58596166, 0.59393691, 0.5562861 , 0.30213463],\n",
              "       [0.19538147, 0.65703229, 0.48165841, 0.93478967],\n",
              "       [0.68428764, 0.09074412, 0.87486992, 0.69911098],\n",
              "       [0.75810387, 0.13179992, 0.73931009, 0.2134566 ],\n",
              "       [0.01380833, 0.0723283 , 0.93032944, 0.63753396],\n",
              "       [0.92615431, 0.12648165, 0.85121036, 0.37766568],\n",
              "       [0.78959715, 0.77076385, 0.17782148, 0.32149885],\n",
              "       [0.15789916, 0.2008389 , 0.52501348, 0.85360888],\n",
              "       [0.29841463, 0.98516275, 0.46609103, 0.09164694]])"
            ]
          },
          "metadata": {},
          "execution_count": 20
        }
      ],
      "source": [
        "my_array = np.random.random((10, 4))\n",
        "print('my_array shape: ', my_array.shape)\n",
        "my_array"
      ]
    },
    {
      "cell_type": "markdown",
      "id": "c505935d",
      "metadata": {
        "id": "c505935d"
      },
      "source": [
        "Peform the following operations on this array:\n",
        "1. Compute and print the mean and std for each column (note: set keepdims=True for proper broadcasting).\n",
        "2. Standardize and print the array and its shape using the mean and std you computed above."
      ]
    },
    {
      "cell_type": "code",
      "execution_count": 21,
      "id": "5a88c63d",
      "metadata": {
        "id": "5a88c63d",
        "outputId": "67a5bf75-0a24-4674-a190-8cce28deb617",
        "colab": {
          "base_uri": "https://localhost:8080/"
        }
      },
      "outputs": [
        {
          "output_type": "stream",
          "name": "stdout",
          "text": [
            "\n",
            "Column means:\n",
            " [[0.48606362 0.44091056 0.59831568 0.53560057]]\n",
            "Column stds:\n",
            " [[0.29338429 0.33176063 0.23087065 0.29581366]]\n",
            "\n",
            "Standardized array:\n",
            " [[-1.2057193  -0.54898518 -2.2109958  -0.88604176]\n",
            " [-1.07078558 -0.73506515 -2.0352762  -1.50846659]\n",
            " [-1.46136577 -0.67196978 -2.10990389 -0.87581155]\n",
            " [-0.97245961 -1.23825794 -1.71669238 -1.11149023]\n",
            " [-0.89864338 -1.19720214 -1.85225221 -1.59714462]\n",
            " [-1.64293892 -1.25667376 -1.66123285 -1.17306726]\n",
            " [-0.73059294 -1.20252041 -1.74035194 -1.43293553]\n",
            " [-0.86715009 -0.55823821 -2.41374082 -1.48910236]\n",
            " [-1.49884809 -1.12816317 -2.06654881 -0.95699233]\n",
            " [-1.35833262 -0.34383932 -2.12547126 -1.71895427]]\n",
            "Standardized array shape: (10, 4)\n"
          ]
        }
      ],
      "source": [
        "# YOUR CODE HERE\n",
        "\n",
        "# 1:\n",
        "means = np.mean(my_array, axis=0, keepdims=True)\n",
        "stds = np.std(my_array, axis=0, keepdims=True)\n",
        "print('\\nColumn means:\\n', means)\n",
        "print('Column stds:\\n', stds)\n",
        "\n",
        "# 2:\n",
        "standardized = (my_array - means/stds)\n",
        "print('\\nStandardized array:\\n', standardized)\n",
        "print('Standardized array shape:', standardized.shape)\n"
      ]
    },
    {
      "cell_type": "markdown",
      "id": "ebe2eaa0",
      "metadata": {
        "id": "ebe2eaa0"
      },
      "source": [
        "----\n",
        "#### <span style=\"color:chocolate\">Additional practice question</span> (not graded)"
      ]
    },
    {
      "cell_type": "markdown",
      "id": "d43bdaa7",
      "metadata": {
        "id": "d43bdaa7"
      },
      "source": [
        "Consider the following image:"
      ]
    },
    {
      "cell_type": "code",
      "execution_count": 25,
      "id": "e7c61c06",
      "metadata": {
        "id": "e7c61c06",
        "outputId": "85772aa6-4ff5-455e-9952-84c3f5413246",
        "colab": {
          "base_uri": "https://localhost:8080/"
        }
      },
      "outputs": [
        {
          "output_type": "stream",
          "name": "stdout",
          "text": [
            "[[0.   0.04 0.08 0.12 0.16]\n",
            " [0.2  0.24 0.28 0.32 0.36]\n",
            " [0.4  0.44 0.48 0.52 0.56]\n",
            " [0.6  0.64 0.68 0.72 0.76]\n",
            " [0.8  0.84 0.88 0.92 0.96]]\n"
          ]
        },
        {
          "output_type": "execute_result",
          "data": {
            "text/plain": [
              "(5, 5)"
            ]
          },
          "metadata": {},
          "execution_count": 25
        }
      ],
      "source": [
        "my_image = np.arange(0, 1, 0.04).reshape(5,5)\n",
        "print(my_image)\n",
        "my_image.shape"
      ]
    },
    {
      "cell_type": "markdown",
      "id": "78f029bd",
      "metadata": {
        "id": "78f029bd"
      },
      "source": [
        "Perform the following operations on this image (do not overwrite the original image):\n",
        "\n",
        "1. Crop by using a border of size 1;\n",
        "2. Crop by removing:\n",
        "    * the first and the last two rows, and\n",
        "    * the first and the last two columns;\n",
        "3. Reverse the column order;\n",
        "4. set to 0.5 elements divizible by 2."
      ]
    },
    {
      "cell_type": "code",
      "execution_count": 32,
      "id": "d7dadfcf",
      "metadata": {
        "id": "d7dadfcf",
        "outputId": "926e70c7-13c9-4349-c28c-a687149586c2",
        "colab": {
          "base_uri": "https://localhost:8080/"
        }
      },
      "outputs": [
        {
          "output_type": "stream",
          "name": "stdout",
          "text": [
            "\n",
            "Image cropped with a border of size 1:\n",
            " [[0.24 0.28 0.32]\n",
            " [0.44 0.48 0.52]\n",
            " [0.64 0.68 0.72]]\n",
            "\n",
            "Image cropped by removing first and last two rows/columns:\n",
            " [[0.48]]\n",
            "\n",
            "Image with reversed column order:\n",
            " [[0.16 0.12 0.08 0.04 0.5 ]\n",
            " [0.36 0.32 0.28 0.24 0.2 ]\n",
            " [0.56 0.52 0.48 0.44 0.4 ]\n",
            " [0.76 0.72 0.68 0.64 0.6 ]\n",
            " [0.96 0.92 0.88 0.84 0.8 ]]\n",
            "\n",
            "Image with elements divisible by 2 set to 0.5:\n",
            " [[0.5  0.04 0.08 0.12 0.16]\n",
            " [0.2  0.24 0.28 0.32 0.36]\n",
            " [0.4  0.44 0.48 0.52 0.56]\n",
            " [0.6  0.64 0.68 0.72 0.76]\n",
            " [0.8  0.84 0.88 0.92 0.96]]\n"
          ]
        }
      ],
      "source": [
        "# YOUR CODE HERE\n",
        "\n",
        "# 1.\n",
        "border_crop = my_image[1:-1, 1:-1]\n",
        "print(\"\\nImage cropped with a border of size 1:\\n\", border_crop)\n",
        "\n",
        "# 2.\n",
        "crop_2 = my_image[2:-2, 2:-2]\n",
        "print(\"\\nImage cropped by removing first and last two rows/columns:\\n\", crop_2)\n",
        "\n",
        "# 3.\n",
        "reversed_columns = my_image[:, ::-1]\n",
        "print(\"\\nImage with reversed column order:\\n\", reversed_columns)\n",
        "\n",
        "# 4. I don't really understand instructions but this is my guess:\n",
        "mod_image = my_image.copy()\n",
        "mod_image[mod_image % 2 == 0] = 0.5\n",
        "print(\"\\nImage with elements divisible by 2 set to 0.5:\\n\", mod_image)"
      ]
    },
    {
      "cell_type": "code",
      "source": [],
      "metadata": {
        "id": "pPfBAuCDj-Id"
      },
      "id": "pPfBAuCDj-Id",
      "execution_count": null,
      "outputs": []
    }
  ],
  "metadata": {
    "kernelspec": {
      "display_name": "Python 3 (ipykernel)",
      "language": "python",
      "name": "python3"
    },
    "language_info": {
      "codemirror_mode": {
        "name": "ipython",
        "version": 3
      },
      "file_extension": ".py",
      "mimetype": "text/x-python",
      "name": "python",
      "nbconvert_exporter": "python",
      "pygments_lexer": "ipython3",
      "version": "3.12.4"
    },
    "colab": {
      "provenance": [],
      "toc_visible": true
    }
  },
  "nbformat": 4,
  "nbformat_minor": 5
}